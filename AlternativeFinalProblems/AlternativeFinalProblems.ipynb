{
 "cells": [
  {
   "cell_type": "markdown",
   "metadata": {},
   "source": [
    "#Alternative Final Exam Questions"
   ]
  },
  {
   "cell_type": "markdown",
   "metadata": {},
   "source": [
    "As mentioned in class, you can replace <u>two</u> of the basic dataset problems in the Final Exam\n",
    "with a \"Spark\" project. \n",
    "\n",
    "In these alternative project, you can take any of the chapters listed below from the book <i>Advanced Analytics with Spark</i>, and develop:\n",
    "<ul>\n",
    "<li>a working IPython notebook that implements the analysis described in the chapter in Python, using a subset (down-sampled) version of the datset</li><br/>\n",
    "<li>an implementation in Spark like the sketch provided in the book.</li><br/>\n",
    "</ul>\n",
    "There is no Mooshak analysis for these projects; simply upload your notebook on CCLE.\n"
   ]
  },
  {
   "cell_type": "markdown",
   "metadata": {},
   "source": [
    "#Projects in: Advanced Analytics with Spark\n",
    "\n",
    "The new book <a href=\"https://www.safaribooksonline.com/library/view/advanced-analytics-with/9781491912751/\">Advanced Analytics with Spark</a>, by S. Ryza, U. Laserson, S. Owen, J. Wills (O'Reilly, 2015) has ten chapters with large, interesting datasets and corresponding data science projects.\n",
    "\n",
    "<a href=\"https://github.com/sryza/aas\">Code to accompany Advanced Analytics with Spark from O'Reilly Media</a>\n",
    "is on GitHub in\n",
    "<a href=\"https://github.com/sryza/aas\">https://github.com/sryza/aas</a>.\n",
    "\n",
    "See also <a href=\"https://travis-ci.org/sryza/aas\">https://travis-ci.org/sryza/aas</a>\n",
    "<br/><br/>"
   ]
  },
  {
   "cell_type": "markdown",
   "metadata": {},
   "source": [
    "##UCLA has open Access to all O'Reilly books\n",
    "\n",
    "You should have open access to this book through <a href=\"http://proquest.safaribooksonline.com\">Safari</a>,\n",
    "O’Reilly’s online access portal.\n",
    "\n",
    "Inside the ucla.edu domain, you can go to the page\n",
    "<a href=\"http://www.library.ucla.edu/location/science-engineering-library/e-books-reference-sources\">http://www.library.ucla.edu/location/science-engineering-library/e-books-reference-sources</a>\n",
    "and scroll down to the link <b>Safari Technical Books Online for Programmers (O’Reilly)</b>. Clicking this should get you in.\n",
    "\n",
    "This and other access information is in the course syllabus.\n",
    "\n",
    "<b>IMPORTANT</b>: it may matter whether you are connected to UCLA with VPN.\n",
    "Make sure you are appropriately inside the ucle.edu domain.\n",
    "If you have problems connecting, please check with the <a href=\"http://www.library.ucla.edu/sel\">SEL librarians in Boelter</a>.\n",
    "\n",
    "<b>ALSO</b>:  please disconnect from Safari when you're not using it,\n",
    "there used to be a limit on the number of active users connected at any given time."
   ]
  },
  {
   "cell_type": "markdown",
   "metadata": {},
   "source": [
    "#Chapters and Datasets in the Book"
   ]
  },
  {
   "cell_type": "markdown",
   "metadata": {},
   "source": [
    "The book has the following chapters:\n",
    "<ul>\n",
    "\n",
    "<li><b>Chapter 2: Introduction to Scala and Spark</b><br/>\n",
    "Dataset:  <a href=\" https://archive.ics.uci.edu/ml/machine-learning-databases/00210/\">Federal Election\n",
    "Commission dataset of contributions to candidates in the 2012 US Presidential Election</a> (54MB .zip file).<br/>\n",
    "Project: data exploration (summary statistics, feature selection).\n",
    "<br/>\n",
    "GitHub site: <a href=\"https://github.com/sryza/aas/tree/master/ch02-intro\">https://github.com/sryza/aas/tree/master/ch02-intro</a><br/><br/>\n",
    "</li>\n",
    "\n",
    "<li><b>Chapter 3: Recommending Music and the Audioscrobbler Data Set</b><br/>\n",
    "Dataset: <a href=\"http://www-etud.iro.umontreal.ca/~bergstrj/audioscrobbler_data.html\">Audioscrobbler repository</a> (135MB .tar.gz file, 500MB uncompressed).<br/>\n",
    "Project: Recommender system using Nonnegative Matrix Factorization (by Alternating Least Squares).<br/>\n",
    "GitHub site: <a href=\"https://github.com/sryza/aas/tree/master/ch03-recommender\">https://github.com/sryza/aas/tree/master/ch03-recommender</a><br/><br/>\n",
    "</li>\n",
    "\n",
    "<li><b>Chapter 4: Predicting Forest Cover with Decision Trees</b><br/>\n",
    "Dataset: <a href=\"https://archive.ics.uci.edu/ml/machine-learning-databases/covtype/\">covtype data</a> (11MB .data.gz file)<br/>\n",
    "Project: Developing Random Forest Classifiers with Grid Search<br/>\n",
    "GitHub site: <a href=\"https://github.com/sryza/aas/tree/master/ch04-rdf\">https://github.com/sryza/aas/tree/master/ch04-rdf</a><br/><br/>\n",
    "</li>\n",
    "\n",
    "<li><b>Chapter 5: Anomaly Detection in Network Traffic using K-means Clustering</b><br/>\n",
    "Dataset: <a href=\"http://kdd.ics.uci.edu/databases/kddcup99/kddcup99.html\">KDD Cup 1999</a> (743MB .gz file for all data)<br/>\n",
    "Project: Intrusion detection by identifying unusual patterns via clustering<br/>\n",
    "GitHub site: <a href=\"https://github.com/sryza/aas/tree/master/ch05-rdf\">https://github.com/sryza/aas/tree/master/ch05-rdf</a><br/><br/>\n",
    "</li>\n",
    "\n",
    "<li><b>Chapter 5: Anomaly Detection in Network Traffic using K-means Clustering</b><br/>\n",
    "Dataset: <a href=\"http://kdd.ics.uci.edu/databases/kddcup99/kddcup99.html\">KDD Cup 1999</a> (743MB .gz file for all data)<br/>\n",
    "Project: Developing Random Forest Classifiers with Grid Search<br/>\n",
    "GitHub site: <a href=\"https://github.com/sryza/aas/tree/master/ch05-kmeans\">https://github.com/sryza/aas/tree/master/ch05-kmeans</a><br/><br/>\n",
    "</li>\n",
    "\n",
    "<li><b>Chapter 6: Understanding Wikipedia with Latent Semantic Analysis</b><br/>\n",
    "Dataset: <a href=\"http://dumps.wikimedia.org/enwiki/20150112/enwiki-20150112-pages-articles-multistream.xml.bz2\">Wikipedia dump file</a> (very large .xml.bz2 file)<br/>\n",
    "Project: Term-Document analysis using the SVD<br/>\n",
    "GitHub site: <a href=\"https://github.com/sryza/aas/tree/master/ch06-lsa\">https://github.com/sryza/aas/tree/master/ch06-lsa</a><br/><br/>\n",
    "</li>\n",
    "\n",
    "<li><b>Chapter 7: Analyzing Co-occurrence Networks with GraphX</b><br/>\n",
    "Dataset: <a href=\"ftp://ftp.nlm.nih.gov/nlmdata/sample/medline/\">NIH PubMed/MEDLINE recent publications</a> (eight 20MB .xml.gz files)<br/>\n",
    "Project: Small-World graph analysis of term co-occurrence data in biomedical publications<br/>\n",
    "GitHub site: <a href=\"https://github.com/sryza/aas/tree/master/ch07-graph\">https://github.com/sryza/aas/tree/master/ch07-graph</a><br/><br/>\n",
    "</li>\n",
    "\n",
    "<li><b>Chapter 8: Geospatial and Temporal analysis of New York City Taxi Trip Data</b><br/>\n",
    "Dataset: <a href=\"http://www.andresmh.com/nyctaxitrips/\">trip data and trip fares, in 12 installments</a> (24 large .csv.zip files)<br/>\n",
    "Project: Geospatial analysis of patterns in taxi trips<br/>\n",
    "GitHub site: <a href=\"https://github.com/sryza/aas/tree/master/ch08-geotime\">https://github.com/sryza/aas/tree/master/ch08-geotime</a><br/><br/>\n",
    "</li>\n",
    "\n",
    "<li><b>Chapter 9: Estimating Financial Risk through Monte Carlo Simulations</b><br/>\n",
    "Dataset: retrieval script <a href=\"https://github.com/sryza/aas/tree/master/ch09-risk/data/download-all-symbols.sh\">shell script for retrieval of stock data</a> (large ascii download)<br/>\n",
    "Project: Measuring Value at Risk (VaR) and Variance with Monte Carlo analysis<br/>\n",
    "GitHub site: <a href=\"https://github.com/sryza/aas/tree/master/ch09-risk\">https://github.com/sryza/aas/tree/master/ch09-risk</a><br/><br/>\n",
    "</li>\n",
    "\n",
    "<li><b>Chapter 10: Analyzing Genomics Data and the BDG Project</b><br/>\n",
    "Dataset: <a href=\"ftp://ftp-trace.ncbi.nih.gov/1000genomes/ftp/data/HG00106/alignment/HG00106.mapped.ILLUMINA.bwa.GBR.low_coverage.20120522.bam.csra\">complete genome for one subject</a> (3.7GB)<br/>\n",
    "Project: Querying genotypes from the 1000 Genomes project<br/>\n",
    "GitHub site: <a href=\"https://github.com/sryza/aas/tree/master/ch10-genomics\">https://github.com/sryza/aas/tree/master/ch10-genomics</a><br/><br/>\n",
    "</li>\n",
    "\n",
    "<li><b>Chapter 11: Analyzing Neuroimaging Data with PySpark and Thunder</b><br/>\n",
    "Dataset: <a href=\"https://github.com/thunder-project/thunder/tree/v0.4.1/python/thunder/utils/data/fish/tif-stack\">set of .tif images of zebrafish brains</a> (small)<br/>\n",
    "Project: Categorizing neuron types with the Thunder platform<br/>\n",
    "GitHub site: <a href=\"https://github.com/sryza/aas/tree/master/ch11-neuro\">https://github.com/sryza/aas/tree/master/ch11-neuro</a><br/><br/>\n",
    "</li>\n",
    "\n",
    "\n",
    "</ul>"
   ]
  },
  {
   "cell_type": "code",
   "execution_count": null,
   "metadata": {
    "collapsed": true
   },
   "outputs": [],
   "source": []
  }
 ],
 "metadata": {
  "kernelspec": {
   "display_name": "Python 2",
   "language": "python",
   "name": "python2"
  },
  "language_info": {
   "codemirror_mode": {
    "name": "ipython",
    "version": 2
   },
   "file_extension": ".py",
   "mimetype": "text/x-python",
   "name": "python",
   "nbconvert_exporter": "python",
   "pygments_lexer": "ipython2",
   "version": "2.7.9"
  }
 },
 "nbformat": 4,
 "nbformat_minor": 0
}
