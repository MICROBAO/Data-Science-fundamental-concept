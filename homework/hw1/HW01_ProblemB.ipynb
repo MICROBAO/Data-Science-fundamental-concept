{
 "metadata": {
  "name": "",
  "signature": "sha256:9bf7c89f28a6cd1cbaa1719c16addb8d5361fa20a614763685fc3989a8d4fc20"
 },
 "nbformat": 3,
 "nbformat_minor": 0,
 "worksheets": [
  {
   "cells": [
    {
     "cell_type": "markdown",
     "metadata": {},
     "source": [
      "#Problem:  Maximum Likelihood Fit for the $\\chi$ Distribution"
     ]
    },
    {
     "cell_type": "markdown",
     "metadata": {},
     "source": [
      "##Maximum Likelihood -- definition"
     ]
    },
    {
     "cell_type": "markdown",
     "metadata": {},
     "source": [
      "A random variable $x$  has some underlying probability distribution.  The pdf $f(z)$ for\n",
      "this distribution usually depends on some parameters.  If we call these parameters \"$\\theta$\"\n",
      "we can write the pdf as  $f(z,\\theta)$ or  $f(z\\mid\\theta)$.\n",
      "\n",
      "There can be multiple parameters, so $\\theta$ can be a vector, and it is perfectly fine to have\n",
      "$\\theta = (\\theta_1, \\theta_2)$ for example.\n",
      "\n",
      "Here $f(z\\mid\\theta)$\n",
      "reflects the probability of observing a given value $z$ for the random variable $x$.\n",
      "Estimation is the process of finding values for the parameters $\\theta$,\n",
      "given some observations $x_1$, ..., $x_n$.\n",
      "\n",
      "In <b>Maximum Likelihood Estimation</b>,\n",
      "the idea is to find the value of $\\theta$\n",
      "that maximizes the likelihood of the observations $x_1$, ..., $x_n$  having been observed.\n",
      "\n",
      "Although  $f(z\\mid\\theta)$ reflects the probability of observing a given value $z$ for $x$,\n",
      "if we plug in the actually observed value $x_i$  then  $f(x_i\\mid\\theta)$\n",
      "is not really a \"probability\".\n",
      "R.A. Fisher called  $f(x_i \\mid \\theta)$\n",
      "the <b>likelihood</b>  of observing $x_i$.\n",
      "We want to find the\n",
      "value of $\\theta$ that maximizes the likelihood function\n",
      "\n",
      "$$likelihood({x_1,...,x_n}) ~~=~~ \\prod_{i=1}^n ~ f(x_i,\\theta) .$$\n",
      "\n",
      "The value of $\\theta$ that maximizes this function is called the\n",
      "<b>maximum likelihood estimate (MLE)</b>."
     ]
    },
    {
     "cell_type": "markdown",
     "metadata": {},
     "source": [
      "##Example:  Maximum Likelihood Fit for the Normal Distribution\n",
      "\n",
      "Suppose $f$ is a <b>normal distribution</b> with parameters\n",
      "$\\theta = (\\mu,\\sigma)$,\n",
      "so that:\n",
      "\n",
      "$$\n",
      "f(x, \\theta) ~~=~~ \\frac{1}{\\sqrt{2\\pi}\\sigma} ~ \\exp\\left(-\\frac{1}{2} \\left(\\frac{x - \\mu}{\\sigma}\\right)^2 \\right).\n",
      "$$\n",
      "\n",
      "In this case the likelihood function is\n",
      "$$\\mbox{likelihood}({x_1,...,x_n}) ~~=~~ \n",
      "\\prod_i ~ f(x_i, \\theta) ~~=~~ \\left(\\frac{1}{\\sqrt{2\\pi}\\sigma}\\right)^n ~\n",
      "\\exp\\left(-\\frac{1}{2} \\sum_i \\left(\\frac{x_i - \\mu}{\\sigma}\\right)^2 \\right) .\n",
      "$$\n",
      "\n",
      "The maximum likelihood estimate (value of $\\theta$ \n",
      "that maximizes this function) clearly\n",
      "must minimize $\\sum_i (x_i - \\mu)^2$.\n",
      "By differentiating we can show that the minimum is obtained at\n",
      "$$\\mu ~~=~~ \\frac{1}{n} \\sum_i x_i .$$\n",
      "\n",
      "In other words, it turns out that the MLE is given by the usual formulas for $\\mu$ and $\\sigma$.\n",
      "\n",
      "The maximum likelihood fit of a normal distribution to a dataset $x_1$, ..., $x_n$\n",
      "has parameters that are the mean and variance of the data.\n",
      "Finding the best fit for a normal distribution is easy.\n"
     ]
    },
    {
     "cell_type": "markdown",
     "metadata": {},
     "source": [
      "##Log-Likelihood"
     ]
    },
    {
     "cell_type": "markdown",
     "metadata": {},
     "source": [
      "\n",
      "People often study <b>log-likelihood</b>,\n",
      "since it usually turns out to be easier to differentiate:\n",
      "\n",
      "$$\\log(~ \\mbox{likelihood}({x_1,...,x_n}) ~ )\n",
      "~~=~~ \\log(~ \\prod_i f(x_i, \\theta) ~ )\n",
      "~~=~~ \\sum_i \\log~ f(x_i, \\theta).\n",
      "$$\n",
      "Since the logarithm function $\\log(t)$ is a <b>monotonic function</b> of $t$\n",
      "(larger values of $t$  yield larger values of $\\log(t)$),\n",
      "by maximizing log(likelihood) we will also maximize (likelihood).\n",
      "\n",
      "In practice,\n",
      "since maximizing likelihood and log-likelihood are equivalent,\n",
      "people use log-likelihood.\n"
     ]
    },
    {
     "cell_type": "markdown",
     "metadata": {},
     "source": [
      "#The Homework Problem: given an input set of data, find the MLE for the $\\chi$ distribution"
     ]
    },
    {
     "cell_type": "markdown",
     "metadata": {},
     "source": [
      "Given input values $x_1$, ..., $x_n$.\n",
      "we want to find the MLE parameters $\\theta = (\\nu)$,\n",
      "where $\\nu$ is the degrees of freedom.\n",
      "In other words, here $\\theta$ is a single parameter \"nu\".\n",
      "\n",
      "However, we cannot use <i>fitdistr</i> for this,\n",
      "since <i>fitdistr</i> does not\n",
      "cover the $\\chi$ distribution.  (It does cover the $\\chi^2$ distribution, but not its less-well-known friend $\\chi$).\n"
     ]
    },
    {
     "cell_type": "markdown",
     "metadata": {},
     "source": [
      "$\\chi$ is the distribution of\n",
      "$$\n",
      "\\sqrt{\\sum_{i=1}^n \\left(\\frac{X_i-\\mu_i}{\\sigma_i}\\right)^2}\n",
      "$$\n",
      "where $\\chi^2$ is the distribution of\n",
      "$$\n",
      "\\sum_{i=1}^n \\left(\\frac{X_i-\\mu_i}{\\sigma_i}\\right)^2.\n",
      "$$\n",
      "\n"
     ]
    },
    {
     "cell_type": "code",
     "collapsed": false,
     "input": [
      "%load_ext rmagic\n",
      "import rpy2 as Rpy"
     ],
     "language": "python",
     "metadata": {},
     "outputs": [],
     "prompt_number": 2
    },
    {
     "cell_type": "markdown",
     "metadata": {},
     "source": [
      "###First, let's implement the chi distribution pdf in R.\n",
      "\n",
      "The $\\chi$ distribution is described in\n",
      "<a href=\"http://en.wikipedia.org/wiki/Chi_distribution\">en.wikipedia.org/wiki/Chi_distribution</a>."
     ]
    },
    {
     "cell_type": "code",
     "collapsed": false,
     "input": [
      "%%R\n",
      "\n",
      "dchi = function(x,nu) dchisq(x^2, nu) * (2*x)\n",
      "    \n",
      "# this gives us an implementation of the pdf"
     ],
     "language": "python",
     "metadata": {},
     "outputs": [],
     "prompt_number": 40
    },
    {
     "cell_type": "markdown",
     "metadata": {},
     "source": [
      "For fun, let's plot some values of the $\\chi$ distribution:"
     ]
    },
    {
     "cell_type": "code",
     "collapsed": false,
     "input": [
      "%%R -w 500 -h 400\n",
      "\n",
      "plot( c(), c(), type=\"n\", main=\"the chi distribution\",\n",
      "     xlim=c(0,4), ylim=c(0,1) )  # start the basic plot\n",
      "\n",
      "#  add a curve for each chi distribution parameter value:\n",
      "curve( dchi(x,1), col=\"blue\", add=TRUE )\n",
      "curve( dchi(x,2), col=\"green\", add=TRUE )\n",
      "curve( dchi(x,3), col=\"red\", add=TRUE )\n",
      "curve( dchi(x,4), col=\"seagreen\", add=TRUE )\n",
      "curve( dchi(x,5), col=\"purple\", add=TRUE )\n",
      "\n",
      "legend( \"topright\", paste(c(1,2,3,4,5)), title=\"nu\",\n",
      "         col=c(\"blue\",\"green\",\"red\",\"seagreen\",\"purple\"), lwd=3)\n",
      "\n",
      "# this is a copy of the Wikipedia plot"
     ],
     "language": "python",
     "metadata": {},
     "outputs": [
      {
       "metadata": {},
       "output_type": "display_data",
       "png": "[encoded data removed]"
      }
     ],
     "prompt_number": 41
    },
    {
     "cell_type": "markdown",
     "metadata": {},
     "source": [
      "#The actual homework problem\n",
      "\n",
      "You are given an $n \\times p$ table as input.\n",
      "\n",
      "Each column of this table is a \"dataset\" $x_1$, ..., $x_n$.\n",
      "\n",
      "Your job is to find the MLE for nu using the $\\chi$ distribution.\n",
      "For this problem you can assume that the MLE is an integer,\n",
      "so your program can round any non-integer value to an integer.\n",
      "\n",
      "Your program should do this for each column in the table, and print the result as a sequence of lines; each line should have the characters \"chi <i>n</i>\", where <i>n</i> is an integer.\n",
      "\n",
      "For example, if we were given a table with values for the five values of nu above, the output would be:<pre>\n",
      "chi 1\n",
      "chi 2\n",
      "chi 3\n",
      "chi 4\n",
      "chi 5\n",
      "</pre>"
     ]
    },
    {
     "cell_type": "markdown",
     "metadata": {},
     "source": [
      "##The Log-Likelihood Function"
     ]
    },
    {
     "cell_type": "code",
     "collapsed": false,
     "input": [
      "%%R\n",
      "\n",
      "data_vector = rchisq(1000, 4, 2)   # a sample dataset\n",
      "\n",
      "log_likelihood = function(theta) sum( log(dchi(data_vector, theta)) )\n"
     ],
     "language": "python",
     "metadata": {},
     "outputs": [],
     "prompt_number": 25
    },
    {
     "cell_type": "code",
     "collapsed": false,
     "input": [
      "%%R\n",
      "\n",
      "# learn about the optimizer in R\n",
      "\n",
      "?optim "
     ],
     "language": "python",
     "metadata": {},
     "outputs": []
    },
    {
     "cell_type": "code",
     "collapsed": false,
     "input": [
      "%%R\n",
      "initial_value_for_nu = 2\n",
      "negative_log_likelihood = function(theta) -log_likelihood(theta)\n",
      "\n",
      "# optim always _minimizes_ a function,\n",
      "#   so to find the MLE we minimize the negative log likelihood:\n",
      "\n",
      "output_of_optimization =\n",
      "  optim( initial_value_for_nu, negative_log_likelihood )\n",
      "\n",
      "print(output_of_optimization)"
     ],
     "language": "python",
     "metadata": {},
     "outputs": [
      {
       "metadata": {},
       "output_type": "display_data",
       "text": [
        "$par\n",
        "[1] 22.41875\n",
        "\n",
        "$value\n",
        "[1] 15722.69\n",
        "\n",
        "$counts\n",
        "function gradient \n",
        "      34       NA \n",
        "\n",
        "$convergence\n",
        "[1] 0\n",
        "\n",
        "$message\n",
        "NULL\n",
        "\n"
       ]
      }
     ],
     "prompt_number": 42
    },
    {
     "cell_type": "code",
     "collapsed": false,
     "input": [
      "%%R\n",
      "\n",
      "minimum_negative_log_likelihood_value = output_of_optimization$value\n",
      "\n",
      "MLE_for_nu = round( output_of_optimization$par )\n",
      "\n",
      "print(MLE_for_nu)"
     ],
     "language": "python",
     "metadata": {},
     "outputs": [
      {
       "metadata": {},
       "output_type": "display_data",
       "text": [
        "[1] 22\n"
       ]
      }
     ],
     "prompt_number": 44
    },
    {
     "cell_type": "code",
     "collapsed": false,
     "input": [
      "%%R\n",
      "\n",
      "# Finally:  print out the estimate for nu in the format required:\n",
      "\n",
      "cat(sprintf(\"chi %d\\n\", MLE_value_for_nu ))"
     ],
     "language": "python",
     "metadata": {},
     "outputs": [
      {
       "metadata": {},
       "output_type": "display_data",
       "text": [
        "chi 22\n"
       ]
      }
     ],
     "prompt_number": 38
    },
    {
     "cell_type": "markdown",
     "metadata": {},
     "source": [
      "##That's it!  Now write a program that does this for any input dataset..."
     ]
    },
    {
     "cell_type": "markdown",
     "metadata": {},
     "source": [
      "<br>\n",
      "Your R script should accept an input file from standard input. You can reuse the following line of code from problem A.<br>\n",
      "<br>\n",
      "Table = data.matrix(read.csv( file='stdin', header=TRUE ))    <br>\n",
      "<br>\n",
      "Please note that you need to format your output correctly. Suppose we use underscore '_' to represent space, then the following output: <br>\n",
      "chi 22<br>\n",
      "is actually:<br>\n",
      "chi_22\\n<br>\n",
      "<br>\n",
      "If you see \"Presentation Error\" as the feedback from the online judge, you might not have dealt with the space or end-of-line correctly.<br>\n",
      "\n",
      " "
     ]
    },
    {
     "cell_type": "markdown",
     "metadata": {},
     "source": [
      "#Optional Challenge: implement the chi distribution cdf and icdf\n",
      "\n",
      "The cdf of the $\\chi$ distribution can be found at\n",
      "<a href=\"http://en.wikipedia.org/wiki/Chi_distribution\">en.wikipedia.org/wiki/Chi_distribution</a>.\n",
      "\n"
     ]
    },
    {
     "cell_type": "code",
     "collapsed": false,
     "input": [
      "%%R\n",
      "\n",
      "dchi = function(x,nu) dchi(x^2, nu) * (2*x)  # implementation of the pdf\n",
      "pchi = function(x,nu) 0 # how can we implement the cdf?\n",
      "qchi = function(x,nu) 0 # how can we implement the icdf?"
     ],
     "language": "python",
     "metadata": {},
     "outputs": []
    },
    {
     "cell_type": "markdown",
     "metadata": {},
     "source": []
    },
    {
     "cell_type": "markdown",
     "metadata": {},
     "source": [
      "#Optional Challenge: implement a random generator for the chi distribution"
     ]
    },
    {
     "cell_type": "code",
     "collapsed": false,
     "input": [
      "%%R\n",
      "\n",
      "rchi = function(n,nu) qchi(runif(n),nu)  # random chi values = transformed random uniform values\n",
      "\n",
      "# we can implement a random generator for any distribution using its icdf"
     ],
     "language": "python",
     "metadata": {},
     "outputs": []
    },
    {
     "cell_type": "code",
     "collapsed": false,
     "input": [],
     "language": "python",
     "metadata": {},
     "outputs": []
    }
   ],
   "metadata": {}
  }
 ]
}