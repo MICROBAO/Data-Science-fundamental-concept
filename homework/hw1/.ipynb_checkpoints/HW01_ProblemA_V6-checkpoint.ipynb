{
 "cells": [
  {
   "cell_type": "markdown",
   "metadata": {},
   "source": [
    "#Problem:  Fitting Distribution Parameters to Data"
   ]
  },
  {
   "cell_type": "markdown",
   "metadata": {},
   "source": [
    "Problem:  given a sequence of random real values, attempt to determine which distribution it follows.\n",
    "\n",
    "More specifically, develop a program that reads in a numeric table, and --\n",
    "for each dataset in the table (where each column in the table is a \"dataset\")\n",
    "-- determines the distribution and parameters that gives the closest match to it.\n",
    "\n",
    "For example, if the dataset has 1 column that fits a normal distribution\n",
    "with mean 2 and standard deviation 3, your program should print the line:\n",
    "<pre>\n",
    "normal 2 3\n",
    "</pre>\n",
    "As a more interesting example, a demonstration table is included below\n",
    "that has 5 columns, each with a different distribution.\n",
    "With this table as input, your program should print the following output:\n",
    "<pre>\n",
    "normal 4 2\n",
    "lognormal 0 1\n",
    "exponential 1\n",
    "chi-squared 5\n",
    "logistic 3 2\n",
    "</pre>\n",
    "For simplicity, the parameters used in this assignment will always be integers,\n",
    "so the printed output should always have integer parameter values.\n"
   ]
  },
  {
   "cell_type": "code",
   "execution_count": 2,
   "metadata": {
    "collapsed": false
   },
   "outputs": [
    {
     "ename": "ImportError",
     "evalue": "No module named rpy2.ipython",
     "output_type": "error",
     "traceback": [
      "\u001b[0;31m---------------------------------------------------------------------------\u001b[0m",
      "\u001b[0;31mImportError\u001b[0m                               Traceback (most recent call last)",
      "\u001b[0;32m<ipython-input-2-63c556ce0103>\u001b[0m in \u001b[0;36m<module>\u001b[0;34m()\u001b[0m\n\u001b[0;32m----> 1\u001b[0;31m \u001b[0mget_ipython\u001b[0m\u001b[0;34m(\u001b[0m\u001b[0;34m)\u001b[0m\u001b[0;34m.\u001b[0m\u001b[0mmagic\u001b[0m\u001b[0;34m(\u001b[0m\u001b[0;34mu'load_ext rpy2.ipython'\u001b[0m\u001b[0;34m)\u001b[0m\u001b[0;34m\u001b[0m\u001b[0m\n\u001b[0m\u001b[1;32m      2\u001b[0m \u001b[0;32mimport\u001b[0m \u001b[0mrpy2\u001b[0m \u001b[0;32mas\u001b[0m \u001b[0mRpy\u001b[0m\u001b[0;34m\u001b[0m\u001b[0m\n",
      "\u001b[0;32m/Users/Dongzhe/anaconda/lib/python2.7/site-packages/IPython/core/interactiveshell.pyc\u001b[0m in \u001b[0;36mmagic\u001b[0;34m(self, arg_s)\u001b[0m\n\u001b[1;32m   2334\u001b[0m         \u001b[0mmagic_name\u001b[0m\u001b[0;34m,\u001b[0m \u001b[0m_\u001b[0m\u001b[0;34m,\u001b[0m \u001b[0mmagic_arg_s\u001b[0m \u001b[0;34m=\u001b[0m \u001b[0marg_s\u001b[0m\u001b[0;34m.\u001b[0m\u001b[0mpartition\u001b[0m\u001b[0;34m(\u001b[0m\u001b[0;34m' '\u001b[0m\u001b[0;34m)\u001b[0m\u001b[0;34m\u001b[0m\u001b[0m\n\u001b[1;32m   2335\u001b[0m         \u001b[0mmagic_name\u001b[0m \u001b[0;34m=\u001b[0m \u001b[0mmagic_name\u001b[0m\u001b[0;34m.\u001b[0m\u001b[0mlstrip\u001b[0m\u001b[0;34m(\u001b[0m\u001b[0mprefilter\u001b[0m\u001b[0;34m.\u001b[0m\u001b[0mESC_MAGIC\u001b[0m\u001b[0;34m)\u001b[0m\u001b[0;34m\u001b[0m\u001b[0m\n\u001b[0;32m-> 2336\u001b[0;31m         \u001b[0;32mreturn\u001b[0m \u001b[0mself\u001b[0m\u001b[0;34m.\u001b[0m\u001b[0mrun_line_magic\u001b[0m\u001b[0;34m(\u001b[0m\u001b[0mmagic_name\u001b[0m\u001b[0;34m,\u001b[0m \u001b[0mmagic_arg_s\u001b[0m\u001b[0;34m)\u001b[0m\u001b[0;34m\u001b[0m\u001b[0m\n\u001b[0m\u001b[1;32m   2337\u001b[0m \u001b[0;34m\u001b[0m\u001b[0m\n\u001b[1;32m   2338\u001b[0m     \u001b[0;31m#-------------------------------------------------------------------------\u001b[0m\u001b[0;34m\u001b[0m\u001b[0;34m\u001b[0m\u001b[0m\n",
      "\u001b[0;32m/Users/Dongzhe/anaconda/lib/python2.7/site-packages/IPython/core/interactiveshell.pyc\u001b[0m in \u001b[0;36mrun_line_magic\u001b[0;34m(self, magic_name, line)\u001b[0m\n\u001b[1;32m   2255\u001b[0m                 \u001b[0mkwargs\u001b[0m\u001b[0;34m[\u001b[0m\u001b[0;34m'local_ns'\u001b[0m\u001b[0;34m]\u001b[0m \u001b[0;34m=\u001b[0m \u001b[0msys\u001b[0m\u001b[0;34m.\u001b[0m\u001b[0m_getframe\u001b[0m\u001b[0;34m(\u001b[0m\u001b[0mstack_depth\u001b[0m\u001b[0;34m)\u001b[0m\u001b[0;34m.\u001b[0m\u001b[0mf_locals\u001b[0m\u001b[0;34m\u001b[0m\u001b[0m\n\u001b[1;32m   2256\u001b[0m             \u001b[0;32mwith\u001b[0m \u001b[0mself\u001b[0m\u001b[0;34m.\u001b[0m\u001b[0mbuiltin_trap\u001b[0m\u001b[0;34m:\u001b[0m\u001b[0;34m\u001b[0m\u001b[0m\n\u001b[0;32m-> 2257\u001b[0;31m                 \u001b[0mresult\u001b[0m \u001b[0;34m=\u001b[0m \u001b[0mfn\u001b[0m\u001b[0;34m(\u001b[0m\u001b[0;34m*\u001b[0m\u001b[0margs\u001b[0m\u001b[0;34m,\u001b[0m\u001b[0;34m**\u001b[0m\u001b[0mkwargs\u001b[0m\u001b[0;34m)\u001b[0m\u001b[0;34m\u001b[0m\u001b[0m\n\u001b[0m\u001b[1;32m   2258\u001b[0m             \u001b[0;32mreturn\u001b[0m \u001b[0mresult\u001b[0m\u001b[0;34m\u001b[0m\u001b[0m\n\u001b[1;32m   2259\u001b[0m \u001b[0;34m\u001b[0m\u001b[0m\n",
      "\u001b[0;32m<decorator-gen-64>\u001b[0m in \u001b[0;36mload_ext\u001b[0;34m(self, module_str)\u001b[0m\n",
      "\u001b[0;32m/Users/Dongzhe/anaconda/lib/python2.7/site-packages/IPython/core/magic.pyc\u001b[0m in \u001b[0;36m<lambda>\u001b[0;34m(f, *a, **k)\u001b[0m\n\u001b[1;32m    191\u001b[0m     \u001b[0;31m# but it's overkill for just that one bit of state.\u001b[0m\u001b[0;34m\u001b[0m\u001b[0;34m\u001b[0m\u001b[0m\n\u001b[1;32m    192\u001b[0m     \u001b[0;32mdef\u001b[0m \u001b[0mmagic_deco\u001b[0m\u001b[0;34m(\u001b[0m\u001b[0marg\u001b[0m\u001b[0;34m)\u001b[0m\u001b[0;34m:\u001b[0m\u001b[0;34m\u001b[0m\u001b[0m\n\u001b[0;32m--> 193\u001b[0;31m         \u001b[0mcall\u001b[0m \u001b[0;34m=\u001b[0m \u001b[0;32mlambda\u001b[0m \u001b[0mf\u001b[0m\u001b[0;34m,\u001b[0m \u001b[0;34m*\u001b[0m\u001b[0ma\u001b[0m\u001b[0;34m,\u001b[0m \u001b[0;34m**\u001b[0m\u001b[0mk\u001b[0m\u001b[0;34m:\u001b[0m \u001b[0mf\u001b[0m\u001b[0;34m(\u001b[0m\u001b[0;34m*\u001b[0m\u001b[0ma\u001b[0m\u001b[0;34m,\u001b[0m \u001b[0;34m**\u001b[0m\u001b[0mk\u001b[0m\u001b[0;34m)\u001b[0m\u001b[0;34m\u001b[0m\u001b[0m\n\u001b[0m\u001b[1;32m    194\u001b[0m \u001b[0;34m\u001b[0m\u001b[0m\n\u001b[1;32m    195\u001b[0m         \u001b[0;32mif\u001b[0m \u001b[0mcallable\u001b[0m\u001b[0;34m(\u001b[0m\u001b[0marg\u001b[0m\u001b[0;34m)\u001b[0m\u001b[0;34m:\u001b[0m\u001b[0;34m\u001b[0m\u001b[0m\n",
      "\u001b[0;32m/Users/Dongzhe/anaconda/lib/python2.7/site-packages/IPython/core/magics/extension.pyc\u001b[0m in \u001b[0;36mload_ext\u001b[0;34m(self, module_str)\u001b[0m\n\u001b[1;32m     64\u001b[0m         \u001b[0;32mif\u001b[0m \u001b[0;32mnot\u001b[0m \u001b[0mmodule_str\u001b[0m\u001b[0;34m:\u001b[0m\u001b[0;34m\u001b[0m\u001b[0m\n\u001b[1;32m     65\u001b[0m             \u001b[0;32mraise\u001b[0m \u001b[0mUsageError\u001b[0m\u001b[0;34m(\u001b[0m\u001b[0;34m'Missing module name.'\u001b[0m\u001b[0;34m)\u001b[0m\u001b[0;34m\u001b[0m\u001b[0m\n\u001b[0;32m---> 66\u001b[0;31m         \u001b[0mres\u001b[0m \u001b[0;34m=\u001b[0m \u001b[0mself\u001b[0m\u001b[0;34m.\u001b[0m\u001b[0mshell\u001b[0m\u001b[0;34m.\u001b[0m\u001b[0mextension_manager\u001b[0m\u001b[0;34m.\u001b[0m\u001b[0mload_extension\u001b[0m\u001b[0;34m(\u001b[0m\u001b[0mmodule_str\u001b[0m\u001b[0;34m)\u001b[0m\u001b[0;34m\u001b[0m\u001b[0m\n\u001b[0m\u001b[1;32m     67\u001b[0m \u001b[0;34m\u001b[0m\u001b[0m\n\u001b[1;32m     68\u001b[0m         \u001b[0;32mif\u001b[0m \u001b[0mres\u001b[0m \u001b[0;34m==\u001b[0m \u001b[0;34m'already loaded'\u001b[0m\u001b[0;34m:\u001b[0m\u001b[0;34m\u001b[0m\u001b[0m\n",
      "\u001b[0;32m/Users/Dongzhe/anaconda/lib/python2.7/site-packages/IPython/core/extensions.pyc\u001b[0m in \u001b[0;36mload_extension\u001b[0;34m(self, module_str)\u001b[0m\n\u001b[1;32m     82\u001b[0m             \u001b[0;32mif\u001b[0m \u001b[0mmodule_str\u001b[0m \u001b[0;32mnot\u001b[0m \u001b[0;32min\u001b[0m \u001b[0msys\u001b[0m\u001b[0;34m.\u001b[0m\u001b[0mmodules\u001b[0m\u001b[0;34m:\u001b[0m\u001b[0;34m\u001b[0m\u001b[0m\n\u001b[1;32m     83\u001b[0m                 \u001b[0;32mwith\u001b[0m \u001b[0mprepended_to_syspath\u001b[0m\u001b[0;34m(\u001b[0m\u001b[0mself\u001b[0m\u001b[0;34m.\u001b[0m\u001b[0mipython_extension_dir\u001b[0m\u001b[0;34m)\u001b[0m\u001b[0;34m:\u001b[0m\u001b[0;34m\u001b[0m\u001b[0m\n\u001b[0;32m---> 84\u001b[0;31m                     \u001b[0m__import__\u001b[0m\u001b[0;34m(\u001b[0m\u001b[0mmodule_str\u001b[0m\u001b[0;34m)\u001b[0m\u001b[0;34m\u001b[0m\u001b[0m\n\u001b[0m\u001b[1;32m     85\u001b[0m             \u001b[0mmod\u001b[0m \u001b[0;34m=\u001b[0m \u001b[0msys\u001b[0m\u001b[0;34m.\u001b[0m\u001b[0mmodules\u001b[0m\u001b[0;34m[\u001b[0m\u001b[0mmodule_str\u001b[0m\u001b[0;34m]\u001b[0m\u001b[0;34m\u001b[0m\u001b[0m\n\u001b[1;32m     86\u001b[0m             \u001b[0;32mif\u001b[0m \u001b[0mself\u001b[0m\u001b[0;34m.\u001b[0m\u001b[0m_call_load_ipython_extension\u001b[0m\u001b[0;34m(\u001b[0m\u001b[0mmod\u001b[0m\u001b[0;34m)\u001b[0m\u001b[0;34m:\u001b[0m\u001b[0;34m\u001b[0m\u001b[0m\n",
      "\u001b[0;31mImportError\u001b[0m: No module named rpy2.ipython"
     ]
    }
   ],
   "source": [
    "%load_ext rmagic\n",
    "import rpy2 as Rpy"
   ]
  },
  {
   "cell_type": "markdown",
   "metadata": {},
   "source": [
    "##fitdistr\n",
    "\n",
    "Your program can use the \"fitdistr\" function in the MASS library in order to fit distributions to data.\n",
    "\n",
    "To use fitdistr, you can install the MASS package in R"
   ]
  },
  {
   "cell_type": "code",
   "execution_count": 3,
   "metadata": {
    "collapsed": false
   },
   "outputs": [
    {
     "data": {
      "image/png": "[encoded data removed]"
     },
     "metadata": {},
     "output_type": "display_data"
    }
   ],
   "source": [
    "%%R\n",
    "\n",
    "not.installed <- function(pkg) !is.element(pkg, installed.packages()[,1])\n",
    "\n",
    "if (not.installed(\"MASS\"))  install.packages(\"MASS\")  # we need the MASS package\n",
    "\n",
    "library(MASS)  #  load the MASS package\n",
    "\n",
    "#  ?fitdistr      #  look at the help for the fitdistr function\n"
   ]
  },
  {
   "cell_type": "markdown",
   "metadata": {},
   "source": [
    "##  Generate a sample table with 6 columns (datasets)\n",
    "\n",
    "The table is of size (N x 6), where N=10000.\n",
    "Each column in this dataset is a random sample from a different distribution."
   ]
  },
  {
   "cell_type": "code",
   "execution_count": 6,
   "metadata": {
    "collapsed": false
   },
   "outputs": [
    {
     "data": {
      "image/png": "[encoded data removed]"
     },
     "metadata": {},
     "output_type": "display_data"
    }
   ],
   "source": [
    "%%R\n",
    "\n",
    "# we generate a table whose columns are random samples from different distributions\n",
    "\n",
    "N = 10000\n",
    "D1 = rnorm( N, 4, 2 )\n",
    "D2 = rlnorm( N, 0, 1 )\n",
    "D3 = rexp( N, 1 )\n",
    "D4 = rchisq( N, 5 )\n",
    "D5 = rlogis( N, 3, 2 )\n",
    "\n",
    "# All parameter values in this assignment will be integers !\n",
    "\n",
    "Table = round(cbind( D1,D2,D3,D4,D5 ),8)\n",
    "\n",
    "colnames(Table) = c(\"D1\",\"D2\",\"D3\",\"D4\",\"D5\")\n",
    "\n",
    "# print the first few lines of the table:\n",
    "\n",
    "head(Table)"
   ]
  },
  {
   "cell_type": "markdown",
   "metadata": {},
   "source": [
    "## For fun, plot a histogram of each column in the Table"
   ]
  },
  {
   "cell_type": "code",
   "execution_count": 7,
   "metadata": {
    "collapsed": false
   },
   "outputs": [
    {
     "data": {
      "image/png": "[encoded data removed]"
     },
     "metadata": {},
     "output_type": "display_data"
    }
   ],
   "source": [
    "%%R -w 600 -h 900\n",
    "\n",
    "opar = par(mfrow = c(3,2))\n",
    "\n",
    "# make 3 rows of plots, with 2 plots per row\n",
    "\n",
    "B=60\n",
    "hist( D1, col=\"green\", xlim=c(0,15), breaks=B )\n",
    "hist( D2, col=\"blue\", xlim=c(0,15), breaks=B )\n",
    "hist( D3, col=\"gold\", xlim=c(0,15), breaks=B )\n",
    "hist( D4, col=\"magenta\", xlim=c(0,15), breaks=B )\n",
    "hist( D5, col=\"cyan\", xlim=c(0,15), breaks=B )\n",
    "\n",
    "par(opar)  # restore previous values of plotting parameters"
   ]
  },
  {
   "cell_type": "markdown",
   "metadata": {},
   "source": [
    "## Your program should handle these kinds of distributions:"
   ]
  },
  {
   "cell_type": "code",
   "execution_count": 8,
   "metadata": {
    "collapsed": false
   },
   "outputs": [
    {
     "data": {
      "image/png": "[encoded data removed]"
     },
     "metadata": {},
     "output_type": "display_data"
    }
   ],
   "source": [
    "%%R\n",
    "\n",
    "Distribution_name = c(\n",
    "    \"normal\",\n",
    "    \"t\",\n",
    "    \"chi-squared\",\n",
    "    \"lognormal\",\n",
    "    \"exponential\",\n",
    "    \"logistic\"\n",
    ")\n",
    "\n",
    "Distribution_can_have_negative_values = c(\n",
    "    TRUE,\n",
    "    TRUE,\n",
    "    FALSE,\n",
    "    FALSE,\n",
    "    FALSE,\n",
    "    TRUE\n",
    ")\n",
    "\n",
    "Distribution_function = c(\n",
    "    dnorm,\n",
    "    dt,\n",
    "    dchisq,\n",
    "    dlnorm,\n",
    "    dexp,\n",
    "    dlogis\n",
    ")\n",
    "\n",
    "Distribution_color = c(\n",
    "    \"blue\",\n",
    "    \"cyan\",\n",
    "    \"green\",\n",
    "    \"gold\",\n",
    "    \"magenta\",\n",
    "    \"purple\"\n",
    ")\n",
    "\n",
    "add_curve = function( dist_name, p ) {\n",
    "    if (dist_name == \"normal\")      curve( dnorm(x, p[1], p[2] ),    col=\"blue\", lwd=3, add=TRUE )\n",
    "    if (dist_name == \"t\")           curve( dt(x, p[1], p[2], p[3] ), col=\"cyan\", lwd=3, add=TRUE )\n",
    "    if (dist_name == \"chi-squared\") curve( dnorm(x, p[1] ),          col=\"green\", lwd=3, add=TRUE )\n",
    "    if (dist_name == \"lognormal\")   curve( dlnorm(x, p[1], p[2] ), col=\"gold\", lwd=3, add=TRUE )\n",
    "    if (dist_name == \"exponential\") curve( dexp(x, p[1] ),         col=\"magenta\", lwd=3, add=TRUE )\n",
    "    if (dist_name == \"logistic\")    curve( dlogis(x, p[1], p[2] ),  col=\"purple\", lwd=3, add=TRUE )\n",
    "}"
   ]
  },
  {
   "cell_type": "markdown",
   "metadata": {},
   "source": [
    "##Example of how to analyze the data in R, with fitdistr:"
   ]
  },
  {
   "cell_type": "code",
   "execution_count": 9,
   "metadata": {
    "collapsed": false
   },
   "outputs": [
    {
     "data": {
      "image/png": "[encoded data removed]"
     },
     "metadata": {},
     "output_type": "display_data"
    },
    {
     "data": {
      "image/png": "[encoded data removed]"
     },
     "metadata": {},
     "output_type": "display_data"
    },
    {
     "data": {
      "image/png": "[encoded data removed]"
     },
     "metadata": {},
     "output_type": "display_data"
    },
    {
     "data": {
      "image/png": "[encoded data removed]"
     },
     "metadata": {},
     "output_type": "display_data"
    },
    {
     "data": {
      "image/png": "[encoded data removed]"
     },
     "metadata": {},
     "output_type": "display_data"
    }
   ],
   "source": [
    "%%R\n",
    "\n",
    "n = nrow(Table)\n",
    "p = ncol(Table)\n",
    "\n",
    "for (j in 1:p) {\n",
    "    Dataset = Table[,j]   #  j-th dataset = j-th column of the data table\n",
    "    cat(sprintf(\"\\ntrying Dataset %d:\\n\", j))\n",
    "    \n",
    "    Dataset_is_nonnegative = !any( Dataset < 0 )\n",
    "    if (Dataset_is_nonnegative) {\n",
    "        cat(\"Dataset is nonnegative\\n\")\n",
    "    } else {\n",
    "        cat(\"Dataset has some negative values, so it cannot follow nonnegative distributions\\n\")\n",
    "    }\n",
    "\n",
    "    hist( Dataset, col=\"gray90\", xlim=c(0,15), breaks=50, probability=TRUE )\n",
    "    # display a histogram for each column Dataset\n",
    "    legend( \"topright\", Distribution_name, col=Distribution_color, lwd=3 )\n",
    "\n",
    "    for (i in 1:length(Distribution_name)) {\n",
    "        dist_name = Distribution_name[i]\n",
    "        if (Distribution_can_have_negative_values[i] || Dataset_is_nonnegative) {\n",
    "            # don't try to fit a nonnegative distribution to data that is negative\n",
    "\n",
    "            if (dist_name == \"chi-squared\") {  # fitdistr requires special handling of chi-squared\n",
    "                fit = suppressWarnings( fitdistr( Dataset, dist_name, list(df=round(mean(Dataset))), method=\"BFGS\" ) )\n",
    "            } else {\n",
    "                fit = suppressWarnings( fitdistr( Dataset, dist_name ) )\n",
    "            }\n",
    "\n",
    "            # \"fit\" is the object returned by fitdistr, describing the fit\n",
    "\n",
    "            fitted_parameters = fit$estimate\n",
    "            log_likelihood = fit$loglik\n",
    "\n",
    "            parameter_value_string = paste(round(fitted_parameters), collapse=\" \")\n",
    "            # we round the parameter values so that they are integers.\n",
    "\n",
    "            # This is what the output is supposed to look like:\n",
    "            cat(sprintf(\"%s %s\\n\", dist_name, parameter_value_string))  \n",
    "\n",
    "            # To show how good the fit is, we also print the log-likelihood here\n",
    "            cat(sprintf(\"               log-likelihood = %f\\n\", log_likelihood))\n",
    "            \n",
    "            add_curve( dist_name, fitted_parameters )  # show the fit on the histogram\n",
    "\n",
    "            # The optimal distribution is the one with maximum-likelihood\n",
    "            #  (and:  maximum-likelihood == maximum-log-likelihood).\n",
    "            # Your program needs to determine which distribution maximizes this.\n",
    "        }\n",
    "    }\n",
    "}\n"
   ]
  },
  {
   "cell_type": "markdown",
   "metadata": {},
   "source": [
    "The computation above can take a little while, don't worry about this.\n",
    "Be patient here ...."
   ]
  },
  {
   "cell_type": "markdown",
   "metadata": {},
   "source": [
    "##That's it!  Now just write an R script that does this for any dataset it reads in.\n",
    "\n",
    "To get you started, your R script can be an extension of this outline:\n",
    "\n",
    "<pre>\n",
    "#  Read in a table (in csv format) from standard input:\n",
    "Table = data.matrix(read.csv( file = 'stdin', header=TRUE ))\n",
    "\n",
    "\n",
    "Distribution = c( \"normal\", \"t\", \"chi-squared\", \"lognormal\", \"exponential\", \"logistic\")\n",
    "Distribution_can_have_negative_values = c( TRUE, TRUE, FALSE, FALSE, FALSE, TRUE )\n",
    "\n",
    "for (j in 1:ncol(Table)) {\n",
    "    Dataset = Table[,j]        #  j-th dataset = the j-th column of the table\n",
    "    Dataset_is_nonnegative = !any( Dataset < 0 )\n",
    "\n",
    "    for (i in 1:length(Distribution)) {\n",
    "        dist_name = Distribution[i]\n",
    "        if (Distribution_can_have_negative_values[i] || Dataset_is_nonnegative) {\n",
    "            # don't try to fit a nonnegative distribution to data that is negative\n",
    "\n",
    "            if (dist_name == \"chi-squared\") {\n",
    "                # fitdistr requires special handling of chi-squared\n",
    "                fit = suppressWarnings( fitdistr( Dataset, dist_name,\n",
    "                                  list(df=round(mean(Dataset))), method=\"BFGS\" ) )\n",
    "            } else {\n",
    "                fit = suppressWarnings( fitdistr( Dataset, dist_name ) )\n",
    "            }\n",
    "\n",
    "            fitted_parameters = fit$estimate\n",
    "            log_likelihood = fit$loglik\n",
    "            \n",
    "            parameter_value_string = paste(round(fitted_parameters), collapse=\" \")\n",
    "            # print integer parameters\n",
    "            cat(sprintf(\"%s %s\\n\", dist_name, parameter_value_string))\n",
    "\n",
    "            # The optimal distribution is the one with maximum-likelihood\n",
    "            #  (and:  maximum-likelihood == maximum-log-likelihood).\n",
    "            # The optimal distribution needs to be tracked here .............\n",
    "        }\n",
    "    }\n",
    "}\n",
    "</pre>\n"
   ]
  },
  {
   "cell_type": "markdown",
   "metadata": {},
   "source": [
    "#What your program's output should look like\n",
    "\n",
    "If your program had been given the Table above as input,\n",
    "it should print the following 5 lines of output:\n",
    "<pre>\n",
    "normal 4 2\n",
    "lognormal 0 1\n",
    "exponential 1\n",
    "chi-squared 5\n",
    "logistic 3 2\n",
    "</pre>\n",
    "For simplicity, the parameters used here will always be integers,\n",
    "so the printed output should always have integer parameter values.<br>\n",
    "<br>\n",
    "Please note that you need to format your output correctly. Suppose we use underscore '_' to represent space, then the following output: <br>\n",
    "normal 4 2<br>\n",
    "is actually:<br>\n",
    "normal_4_2\\n<br>\n",
    "<br>\n",
    "If you see \"Presentation Error\" as the feedback from the online judge, you might not have dealt with the space or end-of-line correctly.<br>\n"
   ]
  },
  {
   "cell_type": "code",
   "execution_count": null,
   "metadata": {
    "collapsed": false
   },
   "outputs": [],
   "source": []
  }
 ],
 "metadata": {
  "kernelspec": {
   "display_name": "Python 2",
   "language": "python",
   "name": "python2"
  },
  "language_info": {
   "codemirror_mode": {
    "name": "ipython",
    "version": 2
   },
   "file_extension": ".py",
   "mimetype": "text/x-python",
   "name": "python",
   "nbconvert_exporter": "python",
   "pygments_lexer": "ipython2",
   "version": "2.7.11"
  }
 },
 "nbformat": 4,
 "nbformat_minor": 0
}
