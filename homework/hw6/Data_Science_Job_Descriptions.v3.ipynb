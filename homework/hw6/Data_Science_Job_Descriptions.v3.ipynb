{
 "metadata": {
  "kernelspec": {
   "display_name": "Python 2",
   "language": "python",
   "name": "python2"
  },
  "language_info": {
   "codemirror_mode": {
    "name": "ipython",
    "version": 2
   },
   "file_extension": ".py",
   "mimetype": "text/x-python",
   "name": "python",
   "nbconvert_exporter": "python",
   "pygments_lexer": "ipython2",
   "version": "2.7.9"
  },
  "name": ""
 },
 "nbformat": 3,
 "nbformat_minor": 0,
 "worksheets": [
  {
   "cells": [
    {
     "cell_type": "markdown",
     "metadata": {},
     "source": [
      "#Analyzing \"Data Scientist\" job descriptions\n",
      "\n",
      "What is \"Data Science\"?  One way to answer this question is to analyze job descriptions for patterns, and summarize these somehow (such as with clustering or LSI).\n",
      "\n",
      "We can download pages of job descriptions for 'data scientist' today at stackoverflow.com,\n",
      "and then scrape the pages for keywords.   This is not hard to do in Python.\n",
      "We can get hundreds of job listings, from hundreds of employers, in a few seconds.\n",
      "\n",
      "Each job notice has a set of keywords (terms, buzzwords), often listing the skills\n",
      "that are most important for the job.  We can use these keywords to make a \"term-document\"\n",
      "matrix (actually Employer-Keyword table) that can be analyzed to see which\n",
      "skills are important at which companies.\n",
      "\n",
      "D.S. Parker<br/>\n",
      "May 2015\n"
     ]
    },
    {
     "cell_type": "markdown",
     "metadata": {},
     "source": [
      "##Retrieve job notices for 'data scientist' from stackoverflow.com\n",
      "\n",
      "This Python code is based on a script by Yufei (Benny) Chen, a UCLA alumnus and software wizard.\n"
     ]
    },
    {
     "cell_type": "code",
     "collapsed": true,
     "input": [
      "\n",
      "def stackoverflow_query_url( query_terms ):\n",
      "    url_query_terms = query_terms.strip().replace(' ','+').replace('\"','%22')\n",
      "    query_prefix = 'http://careers.stackoverflow.com/jobs?searchTerm='\n",
      "    query_suffix = '&type=any&location=&range=&distanceUnits=Miles'\n",
      "    query_url = query_prefix + url_query_terms + query_suffix\n",
      "    return query_url\n",
      "\n",
      "\n",
      "import time\n",
      "\n",
      "def stackoverflow_job_text( query_url ):\n",
      "    html_result = requests.get(query_url)\n",
      "    html_text = html_result.content\n",
      "    for pg in range(2,101):  # get 100 pages' worth of job notices\n",
      "        html_result = requests.get(query_url + '&pg=%d' % pg)  # get the pg'th page\n",
      "        html_text += html_result.content\n",
      "        time.sleep(3)  # sleep 3 seconds, to avoid annoying stackoverflow\n",
      "    return html_text\n"
     ],
     "language": "python",
     "metadata": {},
     "outputs": [],
     "prompt_number": 134
    },
    {
     "cell_type": "code",
     "collapsed": false,
     "input": [
      "\n",
      "many_job_query_terms = '\"big data\" \"data science\" \"data analytics\" \"data analysis\" \"machine learning\"'\n",
      "\n",
      "non_data_science_job_query_terms = '-\"data science\"'  # '-' negates the query\n",
      "\n",
      "non_data_science_job_query_url = stackoverflow_query_url( non_data_science_job_query_terms )\n"
     ],
     "language": "python",
     "metadata": {},
     "outputs": [],
     "prompt_number": 136
    },
    {
     "cell_type": "code",
     "collapsed": false,
     "input": [
      "\n",
      "non_data_science_job_html_text = stackoverflow_job_text( non_data_science_job_query_url )\n",
      "    \n",
      "print( len(non_data_science_job_html_text) )  #  print the length of the downloaded text\n"
     ],
     "language": "python",
     "metadata": {},
     "outputs": [
      {
       "output_type": "stream",
       "stream": "stdout",
       "text": [
        "11852283\n"
       ]
      }
     ],
     "prompt_number": 137
    },
    {
     "cell_type": "heading",
     "level": 2,
     "metadata": {},
     "source": [
      "The step above takes a little time -- it downloads 100 pages' worth of job notices."
     ]
    },
    {
     "cell_type": "code",
     "collapsed": true,
     "input": [
      "\n",
      "#### stackoverflow also allows direct query of jobs by a specific tag:\n",
      "# job_query_url = \"http://careers.stackoverflow.com/jobs/tag/machine-learning\"\n",
      "# job_query_url = \"http://careers.stackoverflow.com/jobs/tag/big-data\"\n",
      "# job_query_url = \"http://careers.stackoverflow.com/jobs/tag/data-analysis\"\n",
      "# job_query_url = \"http://careers.stackoverflow.com/jobs/tag/data-analytics\"\n",
      "\n",
      "data_science_job_query_url = \"http://careers.stackoverflow.com/jobs/tag/data-science\"\n"
     ],
     "language": "python",
     "metadata": {},
     "outputs": [],
     "prompt_number": 138
    },
    {
     "cell_type": "code",
     "collapsed": false,
     "input": [
      "\n",
      "data_science_job_html_text = stackoverflow_job_text( data_science_job_query_url )\n",
      "    \n",
      "print( len(data_science_job_html_text) )  #  print the length of the downloaded text\n"
     ],
     "language": "python",
     "metadata": {},
     "outputs": [
      {
       "output_type": "stream",
       "stream": "stdout",
       "text": [
        "13435347\n"
       ]
      }
     ],
     "prompt_number": 139
    },
    {
     "cell_type": "code",
     "collapsed": false,
     "input": [
      "print( data_science_job_html_text[85000 : 86000] )  # print some illustrative lines of the HTML retrieved"
     ],
     "language": "python",
     "metadata": {},
     "outputs": [
      {
       "output_type": "stream",
       "stream": "stdout",
       "text": [
        "jobs/tag/data-science?sort=s\">relevance</a>\r\n",
        "                </li>\r\n",
        "        </ul>\r\n",
        "        <div class=\"tabNav-borderBottom\"></div>\r\n",
        "</div>\r\n",
        "\r\n",
        "\r\n",
        "        \r\n",
        "<div class=\"listResults -jobs list jobs\">\r\n",
        "    <div class=\"listResults\">\r\n",
        "        <div data-jobid=\"80605\" class=\"-item -job\">\r\n",
        "            <p class=\"text _small _muted posted top\">\r\n",
        "                4 weeks ago\r\n",
        "                <br/>\r\n",
        "                \r\n",
        "            </p>\r\n",
        "\r\n",
        "<a class=\"fav-toggle\" data-jobid=\"80605\" href=\"/jobs/togglefavorite/80605?returnUrl=%2fjobs%2ftag%2fdata-science\"></a>            \r\n",
        "            <h3 class=\"-title\">\n",
        "                <a class=\"job-link\" href=\"/jobs/80605/associate-data-engineer-data-wrangler-seed-scientific?a=r20BToxgc8g&amp;searchTerm=%22data+science%22\" title=\"Associate Data Engineer/Data Wrangler\">Associate Data Engineer/Data Wrangler</a>\n",
        "            </h3>\n",
        "\n",
        "\r\n",
        "            <p class=\"text _small location\">\n",
        "                <strong class=\"-employer\">Seed Scientific</strong>&nbsp;&bull;&nbsp;\n",
        "              \n"
       ]
      }
     ],
     "prompt_number": 140
    },
    {
     "cell_type": "code",
     "collapsed": true,
     "input": [
      "# Maybe cache the HTML text here...\n",
      "\n",
      "NERVOUS = False\n",
      "\n",
      "if (NERVOUS):\n",
      "   cache = open(\"cached_non_data_science_html_text.txt\", \"w\")\n",
      "   cache.write(non_data_science_job_html_text)\n",
      "   cache.close()\n",
      "\n",
      "   cache = open(\"cached_data_science_html_text.txt\", \"w\")\n",
      "   cache.write(data_science_job_html_text)\n",
      "   cache.close()\n"
     ],
     "language": "python",
     "metadata": {},
     "outputs": [],
     "prompt_number": 141
    },
    {
     "cell_type": "heading",
     "level": 2,
     "metadata": {},
     "source": [
      "parse the HTML using BeautifulSoup"
     ]
    },
    {
     "cell_type": "code",
     "collapsed": true,
     "input": [
      "from bs4 import BeautifulSoup\n",
      "import requests, operator"
     ],
     "language": "python",
     "metadata": {},
     "outputs": [],
     "prompt_number": 142
    },
    {
     "cell_type": "code",
     "collapsed": false,
     "input": [
      "\n",
      "#  (the current HTML parser cannot handle this input, so we use the old parser here):\n",
      "\n",
      "data_science_job_soup = BeautifulSoup(data_science_job_html_text, 'html.parser')\n",
      "\n",
      "print(len(data_science_job_soup))   # number of high-level tags in the parsed HTML\n",
      "\n",
      "\n",
      "non_data_science_job_soup = BeautifulSoup(non_data_science_job_html_text, 'html.parser')\n",
      "\n",
      "print(len(non_data_science_job_soup))   # number of high-level tags in the parsed HTML"
     ],
     "language": "python",
     "metadata": {},
     "outputs": [
      {
       "output_type": "stream",
       "stream": "stdout",
       "text": [
        "1200\n",
        "1200\n"
       ]
      }
     ],
     "prompt_number": 143
    },
    {
     "cell_type": "code",
     "collapsed": true,
     "input": [
      "# utilities used below to omit unicode symbols from the data, and keep only ascii\n",
      "\n",
      "import unicodedata\n",
      "\n",
      "def asciify(x):\n",
      "   try:\n",
      "      y = x.encode(\"ascii\", 'ignore')\n",
      "   except:\n",
      "      y = x.decode(\"utf-8\", 'ignore').encode(\"ascii\", 'ignore')\n",
      "   return y\n",
      "\n",
      "def first(list):\n",
      "    if type(list) != type([]):  return ''\n",
      "    if len(list) == 0:  return ''\n",
      "    return list[0].strip()\n",
      "\n",
      "def first_ascii(list):\n",
      "    return asciify( first(list) )\n"
     ],
     "language": "python",
     "metadata": {},
     "outputs": [],
     "prompt_number": 144
    },
    {
     "cell_type": "heading",
     "level": 1,
     "metadata": {},
     "source": [
      "Find the frequencies of job tags"
     ]
    },
    {
     "cell_type": "code",
     "collapsed": true,
     "input": [
      "#  dictionary to count the frequencies of each term (= job tag, keyword)\n",
      "\n",
      "def term_frequency_table(soup):  \n",
      "    term_frequency = dict()\n",
      "    for eachJobTagSet in soup.find_all('div', class_ = \"tags\" ):\n",
      "        ActualTagSet = [asciify(job_tag.text.replace('-',' ')) for job_tag in eachJobTagSet.find_all('a')]\n",
      "        for job_tag in ActualTagSet:\n",
      "            if job_tag in term_frequency:\n",
      "                term_frequency[job_tag] += 1\n",
      "            else:\n",
      "                term_frequency[job_tag] = 1\n",
      "    return term_frequency\n"
     ],
     "language": "python",
     "metadata": {},
     "outputs": [],
     "prompt_number": 145
    },
    {
     "cell_type": "code",
     "collapsed": false,
     "input": [
      "data_science_job_term_frequency = term_frequency_table(data_science_job_soup)\n",
      "\n",
      "print(len(data_science_job_term_frequency))"
     ],
     "language": "python",
     "metadata": {},
     "outputs": [
      {
       "output_type": "stream",
       "stream": "stdout",
       "text": [
        "580\n"
       ]
      }
     ],
     "prompt_number": 146
    },
    {
     "cell_type": "code",
     "collapsed": false,
     "input": [
      "# sort the resulting keyword dictionary by frequency,\n",
      "# and print the most frequent in descending order\n",
      "\n",
      "sorted_data_science_job_terms =  sorted(data_science_job_term_frequency.iteritems(), key=operator.itemgetter(1), reverse=True)\n",
      "\n",
      "for term, frequency in sorted_data_science_job_terms:\n",
      "    if frequency > 10:\n",
      "        print \"%s\\t%s\" % (term, frequency)"
     ],
     "language": "python",
     "metadata": {},
     "outputs": [
      {
       "output_type": "stream",
       "stream": "stdout",
       "text": [
        "data\t891\n",
        "sql\t624\n",
        "hadoop\t617\n",
        "python\t534\n",
        "java\t377\n",
        "networking\t217\n",
        "embedded\t204\n",
        "machine learning\t199\n",
        "hacking\t198\n",
        "javascript\t181\n",
        "linux\t180\n",
        "c++\t153\n",
        "mongodb\t147\n",
        "big\t146\n",
        "amazon web services\t136\n",
        "ruby\t134\n",
        "excel\t134\n",
        "nosql\t126\n",
        "mysql\t126\n",
        "postgresql\t120\n",
        "git\t117\n",
        "oop\t112\n",
        "data warehouse\t112\n",
        "apache spark\t108\n",
        "c#\t106\n",
        "analysis\t103\n",
        "mapreduce\t102\n",
        "computer forensics\t102\n",
        "bigdata\t101\n",
        "ruby on rails 4\t100\n",
        "spark streaming\t99\n",
        "multimedia\t99\n",
        "data modeling\t99\n",
        "os\t99\n",
        "scala\t96\n",
        ".net\t82\n",
        "php\t76\n",
        "etl\t75\n",
        "sysadmin\t72\n",
        "redis\t72\n",
        "spark\t69\n",
        "database administration\t67\n",
        "haskell\t66\n",
        "statistics\t65\n",
        "svm\t65\n",
        "e commerce\t63\n",
        "rds\t60\n",
        "jquery\t58\n",
        "kafka\t57\n",
        "r\t57\n",
        "css\t56\n",
        "storm\t55\n",
        "large data\t55\n",
        "android\t52\n",
        "elastic map reduce\t51\n",
        "pig\t50\n",
        "ruby on rails\t49\n",
        "sql server\t49\n",
        "html\t49\n",
        "xml\t47\n",
        "angularjs\t44\n",
        "html5\t42\n",
        "d3.js\t41\n",
        "ios\t40\n",
        "c\t39\n",
        "data analysis\t38\n",
        "computer vision\t37\n",
        "asp.net\t35\n",
        "xslt\t35\n",
        "modeling\t35\n",
        "rest\t30\n",
        "agile\t29\n",
        "elasticsearch\t27\n",
        "node.js\t27\n",
        "unix\t26\n",
        "go\t25\n",
        "css3\t24\n",
        "asp.net mvc\t22\n",
        "java ee\t21\n",
        "spring\t19\n",
        "hpc\t19\n",
        "mobile\t18\n",
        "storage\t18\n",
        "zfs\t17\n",
        "web services\t17\n",
        "hbase\t16\n",
        "backbone.js\t16\n",
        "docker\t16\n",
        "reactjs\t15\n",
        "django\t14\n",
        "cassandra\t14\n",
        "tdd\t14\n",
        "symfony2\t13\n",
        "selenium\t13\n",
        "objective c\t13\n",
        "database\t13\n",
        "multithreading\t12\n",
        "analytics\t11\n",
        "data science\t11\n",
        "development\t11\n"
       ]
      }
     ],
     "prompt_number": 147
    },
    {
     "cell_type": "code",
     "collapsed": false,
     "input": [
      "N = len(sorted_data_science_job_terms)\n",
      "print(N)\n",
      "\n",
      "sorted_data_science_job_terms[0:5]"
     ],
     "language": "python",
     "metadata": {},
     "outputs": [
      {
       "output_type": "stream",
       "stream": "stdout",
       "text": [
        "580\n"
       ]
      },
      {
       "metadata": {},
       "output_type": "pyout",
       "prompt_number": 148,
       "text": [
        "[('data', 891), ('sql', 624), ('hadoop', 617), ('python', 534), ('java', 377)]"
       ]
      }
     ],
     "prompt_number": 148
    },
    {
     "cell_type": "code",
     "collapsed": false,
     "input": [
      "%matplotlib inline\n",
      "\n",
      "import matplotlib.pyplot as plt\n",
      "import matplotlib.text as txt\n",
      "\n",
      "plt.rcParams['figure.figsize'] = (15.0, 12.0)\n",
      "fig, ax = plt.subplots()\n",
      "\n",
      "import numpy as np\n",
      "\n",
      "how_many = 40\n",
      "\n",
      "counts = np.asarray([term_count[1] for term_count in sorted_data_science_job_terms[:how_many]])\n",
      "\n",
      "strings = ([term_count[0] for term_count in sorted_data_science_job_terms[:how_many]])\n",
      "\n",
      "plt.plot( np.log10(1+np.arange(how_many)), np.log10(counts), 'b.' )\n",
      "plt.xlabel( 'log10(rank)' )\n",
      "plt.ylabel( 'log10(frequency)' )\n",
      "plt.title( 'top tags in stackoverflow data science job descriptions' )\n",
      "\n",
      "for rank in range(how_many):\n",
      "    ax.text( np.log10(1+rank), np.log10(counts[rank]), strings[rank], color='red', fontsize=9)\n",
      "    \n",
      "plt.show()"
     ],
     "language": "python",
     "metadata": {},
     "outputs": [
      {
       "metadata": {},
       "output_type": "display_data",
       "png": "[encoded data removed]",
       "text": [
        "<matplotlib.figure.Figure at 0x121cecc50>"
       ]
      }
     ],
     "prompt_number": 149
    },
    {
     "cell_type": "code",
     "collapsed": false,
     "input": [
      "\n",
      "non_data_science_job_term_frequency = term_frequency_table(non_data_science_job_soup)\n",
      "\n",
      "print(len(non_data_science_job_term_frequency))\n",
      "\n",
      "sorted_non_data_science_job_terms =  sorted(non_data_science_job_term_frequency.iteritems(), key=operator.itemgetter(1), reverse=True)\n"
     ],
     "language": "python",
     "metadata": {},
     "outputs": [
      {
       "output_type": "stream",
       "stream": "stdout",
       "text": [
        "692\n"
       ]
      }
     ],
     "prompt_number": 150
    },
    {
     "cell_type": "code",
     "collapsed": false,
     "input": [
      "TagsThatAppearMoreThan10Times  = set([ k for k,n in sorted_data_science_job_terms if n > 10 ])\n",
      "TagsThatAppearMoreThan10Times.update([ k for k,n in sorted_non_data_science_job_terms if n > 10 ])\n",
      "\n",
      "TagsThatAppearMoreThan10Times = list(TagsThatAppearMoreThan10Times)\n",
      "\n",
      "print(len(TagsThatAppearMoreThan10Times))\n"
     ],
     "language": "python",
     "metadata": {},
     "outputs": [
      {
       "output_type": "stream",
       "stream": "stdout",
       "text": [
        "127\n"
       ]
      }
     ],
     "prompt_number": 156
    },
    {
     "cell_type": "code",
     "collapsed": false,
     "input": [
      "print(TagsThatAppearMoreThan10Times)\n"
     ],
     "language": "python",
     "metadata": {},
     "outputs": [
      {
       "output_type": "stream",
       "stream": "stdout",
       "text": [
        "['frontend', 'nosql', 'excel', 'rest', 'kafka', 'node.js', 'mysql', 'go', 'hbase', 'xml', 'agile', 'selenium', 'lamp', 'd3.js', 'user interface', 'networking', 'multithreading', 'css3', 'data modeling', 'data warehouse', 'python', 'big', 'java ee', 'e commerce', 'spark streaming', '.net', 'ruby on rails', 'c++', 'api', 'architecture', 'spring', 'linux', 'scrum', 'mapreduce', 'chef', 'analytics', 'hibernate', 'backbone.js', 'windows', 'scala', 'multimedia', 'redis', 'bigdata', 'large data', 'web services', 'data analysis', 'xslt', 'javascript', 'tdd', 'maven', 'ajax', 'statistics', 'html5', 'model view controller', 'modeling', 'spark', 'swift', 'bash', 'c', 'postgresql', 'rds', 'drupal', 'symfony2', 'mvc', 'elasticsearch', 'elastic map reduce', 'os', 'etl', 'objective c', 'data science', 'unix', 'haskell', 'puppet', 'computer forensics', 'git', 'java', 'perl', 'asp.net mvc', 'json', 'wordpress', 'storm', 'ruby on rails 4', 'testing', 'open source', 'c#', 'apache spark', 'oop', 'ruby', 'jquery', 'sysadmin', 'embedded', 'database', 'machine learning', 'zfs', 'r', 'hacking', 'pig', 'database administration', 'unit testing', 'angularjs', 'ember.js', 'amazon web services', 'cassandra', 'asp.net', 'storage', 'hadoop', 'computer vision', 'html', 'hpc', 'jenkins', 'android', 'css', 'development', 'mongodb', 'reactjs', 'ios', 'automation', 'sql', 'php', 'data', 'svm', 'sass', 'sql server', 'mobile', 'analysis', 'django', 'docker']\n"
       ]
      }
     ],
     "prompt_number": 157
    },
    {
     "cell_type": "heading",
     "level": 2,
     "metadata": {},
     "source": [
      "Tag/Keyword Feature Vectors"
     ]
    },
    {
     "cell_type": "code",
     "collapsed": true,
     "input": [
      "\n",
      "def feature_vector(InputFeatureList, ListOfImportantFeatures):\n",
      "    n = len( ListOfImportantFeatures )\n",
      "    feature_vector = [0] * n\n",
      "    for i in range(n):\n",
      "        if ListOfImportantFeatures[i] in InputFeatureList:\n",
      "            feature_vector[i] += 1\n",
      "    return feature_vector\n"
     ],
     "language": "python",
     "metadata": {},
     "outputs": [],
     "prompt_number": 158
    },
    {
     "cell_type": "code",
     "collapsed": false,
     "input": [
      "\n",
      "important_tag_features = TagsThatAppearMoreThan10Times\n",
      "\n",
      "\n",
      "def tag_feature_vector( KeywordList ):\n",
      "    return  feature_vector( KeywordList, important_tag_features )\n",
      "\n",
      "example = tag_feature_vector( ['python', 'r', 'javascript', 'very rare feature', 'data science'] )\n",
      "print(example)\n"
     ],
     "language": "python",
     "metadata": {},
     "outputs": [
      {
       "output_type": "stream",
       "stream": "stdout",
       "text": [
        "[0, 0, 0, 0, 0, 0, 0, 0, 0, 0, 0, 0, 0, 0, 0, 0, 0, 0, 0, 0, 1, 0, 0, 0, 0, 0, 0, 0, 0, 0, 0, 0, 0, 0, 0, 0, 0, 0, 0, 0, 0, 0, 0, 0, 0, 0, 0, 1, 0, 0, 0, 0, 0, 0, 0, 0, 0, 0, 0, 0, 0, 0, 0, 0, 0, 0, 0, 0, 0, 1, 0, 0, 0, 0, 0, 0, 0, 0, 0, 0, 0, 0, 0, 0, 0, 0, 0, 0, 0, 0, 0, 0, 0, 0, 1, 0, 0, 0, 0, 0, 0, 0, 0, 0, 0, 0, 0, 0, 0, 0, 0, 0, 0, 0, 0, 0, 0, 0, 0, 0, 0, 0, 0, 0, 0, 0, 0]\n"
       ]
      }
     ],
     "prompt_number": 388
    },
    {
     "cell_type": "code",
     "collapsed": true,
     "input": [
      "\n",
      "import string\n",
      "def tag_name(s):\n",
      "    return (s.translate(None, string.punctuation).replace(' ','_') + '_tag')\n",
      "    # delete punctuation, and replace ' ' by '_'\n",
      "\n",
      "\n",
      "important_tag_features_names = [tag_name(f) for f in important_tag_features]\n"
     ],
     "language": "python",
     "metadata": {},
     "outputs": [],
     "prompt_number": 389
    },
    {
     "cell_type": "heading",
     "level": 2,
     "metadata": {},
     "source": [
      "Extract features from each job title"
     ]
    },
    {
     "cell_type": "code",
     "collapsed": true,
     "input": [
      "# edits (of job title text)\n",
      "\n",
      "useful_job_title_edits = [\n",
      "    ('c++', 'cplusplus'), ('c#', 'csharp'), ('.net', 'dotnet'), \n",
      "    ('.', ''), (',', ''), ('.', ''), ('!', ''), ('?', ''), ('&', ''), ('@', ''), (':', ''), ('|', ''),\n",
      "    ('*', ' '), ('/', ' '), ('+', ' '), ('-', ' '), ('_', ' '),\n",
      "    ('\"', ''), (\"'s\", ''), (\"'\", ''), ('  ',' '), ('  ',' '), ('  ',' '),\n",
      "    ('administrateur', 'administrator'), ('anwendungs', 'application'), ('analyse', 'analysis'),\n",
      "    ('app', 'application'), ('applications', 'application'), ('apps', 'application'),\n",
      "    ('back end', 'back_end'), ('backend', 'back_end'),\n",
      "    ('bi', 'businessintelligence'), ('big data', 'big_data'), ('business intelligence', 'business_intelligence'),\n",
      "    ('data analyst', 'data_analysis'), ('data analysis', 'data_analysis'),\n",
      "    ('data wrangler', 'data_wrangling'), ('data wrangling', 'data_wrangling'),\n",
      "    ('data science', 'data_science'), ('data scientist', 'data_science'),\n",
      "    ('data research scientist', 'data_science research'), ('entwickler', ' development'),\n",
      "    ('devops', 'development operations'), ('developers', 'development'), ('developer', 'development'),\n",
      "    ('dev ', 'development '), ('engineering', 'engineer'), ('engineers', 'engineer'),\n",
      "    ('front end', 'front_end'), ('frontend', 'front_end'),\n",
      "    ('full stack', 'full_stack'), ('fullstack', 'full_stack'), ('ingenieur', 'engineer'), ('jr', 'junior'),\n",
      "    ('machine learning', 'machine_learning'),\n",
      "    ('sr', 'senior'), ('ruby on rails', 'ruby'), ('rails', 'ruby'), ('scalable', 'scalability'),\n",
      "    ('service', 'web_service'), ('sw', 'software'), ('systemadministrator', 'operations'), ('testing', 'test'),\n",
      "    ('cplusplus', 'c++'), ('csharp', 'c#'), ('dotnet', '.net')]\n",
      "\n",
      "def edited_job_title_text(TitleText):\n",
      "    T = TitleText.lower()\n",
      "    for pattern,replacement in useful_job_title_edits:\n",
      "        T = T.replace(pattern,replacement)\n",
      "    return T\n"
     ],
     "language": "python",
     "metadata": {},
     "outputs": [],
     "prompt_number": 390
    },
    {
     "cell_type": "code",
     "collapsed": false,
     "input": [
      "# features (appearing as words in the title text)\n",
      "\n",
      "important_title_features = [\n",
      "    'administrator', 'analyst', 'analytics', 'android', 'api', 'application', 'architect', 'back_end',\n",
      "    'big_data', 'business_intelligence', 'cloud', 'data', 'data_analysis', 'database', 'data_science',\n",
      "    'data_wrangling', 'dba', 'development', 'director', 'embedded',\n",
      "    'engineer', 'enterprise', 'etl', 'front_end', 'full_stack', 'hadoop', 'head', 'infrastructure',\n",
      "    'ios', 'java', 'javascript', 'junior', 'lead', 'machine_learning', 'linux', 'manager', 'mobile',\n",
      "    'mysql', 'network', 'operations', 'php', 'principal', 'product', 'programmer', 'python',\n",
      "    'quality', 'reliability', 'research', 'ruby', 'saas', 'scala', 'scalability', 'search', 'security',\n",
      "    'senior', 'sensors', 'software', 'sql', 'startup', 'technical', 'technology', 'test',\n",
      "    'visualization', 'warehouse', 'web', 'web_services']\n",
      "\n",
      "\n",
      "def job_title_features_found_in(TitleInformation):\n",
      "    TitleWords = set(TitleInformation.split(' '))\n",
      "    features_found = []\n",
      "    for term in important_title_features:\n",
      "        if term in TitleWords >= 0:\n",
      "            features_found += [term]\n",
      "    return features_found\n",
      "\n",
      "\n",
      "def job_title_features(TitleText):\n",
      "    return job_title_features_found_in( edited_job_title_text( TitleText ) )\n",
      "\n",
      "example = job_title_features( '... data science ... ETL ... full-stack ... bizarre ...' )\n",
      "print(example)\n"
     ],
     "language": "python",
     "metadata": {},
     "outputs": [
      {
       "output_type": "stream",
       "stream": "stdout",
       "text": [
        "['data_science', 'etl', 'full_stack']\n"
       ]
      }
     ],
     "prompt_number": 391
    },
    {
     "cell_type": "code",
     "collapsed": false,
     "input": [
      "def job_title_feature_vector(JobTitleFeatures):\n",
      "    return feature_vector( JobTitleFeatures, important_title_features )\n",
      "\n",
      "\n",
      "example = job_title_feature_vector( ['data_science', 'etl', 'full_stack'] )\n",
      "print(example)"
     ],
     "language": "python",
     "metadata": {},
     "outputs": [
      {
       "output_type": "stream",
       "stream": "stdout",
       "text": [
        "[0, 0, 0, 0, 0, 0, 0, 0, 0, 0, 0, 0, 0, 0, 1, 0, 0, 0, 0, 0, 0, 0, 1, 0, 1, 0, 0, 0, 0, 0, 0, 0, 0, 0, 0, 0, 0, 0, 0, 0, 0, 0, 0, 0, 0, 0, 0, 0, 0, 0, 0, 0, 0, 0, 0, 0, 0, 0, 0, 0, 0, 0, 0, 0, 0, 0]\n"
       ]
      }
     ],
     "prompt_number": 392
    },
    {
     "cell_type": "code",
     "collapsed": true,
     "input": [
      "# extract title and subtitle from title text\n",
      "\n",
      "def title_and_subtitle(TitleText):\n",
      "    title = TitleText\n",
      "    subtitle=''\n",
      "    for splitstring in [' (', ' - ', ' -', '- ', ' in ', ',']:\n",
      "        if title.find(splitstring)>0:\n",
      "            split_position = title.find(splitstring)\n",
      "            subtitle = asciify(title[(split_position+len(splitstring)):]).strip().replace(')','')\n",
      "            title = asciify(title[0:split_position]).strip()\n",
      "            break\n",
      "    return (title, subtitle)\n"
     ],
     "language": "python",
     "metadata": {},
     "outputs": [],
     "prompt_number": 393
    },
    {
     "cell_type": "heading",
     "level": 2,
     "metadata": {},
     "source": [
      "Extract Company and Location from Employer Text"
     ]
    },
    {
     "cell_type": "code",
     "collapsed": true,
     "input": [
      "def all_up_to(string, pattern):\n",
      "    n = string.find(pattern)\n",
      "    if (n<0): return string\n",
      "    return string[0:n].strip()\n",
      "\n",
      "def without_punctuation(s):\n",
      "    return s.translate(None, string.punctuation).replace('  ',' ').replace(' ','_')\n",
      "\n",
      "def without_suffix(s):\n",
      "    t = s\n",
      "    for suffix in ['INC','Inc','Company','LLC','Llc','LP','Ltd','LTD','GmbH','gmbh','mbH',\n",
      "                   'PLC','Plc','plc','AG','SA','SL','KG','UG','KGaA']:\n",
      "        if t.endswith(suffix):\n",
      "            t = t.replace('_'+suffix,'')\n",
      "    return t\n",
      "\n",
      "def employer_and_location(EmployerText):\n",
      "    employer_location =  [x.strip() for x in first_ascii(EmployerText).split('\\n')]\n",
      "    employer = employer_location[0].strip()\n",
      "    employer = all_up_to(employer,',')\n",
      "    employer = all_up_to(employer,' -')\n",
      "    employer = all_up_to(employer,'|')\n",
      "    employer = all_up_to(employer,'(')\n",
      "    location = employer_location[1]\n",
      "    return (without_suffix(without_punctuation(employer)), location)\n"
     ],
     "language": "python",
     "metadata": {},
     "outputs": [],
     "prompt_number": 429
    },
    {
     "cell_type": "markdown",
     "metadata": {},
     "source": [
      "#Print a table of information summarizing the job descriptions\n",
      "\n",
      "The table includes:\n",
      "<ul>\n",
      "<li>Job Title</li>\n",
      "<li>Job Subtitle (if there is one)</li>\n",
      "<li>List of Title features (keywords)</li>\n",
      "<li>Employer</li>\n",
      "<li>Employer Location</li>\n",
      "<li>JobID</li>\n",
      "<li>(whether remote work is possible or not)</li>\n",
      "<li>(whether relocation is covered or not)</li>\n",
      "<li>Descriptive Keywords/Buzzwords -- usually Skills</li>\n",
      "</ul>"
     ]
    },
    {
     "cell_type": "code",
     "collapsed": false,
     "input": [
      "\n",
      "job_divs = job_soup.find_all('div', class_ = \"-job\" )\n",
      "print(len(job_divs))  #  number of HTML <div>s for job postings\n"
     ],
     "language": "python",
     "metadata": {},
     "outputs": [
      {
       "output_type": "stream",
       "stream": "stdout",
       "text": [
        "2500\n"
       ]
      }
     ],
     "prompt_number": 430
    },
    {
     "cell_type": "code",
     "collapsed": false,
     "input": [
      "def job_table(soup):\n",
      "    JobTable = []\n",
      "    \n",
      "    JobIDs = set([])\n",
      "    for eachJob in soup.find_all('div', class_ = \"-job\" ):\n",
      "   \n",
      "        jobid = asciify(eachJob.get('data-jobid', ''))\n",
      "        if jobid in JobIDs:\n",
      "            continue\n",
      "        JobIDs.add(jobid)\n",
      "        \n",
      "        titleText = first_ascii([x.text for x in eachJob.find_all('h3', class_ = \"-title\")])\n",
      "        title, subtitle = title_and_subtitle(titleText)\n",
      "        title_features = job_title_features(titleText)\n",
      "    \n",
      "        employerText = [x.text.lstrip('\\n') for x in eachJob.find_all('p', class_ = \"text _small location\")]\n",
      "        employer, location = employer_and_location(employerText)\n",
      "    \n",
      "        remote = (\"no\" if (first_ascii([x.text for x in\n",
      "                               eachJob.find_all('span', class_ = \"badge -remote _inline\")])  == '')\n",
      "                  else \"yes\")\n",
      "        relocation = (\"no\" if (first_ascii([x.text for x in\n",
      "                                   eachJob.find_all('span', class_ = \"badge -relocation _inline\")])  == '')\n",
      "                      else \"yes\")\n",
      "   \n",
      "        keyword_list = [asciify(x.text).replace('-',' ')\n",
      "                            for x in eachJob.find_all('a', class_ = \"post-tag job-link\")]\n",
      "        keyword_count = len(keyword_list)\n",
      "        \n",
      "        JobTable += [[title, subtitle, title_features, employer, location,\n",
      "                      jobid, remote, relocation, keyword_count, keyword_list]]\n",
      "    \n",
      "    return JobTable"
     ],
     "language": "python",
     "metadata": {},
     "outputs": [],
     "prompt_number": 431
    },
    {
     "cell_type": "code",
     "collapsed": false,
     "input": [
      "DataScienceJobTable = job_table(data_science_job_soup)\n",
      "\n",
      "len(DataScienceJobTable)"
     ],
     "language": "python",
     "metadata": {},
     "outputs": [
      {
       "metadata": {},
       "output_type": "pyout",
       "prompt_number": 432,
       "text": [
        "634"
       ]
      }
     ],
     "prompt_number": 432
    },
    {
     "cell_type": "code",
     "collapsed": false,
     "input": [
      "NonDataScienceJobTable = job_table(non_data_science_job_soup)\n",
      "\n",
      "len(NonDataScienceJobTable)"
     ],
     "language": "python",
     "metadata": {},
     "outputs": [
      {
       "metadata": {},
       "output_type": "pyout",
       "prompt_number": 433,
       "text": [
        "1016"
       ]
      }
     ],
     "prompt_number": 433
    },
    {
     "cell_type": "heading",
     "level": 2,
     "metadata": {},
     "source": [
      "Explore the Table of Job Postings -- as a List of Lists in Python"
     ]
    },
    {
     "cell_type": "code",
     "collapsed": false,
     "input": [
      "len(DataScienceJobTable[0])  # Table is a list of \"rows\"; each row is a list of length 10."
     ],
     "language": "python",
     "metadata": {},
     "outputs": [
      {
       "metadata": {},
       "output_type": "pyout",
       "prompt_number": 434,
       "text": [
        "10"
       ]
      }
     ],
     "prompt_number": 434
    },
    {
     "cell_type": "code",
     "collapsed": false,
     "input": [
      "DataScienceJobTable[0]  # the first row in the table"
     ],
     "language": "python",
     "metadata": {},
     "outputs": [
      {
       "metadata": {},
       "output_type": "pyout",
       "prompt_number": 435,
       "text": [
        "['Associate Data Engineer/Data Wrangler',\n",
        " '',\n",
        " ['data', 'data_wrangling', 'engineer'],\n",
        " 'Seed_Scientific',\n",
        " 'New York, NY',\n",
        " '80605',\n",
        " 'no',\n",
        " 'no',\n",
        " 2,\n",
        " ['python', 'sql']]"
       ]
      }
     ],
     "prompt_number": 435
    },
    {
     "cell_type": "code",
     "collapsed": false,
     "input": [
      "DataScienceJobTable[0:2]  # the first 2 rows"
     ],
     "language": "python",
     "metadata": {},
     "outputs": [
      {
       "metadata": {},
       "output_type": "pyout",
       "prompt_number": 436,
       "text": [
        "[['Associate Data Engineer/Data Wrangler',\n",
        "  '',\n",
        "  ['data', 'data_wrangling', 'engineer'],\n",
        "  'Seed_Scientific',\n",
        "  'New York, NY',\n",
        "  '80605',\n",
        "  'no',\n",
        "  'no',\n",
        "  2,\n",
        "  ['python', 'sql']],\n",
        " ['Scalable Machine Learning Infrastructure Engineer',\n",
        "  '',\n",
        "  ['engineer', 'infrastructure', 'machine_learning', 'scalability'],\n",
        "  'Realeyes',\n",
        "  'Budapest, Hungary',\n",
        "  '88096',\n",
        "  'no',\n",
        "  'yes',\n",
        "  5,\n",
        "  ['python', 'machine learning', 'spark', 'hadoop', 'svm']]]"
       ]
      }
     ],
     "prompt_number": 436
    },
    {
     "cell_type": "heading",
     "level": 2,
     "metadata": {},
     "source": [
      "pandas : a better Table interface for Python"
     ]
    },
    {
     "cell_type": "code",
     "collapsed": true,
     "input": [
      "import pandas as pd"
     ],
     "language": "python",
     "metadata": {},
     "outputs": [],
     "prompt_number": 437
    },
    {
     "cell_type": "code",
     "collapsed": true,
     "input": [
      "Table = DataScienceJobTable + NonDataScienceJobTable"
     ],
     "language": "python",
     "metadata": {},
     "outputs": [],
     "prompt_number": 438
    },
    {
     "cell_type": "code",
     "collapsed": false,
     "input": [
      "JobDataFrame = pd.DataFrame({\n",
      "    'Title' : [t[0] for t in Table],\n",
      "    'TitleDetails' : [t[1] for t in Table],\n",
      "    'TitleFeatures' : [t[2] for t in Table],\n",
      "    'Employer' : [t[3] for t in Table],\n",
      "    'Location' :    [t[4] for t in Table],\n",
      "    'JobID' : [t[5] for t in Table],\n",
      "    'RemoteWork' : [t[6] for t in Table],\n",
      "    'Relocate': [t[7] for t in Table],\n",
      "    'KeywordCount' : [t[8] for t in Table],\n",
      "    'KeywordList' : [t[9] for t in Table],\n",
      "    'dataScienceJob' : (['yes'] * len(DataScienceJobTable)) + (['no'] * len(NonDataScienceJobTable)) })\n"
     ],
     "language": "python",
     "metadata": {},
     "outputs": [],
     "prompt_number": 439
    },
    {
     "cell_type": "heading",
     "level": 2,
     "metadata": {},
     "source": [
      "Write out the job data frame to \"JobDataFrame.tsv\""
     ]
    },
    {
     "cell_type": "code",
     "collapsed": false,
     "input": [
      "\n",
      "JobDataFrame.to_csv('JobDataFrame.tsv', sep='\\t', header=True)\n",
      "\n",
      "print(JobDataFrame.shape)   # display the size of the table\n"
     ],
     "language": "python",
     "metadata": {},
     "outputs": [
      {
       "output_type": "stream",
       "stream": "stdout",
       "text": [
        "(1650, 11)\n"
       ]
      }
     ],
     "prompt_number": 440
    },
    {
     "cell_type": "heading",
     "level": 2,
     "metadata": {},
     "source": [
      "pandas implements data frames in Python, and can take advantage of web browser interfaces"
     ]
    },
    {
     "cell_type": "code",
     "collapsed": false,
     "input": [
      "JobDataFrame[0:5]"
     ],
     "language": "python",
     "metadata": {},
     "outputs": [
      {
       "html": [
        "<div style=\"max-height:1000px;max-width:1500px;overflow:auto;\">\n",
        "<table border=\"1\" class=\"dataframe\">\n",
        "  <thead>\n",
        "    <tr style=\"text-align: right;\">\n",
        "      <th></th>\n",
        "      <th>Employer</th>\n",
        "      <th>JobID</th>\n",
        "      <th>KeywordCount</th>\n",
        "      <th>KeywordList</th>\n",
        "      <th>Location</th>\n",
        "      <th>Relocate</th>\n",
        "      <th>RemoteWork</th>\n",
        "      <th>Title</th>\n",
        "      <th>TitleDetails</th>\n",
        "      <th>TitleFeatures</th>\n",
        "      <th>dataScienceJob</th>\n",
        "    </tr>\n",
        "  </thead>\n",
        "  <tbody>\n",
        "    <tr>\n",
        "      <th>0</th>\n",
        "      <td>   Seed_Scientific</td>\n",
        "      <td> 80605</td>\n",
        "      <td> 2</td>\n",
        "      <td>                                     [python, sql]</td>\n",
        "      <td>                        New York, NY</td>\n",
        "      <td>  no</td>\n",
        "      <td> no</td>\n",
        "      <td>             Associate Data Engineer/Data Wrangler</td>\n",
        "      <td> </td>\n",
        "      <td>                  [data, data_wrangling, engineer]</td>\n",
        "      <td> yes</td>\n",
        "    </tr>\n",
        "    <tr>\n",
        "      <th>1</th>\n",
        "      <td>          Realeyes</td>\n",
        "      <td> 88096</td>\n",
        "      <td> 5</td>\n",
        "      <td>    [python, machine learning, spark, hadoop, svm]</td>\n",
        "      <td>                   Budapest, Hungary</td>\n",
        "      <td> yes</td>\n",
        "      <td> no</td>\n",
        "      <td> Scalable Machine Learning Infrastructure Engineer</td>\n",
        "      <td> </td>\n",
        "      <td> [engineer, infrastructure, machine_learning, s...</td>\n",
        "      <td> yes</td>\n",
        "    </tr>\n",
        "    <tr>\n",
        "      <th>2</th>\n",
        "      <td>            SumAll</td>\n",
        "      <td> 85469</td>\n",
        "      <td> 5</td>\n",
        "      <td>          [python, java, haskell, hadoop, mongodb]</td>\n",
        "      <td>                        New York, NY</td>\n",
        "      <td>  no</td>\n",
        "      <td> no</td>\n",
        "      <td>                                     Data Engineer</td>\n",
        "      <td> </td>\n",
        "      <td>                                  [data, engineer]</td>\n",
        "      <td> yes</td>\n",
        "    </tr>\n",
        "    <tr>\n",
        "      <th>3</th>\n",
        "      <td> Narrative_Science</td>\n",
        "      <td> 83690</td>\n",
        "      <td> 5</td>\n",
        "      <td> [postgresql, mongodb, redis, database administ...</td>\n",
        "      <td>                         Chicago, IL</td>\n",
        "      <td>  no</td>\n",
        "      <td> no</td>\n",
        "      <td>                                Data Architect/DBA</td>\n",
        "      <td> </td>\n",
        "      <td>                            [architect, data, dba]</td>\n",
        "      <td> yes</td>\n",
        "    </tr>\n",
        "    <tr>\n",
        "      <th>4</th>\n",
        "      <td>       Barricadeio</td>\n",
        "      <td> 83343</td>\n",
        "      <td> 5</td>\n",
        "      <td>    [kafka, storm, hadoop, statistics, large data]</td>\n",
        "      <td> Cork Airport Business Park, Ireland</td>\n",
        "      <td> yes</td>\n",
        "      <td> no</td>\n",
        "      <td>                             Data Science Engineer</td>\n",
        "      <td> </td>\n",
        "      <td>                          [data_science, engineer]</td>\n",
        "      <td> yes</td>\n",
        "    </tr>\n",
        "  </tbody>\n",
        "</table>\n",
        "</div>"
       ],
       "metadata": {},
       "output_type": "pyout",
       "prompt_number": 441,
       "text": [
        "            Employer  JobID  KeywordCount  \\\n",
        "0    Seed_Scientific  80605             2   \n",
        "1           Realeyes  88096             5   \n",
        "2             SumAll  85469             5   \n",
        "3  Narrative_Science  83690             5   \n",
        "4        Barricadeio  83343             5   \n",
        "\n",
        "                                         KeywordList  \\\n",
        "0                                      [python, sql]   \n",
        "1     [python, machine learning, spark, hadoop, svm]   \n",
        "2           [python, java, haskell, hadoop, mongodb]   \n",
        "3  [postgresql, mongodb, redis, database administ...   \n",
        "4     [kafka, storm, hadoop, statistics, large data]   \n",
        "\n",
        "                              Location Relocate RemoteWork  \\\n",
        "0                         New York, NY       no         no   \n",
        "1                    Budapest, Hungary      yes         no   \n",
        "2                         New York, NY       no         no   \n",
        "3                          Chicago, IL       no         no   \n",
        "4  Cork Airport Business Park, Ireland      yes         no   \n",
        "\n",
        "                                               Title TitleDetails  \\\n",
        "0              Associate Data Engineer/Data Wrangler                \n",
        "1  Scalable Machine Learning Infrastructure Engineer                \n",
        "2                                      Data Engineer                \n",
        "3                                 Data Architect/DBA                \n",
        "4                              Data Science Engineer                \n",
        "\n",
        "                                       TitleFeatures dataScienceJob  \n",
        "0                   [data, data_wrangling, engineer]            yes  \n",
        "1  [engineer, infrastructure, machine_learning, s...            yes  \n",
        "2                                   [data, engineer]            yes  \n",
        "3                             [architect, data, dba]            yes  \n",
        "4                           [data_science, engineer]            yes  "
       ]
      }
     ],
     "prompt_number": 441
    },
    {
     "cell_type": "code",
     "collapsed": false,
     "input": [
      "JobDataFrame[ JobDataFrame.Employer == 'Amazon' ]"
     ],
     "language": "python",
     "metadata": {},
     "outputs": [
      {
       "html": [
        "<div style=\"max-height:1000px;max-width:1500px;overflow:auto;\">\n",
        "<table border=\"1\" class=\"dataframe\">\n",
        "  <thead>\n",
        "    <tr style=\"text-align: right;\">\n",
        "      <th></th>\n",
        "      <th>Employer</th>\n",
        "      <th>JobID</th>\n",
        "      <th>KeywordCount</th>\n",
        "      <th>KeywordList</th>\n",
        "      <th>Location</th>\n",
        "      <th>Relocate</th>\n",
        "      <th>RemoteWork</th>\n",
        "      <th>Title</th>\n",
        "      <th>TitleDetails</th>\n",
        "      <th>TitleFeatures</th>\n",
        "      <th>dataScienceJob</th>\n",
        "    </tr>\n",
        "  </thead>\n",
        "  <tbody>\n",
        "    <tr>\n",
        "      <th>28  </th>\n",
        "      <td> Amazon</td>\n",
        "      <td> 88120</td>\n",
        "      <td> 4</td>\n",
        "      <td>    [hadoop, big, data, os]</td>\n",
        "      <td>  Dublin, Ireland</td>\n",
        "      <td> yes</td>\n",
        "      <td>  no</td>\n",
        "      <td>                  Big-Data Devops Support Engineer</td>\n",
        "      <td>                             - Amazon Web Services</td>\n",
        "      <td> [data, development, engineer, operations, web,...</td>\n",
        "      <td> yes</td>\n",
        "    </tr>\n",
        "    <tr>\n",
        "      <th>36  </th>\n",
        "      <td> Amazon</td>\n",
        "      <td> 87482</td>\n",
        "      <td> 2</td>\n",
        "      <td>    [statisitcal, analysis]</td>\n",
        "      <td>      Seattle, WA</td>\n",
        "      <td> yes</td>\n",
        "      <td>  no</td>\n",
        "      <td>                   Senior Data/ Research Scientist</td>\n",
        "      <td>                                                  </td>\n",
        "      <td>                  [data_science, research, senior]</td>\n",
        "      <td> yes</td>\n",
        "    </tr>\n",
        "    <tr>\n",
        "      <th>46  </th>\n",
        "      <td> Amazon</td>\n",
        "      <td> 88256</td>\n",
        "      <td> 3</td>\n",
        "      <td>              [sql, r, sas]</td>\n",
        "      <td>      Seattle, WA</td>\n",
        "      <td> yes</td>\n",
        "      <td>  no</td>\n",
        "      <td>                    Business Intelligence Engineer</td>\n",
        "      <td>                                                  </td>\n",
        "      <td>                 [business_intelligence, engineer]</td>\n",
        "      <td> yes</td>\n",
        "    </tr>\n",
        "    <tr>\n",
        "      <th>52  </th>\n",
        "      <td> Amazon</td>\n",
        "      <td> 87389</td>\n",
        "      <td> 4</td>\n",
        "      <td>       [4, years, of, java]</td>\n",
        "      <td>       Newark, NJ</td>\n",
        "      <td> yes</td>\n",
        "      <td> yes</td>\n",
        "      <td>                     Software Development Engineer</td>\n",
        "      <td>                                                  </td>\n",
        "      <td>                 [development, engineer, software]</td>\n",
        "      <td> yes</td>\n",
        "    </tr>\n",
        "    <tr>\n",
        "      <th>53  </th>\n",
        "      <td> Amazon</td>\n",
        "      <td> 87674</td>\n",
        "      <td> 4</td>\n",
        "      <td>       [4, years, of, java]</td>\n",
        "      <td>       Newark, NJ</td>\n",
        "      <td> yes</td>\n",
        "      <td>  no</td>\n",
        "      <td>                     Software Development Engineer</td>\n",
        "      <td>                                                  </td>\n",
        "      <td>                 [development, engineer, software]</td>\n",
        "      <td> yes</td>\n",
        "    </tr>\n",
        "    <tr>\n",
        "      <th>92  </th>\n",
        "      <td> Amazon</td>\n",
        "      <td> 88189</td>\n",
        "      <td> 3</td>\n",
        "      <td>             [c, c++, java]</td>\n",
        "      <td>      Seattle, WA</td>\n",
        "      <td> yes</td>\n",
        "      <td>  no</td>\n",
        "      <td>              Senior Software Development Engineer</td>\n",
        "      <td>                                                  </td>\n",
        "      <td>         [development, engineer, senior, software]</td>\n",
        "      <td> yes</td>\n",
        "    </tr>\n",
        "    <tr>\n",
        "      <th>99  </th>\n",
        "      <td> Amazon</td>\n",
        "      <td> 88099</td>\n",
        "      <td> 3</td>\n",
        "      <td>             [java, c++, c]</td>\n",
        "      <td>      Seattle, WA</td>\n",
        "      <td> yes</td>\n",
        "      <td>  no</td>\n",
        "      <td>                      Software Development Manager</td>\n",
        "      <td>                                                  </td>\n",
        "      <td>                  [development, manager, software]</td>\n",
        "      <td> yes</td>\n",
        "    </tr>\n",
        "    <tr>\n",
        "      <th>142 </th>\n",
        "      <td> Amazon</td>\n",
        "      <td> 87398</td>\n",
        "      <td> 5</td>\n",
        "      <td> [coding, in, c, c++, java]</td>\n",
        "      <td>       Irvine, CA</td>\n",
        "      <td> yes</td>\n",
        "      <td> yes</td>\n",
        "      <td>                       Mobile Development Engineer</td>\n",
        "      <td>                                                  </td>\n",
        "      <td>                           [development, engineer]</td>\n",
        "      <td> yes</td>\n",
        "    </tr>\n",
        "    <tr>\n",
        "      <th>229 </th>\n",
        "      <td> Amazon</td>\n",
        "      <td> 87489</td>\n",
        "      <td> 3</td>\n",
        "      <td>   [sde, experience, video]</td>\n",
        "      <td>      Seattle, WA</td>\n",
        "      <td> yes</td>\n",
        "      <td>  no</td>\n",
        "      <td>                                               SDE</td>\n",
        "      <td> Instant Video: Machine Learning, Mobile, Web, ...</td>\n",
        "      <td>                           [machine_learning, web]</td>\n",
        "      <td> yes</td>\n",
        "    </tr>\n",
        "    <tr>\n",
        "      <th>231 </th>\n",
        "      <td> Amazon</td>\n",
        "      <td> 87506</td>\n",
        "      <td> 1</td>\n",
        "      <td>                      [see]</td>\n",
        "      <td>      Seattle, WA</td>\n",
        "      <td> yes</td>\n",
        "      <td>  no</td>\n",
        "      <td> Software Development Engineer, Customer Interests</td>\n",
        "      <td>            Big Data, NLP, Data Mining, Ontologies</td>\n",
        "      <td>           [data, development, engineer, software]</td>\n",
        "      <td> yes</td>\n",
        "    </tr>\n",
        "    <tr>\n",
        "      <th>331 </th>\n",
        "      <td> Amazon</td>\n",
        "      <td> 87499</td>\n",
        "      <td> 3</td>\n",
        "      <td>            [c++, java, c#]</td>\n",
        "      <td>       Irvine, CA</td>\n",
        "      <td> yes</td>\n",
        "      <td> yes</td>\n",
        "      <td>                            Lead Software Engineer</td>\n",
        "      <td>                                Double Helix Games</td>\n",
        "      <td>                        [engineer, lead, software]</td>\n",
        "      <td> yes</td>\n",
        "    </tr>\n",
        "    <tr>\n",
        "      <th>431 </th>\n",
        "      <td> Amazon</td>\n",
        "      <td> 88127</td>\n",
        "      <td> 3</td>\n",
        "      <td>      [python, ruby, linux]</td>\n",
        "      <td>  Dublin, Ireland</td>\n",
        "      <td> yes</td>\n",
        "      <td>  no</td>\n",
        "      <td>                           Senior Systems Engineer</td>\n",
        "      <td>                            AWS Network Monitoring</td>\n",
        "      <td>                       [engineer, network, senior]</td>\n",
        "      <td> yes</td>\n",
        "    </tr>\n",
        "    <tr>\n",
        "      <th>436 </th>\n",
        "      <td> Amazon</td>\n",
        "      <td> 87928</td>\n",
        "      <td> 3</td>\n",
        "      <td>       [chef, puppet, bash]</td>\n",
        "      <td>  Dublin, Ireland</td>\n",
        "      <td> yes</td>\n",
        "      <td>  no</td>\n",
        "      <td>                       Deployment Support Engineer</td>\n",
        "      <td>                               Amazon Web Services</td>\n",
        "      <td>                     [engineer, web, web_services]</td>\n",
        "      <td> yes</td>\n",
        "    </tr>\n",
        "    <tr>\n",
        "      <th>454 </th>\n",
        "      <td> Amazon</td>\n",
        "      <td> 88366</td>\n",
        "      <td> 3</td>\n",
        "      <td>     [java, javascript, c#]</td>\n",
        "      <td>      Seattle, WA</td>\n",
        "      <td> yes</td>\n",
        "      <td>  no</td>\n",
        "      <td>                                    Technical Lead</td>\n",
        "      <td>                               Cloud Drive Website</td>\n",
        "      <td>                          [cloud, lead, technical]</td>\n",
        "      <td> yes</td>\n",
        "    </tr>\n",
        "    <tr>\n",
        "      <th>467 </th>\n",
        "      <td> Amazon</td>\n",
        "      <td> 88110</td>\n",
        "      <td> 2</td>\n",
        "      <td>       [operations, python]</td>\n",
        "      <td>  Dublin, Ireland</td>\n",
        "      <td> yes</td>\n",
        "      <td>  no</td>\n",
        "      <td>                    Operations Engineering Manager</td>\n",
        "      <td>                                     Edge Services</td>\n",
        "      <td>     [engineer, manager, operations, web_services]</td>\n",
        "      <td> yes</td>\n",
        "    </tr>\n",
        "    <tr>\n",
        "      <th>1016</th>\n",
        "      <td> Amazon</td>\n",
        "      <td> 86689</td>\n",
        "      <td> 3</td>\n",
        "      <td>     [linux, unix, windows]</td>\n",
        "      <td> Tel Aviv, Israel</td>\n",
        "      <td>  no</td>\n",
        "      <td>  no</td>\n",
        "      <td>                               IT Support Engineer</td>\n",
        "      <td>                                                  </td>\n",
        "      <td>                                        [engineer]</td>\n",
        "      <td>  no</td>\n",
        "    </tr>\n",
        "    <tr>\n",
        "      <th>1143</th>\n",
        "      <td> Amazon</td>\n",
        "      <td> 88238</td>\n",
        "      <td> 2</td>\n",
        "      <td>      [product, management]</td>\n",
        "      <td>      Seattle, WA</td>\n",
        "      <td> yes</td>\n",
        "      <td>  no</td>\n",
        "      <td>                                   Product Manager</td>\n",
        "      <td>                                                  </td>\n",
        "      <td>                                [manager, product]</td>\n",
        "      <td>  no</td>\n",
        "    </tr>\n",
        "    <tr>\n",
        "      <th>1148</th>\n",
        "      <td> Amazon</td>\n",
        "      <td> 88272</td>\n",
        "      <td> 3</td>\n",
        "      <td>     [linux, system, admin]</td>\n",
        "      <td>      Seattle, WA</td>\n",
        "      <td> yes</td>\n",
        "      <td>  no</td>\n",
        "      <td>                                  Systems Engineer</td>\n",
        "      <td>                                                  </td>\n",
        "      <td>                                        [engineer]</td>\n",
        "      <td>  no</td>\n",
        "    </tr>\n",
        "    <tr>\n",
        "      <th>1152</th>\n",
        "      <td> Amazon</td>\n",
        "      <td> 88304</td>\n",
        "      <td> 1</td>\n",
        "      <td>               [management]</td>\n",
        "      <td>       London, UK</td>\n",
        "      <td> yes</td>\n",
        "      <td>  no</td>\n",
        "      <td>                                  Head of category</td>\n",
        "      <td>                                                  </td>\n",
        "      <td>                                            [head]</td>\n",
        "      <td>  no</td>\n",
        "    </tr>\n",
        "    <tr>\n",
        "      <th>1392</th>\n",
        "      <td> Amazon</td>\n",
        "      <td> 87849</td>\n",
        "      <td> 3</td>\n",
        "      <td>       [tcp, ip, scripting]</td>\n",
        "      <td>      Seattle, WA</td>\n",
        "      <td> yes</td>\n",
        "      <td>  no</td>\n",
        "      <td>                Systems Engineer - New AWS Service</td>\n",
        "      <td>                                            Mobile</td>\n",
        "      <td>                                        [engineer]</td>\n",
        "      <td>  no</td>\n",
        "    </tr>\n",
        "    <tr>\n",
        "      <th>1433</th>\n",
        "      <td> Amazon</td>\n",
        "      <td> 88235</td>\n",
        "      <td> 3</td>\n",
        "      <td>      [retail, buying, sql]</td>\n",
        "      <td>  Jersey City, NJ</td>\n",
        "      <td> yes</td>\n",
        "      <td>  no</td>\n",
        "      <td>                    Senior Merchandising Associate</td>\n",
        "      <td>                                              Pets</td>\n",
        "      <td>                                          [senior]</td>\n",
        "      <td>  no</td>\n",
        "    </tr>\n",
        "  </tbody>\n",
        "</table>\n",
        "</div>"
       ],
       "metadata": {},
       "output_type": "pyout",
       "prompt_number": 442,
       "text": [
        "     Employer  JobID  KeywordCount                 KeywordList  \\\n",
        "28     Amazon  88120             4     [hadoop, big, data, os]   \n",
        "36     Amazon  87482             2     [statisitcal, analysis]   \n",
        "46     Amazon  88256             3               [sql, r, sas]   \n",
        "52     Amazon  87389             4        [4, years, of, java]   \n",
        "53     Amazon  87674             4        [4, years, of, java]   \n",
        "92     Amazon  88189             3              [c, c++, java]   \n",
        "99     Amazon  88099             3              [java, c++, c]   \n",
        "142    Amazon  87398             5  [coding, in, c, c++, java]   \n",
        "229    Amazon  87489             3    [sde, experience, video]   \n",
        "231    Amazon  87506             1                       [see]   \n",
        "331    Amazon  87499             3             [c++, java, c#]   \n",
        "431    Amazon  88127             3       [python, ruby, linux]   \n",
        "436    Amazon  87928             3        [chef, puppet, bash]   \n",
        "454    Amazon  88366             3      [java, javascript, c#]   \n",
        "467    Amazon  88110             2        [operations, python]   \n",
        "1016   Amazon  86689             3      [linux, unix, windows]   \n",
        "1143   Amazon  88238             2       [product, management]   \n",
        "1148   Amazon  88272             3      [linux, system, admin]   \n",
        "1152   Amazon  88304             1                [management]   \n",
        "1392   Amazon  87849             3        [tcp, ip, scripting]   \n",
        "1433   Amazon  88235             3       [retail, buying, sql]   \n",
        "\n",
        "              Location Relocate RemoteWork  \\\n",
        "28     Dublin, Ireland      yes         no   \n",
        "36         Seattle, WA      yes         no   \n",
        "46         Seattle, WA      yes         no   \n",
        "52          Newark, NJ      yes        yes   \n",
        "53          Newark, NJ      yes         no   \n",
        "92         Seattle, WA      yes         no   \n",
        "99         Seattle, WA      yes         no   \n",
        "142         Irvine, CA      yes        yes   \n",
        "229        Seattle, WA      yes         no   \n",
        "231        Seattle, WA      yes         no   \n",
        "331         Irvine, CA      yes        yes   \n",
        "431    Dublin, Ireland      yes         no   \n",
        "436    Dublin, Ireland      yes         no   \n",
        "454        Seattle, WA      yes         no   \n",
        "467    Dublin, Ireland      yes         no   \n",
        "1016  Tel Aviv, Israel       no         no   \n",
        "1143       Seattle, WA      yes         no   \n",
        "1148       Seattle, WA      yes         no   \n",
        "1152        London, UK      yes         no   \n",
        "1392       Seattle, WA      yes         no   \n",
        "1433   Jersey City, NJ      yes         no   \n",
        "\n",
        "                                                  Title  \\\n",
        "28                     Big-Data Devops Support Engineer   \n",
        "36                      Senior Data/ Research Scientist   \n",
        "46                       Business Intelligence Engineer   \n",
        "52                        Software Development Engineer   \n",
        "53                        Software Development Engineer   \n",
        "92                 Senior Software Development Engineer   \n",
        "99                         Software Development Manager   \n",
        "142                         Mobile Development Engineer   \n",
        "229                                                 SDE   \n",
        "231   Software Development Engineer, Customer Interests   \n",
        "331                              Lead Software Engineer   \n",
        "431                             Senior Systems Engineer   \n",
        "436                         Deployment Support Engineer   \n",
        "454                                      Technical Lead   \n",
        "467                      Operations Engineering Manager   \n",
        "1016                                IT Support Engineer   \n",
        "1143                                    Product Manager   \n",
        "1148                                   Systems Engineer   \n",
        "1152                                   Head of category   \n",
        "1392                 Systems Engineer - New AWS Service   \n",
        "1433                     Senior Merchandising Associate   \n",
        "\n",
        "                                           TitleDetails  \\\n",
        "28                                - Amazon Web Services   \n",
        "36                                                        \n",
        "46                                                        \n",
        "52                                                        \n",
        "53                                                        \n",
        "92                                                        \n",
        "99                                                        \n",
        "142                                                       \n",
        "229   Instant Video: Machine Learning, Mobile, Web, ...   \n",
        "231              Big Data, NLP, Data Mining, Ontologies   \n",
        "331                                  Double Helix Games   \n",
        "431                              AWS Network Monitoring   \n",
        "436                                 Amazon Web Services   \n",
        "454                                 Cloud Drive Website   \n",
        "467                                       Edge Services   \n",
        "1016                                                      \n",
        "1143                                                      \n",
        "1148                                                      \n",
        "1152                                                      \n",
        "1392                                             Mobile   \n",
        "1433                                               Pets   \n",
        "\n",
        "                                          TitleFeatures dataScienceJob  \n",
        "28    [data, development, engineer, operations, web,...            yes  \n",
        "36                     [data_science, research, senior]            yes  \n",
        "46                    [business_intelligence, engineer]            yes  \n",
        "52                    [development, engineer, software]            yes  \n",
        "53                    [development, engineer, software]            yes  \n",
        "92            [development, engineer, senior, software]            yes  \n",
        "99                     [development, manager, software]            yes  \n",
        "142                             [development, engineer]            yes  \n",
        "229                             [machine_learning, web]            yes  \n",
        "231             [data, development, engineer, software]            yes  \n",
        "331                          [engineer, lead, software]            yes  \n",
        "431                         [engineer, network, senior]            yes  \n",
        "436                       [engineer, web, web_services]            yes  \n",
        "454                            [cloud, lead, technical]            yes  \n",
        "467       [engineer, manager, operations, web_services]            yes  \n",
        "1016                                         [engineer]             no  \n",
        "1143                                 [manager, product]             no  \n",
        "1148                                         [engineer]             no  \n",
        "1152                                             [head]             no  \n",
        "1392                                         [engineer]             no  \n",
        "1433                                           [senior]             no  "
       ]
      }
     ],
     "prompt_number": 442
    },
    {
     "cell_type": "code",
     "collapsed": false,
     "input": [
      "JobDataFrame[['Title']] [0:5]  #  look at the 'Title' column in the first 5 rows (as a DataFrame)"
     ],
     "language": "python",
     "metadata": {},
     "outputs": [
      {
       "html": [
        "<div style=\"max-height:1000px;max-width:1500px;overflow:auto;\">\n",
        "<table border=\"1\" class=\"dataframe\">\n",
        "  <thead>\n",
        "    <tr style=\"text-align: right;\">\n",
        "      <th></th>\n",
        "      <th>Title</th>\n",
        "    </tr>\n",
        "  </thead>\n",
        "  <tbody>\n",
        "    <tr>\n",
        "      <th>0</th>\n",
        "      <td>             Associate Data Engineer/Data Wrangler</td>\n",
        "    </tr>\n",
        "    <tr>\n",
        "      <th>1</th>\n",
        "      <td> Scalable Machine Learning Infrastructure Engineer</td>\n",
        "    </tr>\n",
        "    <tr>\n",
        "      <th>2</th>\n",
        "      <td>                                     Data Engineer</td>\n",
        "    </tr>\n",
        "    <tr>\n",
        "      <th>3</th>\n",
        "      <td>                                Data Architect/DBA</td>\n",
        "    </tr>\n",
        "    <tr>\n",
        "      <th>4</th>\n",
        "      <td>                             Data Science Engineer</td>\n",
        "    </tr>\n",
        "  </tbody>\n",
        "</table>\n",
        "</div>"
       ],
       "metadata": {},
       "output_type": "pyout",
       "prompt_number": 443,
       "text": [
        "                                               Title\n",
        "0              Associate Data Engineer/Data Wrangler\n",
        "1  Scalable Machine Learning Infrastructure Engineer\n",
        "2                                      Data Engineer\n",
        "3                                 Data Architect/DBA\n",
        "4                              Data Science Engineer"
       ]
      }
     ],
     "prompt_number": 443
    },
    {
     "cell_type": "code",
     "collapsed": false,
     "input": [
      "JobDataFrame[0:5].Title  #  look at the 'Title' column in the first 5 rows (as a Series)"
     ],
     "language": "python",
     "metadata": {},
     "outputs": [
      {
       "metadata": {},
       "output_type": "pyout",
       "prompt_number": 444,
       "text": [
        "0                Associate Data Engineer/Data Wrangler\n",
        "1    Scalable Machine Learning Infrastructure Engineer\n",
        "2                                        Data Engineer\n",
        "3                                   Data Architect/DBA\n",
        "4                                Data Science Engineer\n",
        "Name: Title, dtype: object"
       ]
      }
     ],
     "prompt_number": 444
    },
    {
     "cell_type": "code",
     "collapsed": false,
     "input": [
      "JobDataFrame.Title[0:5]   #  likewise"
     ],
     "language": "python",
     "metadata": {},
     "outputs": [
      {
       "metadata": {},
       "output_type": "pyout",
       "prompt_number": 445,
       "text": [
        "0                Associate Data Engineer/Data Wrangler\n",
        "1    Scalable Machine Learning Infrastructure Engineer\n",
        "2                                        Data Engineer\n",
        "3                                   Data Architect/DBA\n",
        "4                                Data Science Engineer\n",
        "Name: Title, dtype: object"
       ]
      }
     ],
     "prompt_number": 445
    },
    {
     "cell_type": "heading",
     "level": 2,
     "metadata": {},
     "source": [
      "Pandas also supports SQL-like queries"
     ]
    },
    {
     "cell_type": "code",
     "collapsed": false,
     "input": [
      "\n",
      "#   project on Employer and JobID columns\n",
      "#     group by Employer\n",
      "#       count jobIDs per Employer\n",
      "#         order results by this count, in descending order\n",
      "#           show the top 20 results\n",
      "\n",
      "EmployerStats = JobDataFrame[['Employer','dataScienceJob','JobID']].groupby(['Employer','dataScienceJob']).count().sort('JobID', ascending=False)\n",
      "EmployerStats.head(20)\n"
     ],
     "language": "python",
     "metadata": {},
     "outputs": [
      {
       "html": [
        "<div style=\"max-height:1000px;max-width:1500px;overflow:auto;\">\n",
        "<table border=\"1\" class=\"dataframe\">\n",
        "  <thead>\n",
        "    <tr style=\"text-align: right;\">\n",
        "      <th></th>\n",
        "      <th></th>\n",
        "      <th>JobID</th>\n",
        "    </tr>\n",
        "    <tr>\n",
        "      <th>Employer</th>\n",
        "      <th>dataScienceJob</th>\n",
        "      <th></th>\n",
        "    </tr>\n",
        "  </thead>\n",
        "  <tbody>\n",
        "    <tr>\n",
        "      <th>Bloomberg</th>\n",
        "      <th>yes</th>\n",
        "      <td> 16</td>\n",
        "    </tr>\n",
        "    <tr>\n",
        "      <th>Amazon</th>\n",
        "      <th>yes</th>\n",
        "      <td> 15</td>\n",
        "    </tr>\n",
        "    <tr>\n",
        "      <th>Docler_Holding_Luxembourg</th>\n",
        "      <th>no</th>\n",
        "      <td> 10</td>\n",
        "    </tr>\n",
        "    <tr>\n",
        "      <th>Bookingcom</th>\n",
        "      <th>yes</th>\n",
        "      <td>  9</td>\n",
        "    </tr>\n",
        "    <tr>\n",
        "      <th>Pivotal_Labs</th>\n",
        "      <th>no</th>\n",
        "      <td>  9</td>\n",
        "    </tr>\n",
        "    <tr>\n",
        "      <th>Capital_One</th>\n",
        "      <th>yes</th>\n",
        "      <td>  9</td>\n",
        "    </tr>\n",
        "    <tr>\n",
        "      <th>Box</th>\n",
        "      <th>yes</th>\n",
        "      <td>  9</td>\n",
        "    </tr>\n",
        "    <tr>\n",
        "      <th>Lazada</th>\n",
        "      <th>no</th>\n",
        "      <td>  8</td>\n",
        "    </tr>\n",
        "    <tr>\n",
        "      <th>ThoughtWorks</th>\n",
        "      <th>no</th>\n",
        "      <td>  8</td>\n",
        "    </tr>\n",
        "    <tr>\n",
        "      <th>PayPal</th>\n",
        "      <th>yes</th>\n",
        "      <td>  7</td>\n",
        "    </tr>\n",
        "    <tr>\n",
        "      <th>TomTom</th>\n",
        "      <th>no</th>\n",
        "      <td>  7</td>\n",
        "    </tr>\n",
        "    <tr>\n",
        "      <th>Gears_of_Leo</th>\n",
        "      <th>no</th>\n",
        "      <td>  6</td>\n",
        "    </tr>\n",
        "    <tr>\n",
        "      <th>HERE</th>\n",
        "      <th>yes</th>\n",
        "      <td>  6</td>\n",
        "    </tr>\n",
        "    <tr>\n",
        "      <th>iHerb</th>\n",
        "      <th>yes</th>\n",
        "      <td>  6</td>\n",
        "    </tr>\n",
        "    <tr>\n",
        "      <th>Amazon</th>\n",
        "      <th>no</th>\n",
        "      <td>  6</td>\n",
        "    </tr>\n",
        "    <tr>\n",
        "      <th>Xamarin</th>\n",
        "      <th>no</th>\n",
        "      <td>  6</td>\n",
        "    </tr>\n",
        "    <tr>\n",
        "      <th>Idean</th>\n",
        "      <th>no</th>\n",
        "      <td>  5</td>\n",
        "    </tr>\n",
        "    <tr>\n",
        "      <th>ROBLOX</th>\n",
        "      <th>yes</th>\n",
        "      <td>  5</td>\n",
        "    </tr>\n",
        "    <tr>\n",
        "      <th>INRIX</th>\n",
        "      <th>yes</th>\n",
        "      <td>  5</td>\n",
        "    </tr>\n",
        "    <tr>\n",
        "      <th>Jane_Street</th>\n",
        "      <th>no</th>\n",
        "      <td>  5</td>\n",
        "    </tr>\n",
        "  </tbody>\n",
        "</table>\n",
        "</div>"
       ],
       "metadata": {},
       "output_type": "pyout",
       "prompt_number": 446,
       "text": [
        "                                          JobID\n",
        "Employer                  dataScienceJob       \n",
        "Bloomberg                 yes                16\n",
        "Amazon                    yes                15\n",
        "Docler_Holding_Luxembourg no                 10\n",
        "Bookingcom                yes                 9\n",
        "Pivotal_Labs              no                  9\n",
        "Capital_One               yes                 9\n",
        "Box                       yes                 9\n",
        "Lazada                    no                  8\n",
        "ThoughtWorks              no                  8\n",
        "PayPal                    yes                 7\n",
        "TomTom                    no                  7\n",
        "Gears_of_Leo              no                  6\n",
        "HERE                      yes                 6\n",
        "iHerb                     yes                 6\n",
        "Amazon                    no                  6\n",
        "Xamarin                   no                  6\n",
        "Idean                     no                  5\n",
        "ROBLOX                    yes                 5\n",
        "INRIX                     yes                 5\n",
        "Jane_Street               no                  5"
       ]
      }
     ],
     "prompt_number": 446
    },
    {
     "cell_type": "heading",
     "level": 2,
     "metadata": {},
     "source": [
      "Compute the Job Feature classification Table"
     ]
    },
    {
     "cell_type": "code",
     "collapsed": false,
     "input": [
      "\n",
      "UngroupedEmployers = EmployerStats.reset_index()[['Employer']]\n",
      "\n",
      "Employers = UngroupedEmployers.values.flatten().tolist()\n",
      "\n",
      "print(Employers[0:20])\n"
     ],
     "language": "python",
     "metadata": {},
     "outputs": [
      {
       "output_type": "stream",
       "stream": "stdout",
       "text": [
        "['Bloomberg', 'Amazon', 'Docler_Holding_Luxembourg', 'Bookingcom', 'Pivotal_Labs', 'Capital_One', 'Box', 'Lazada', 'ThoughtWorks', 'PayPal', 'TomTom', 'Gears_of_Leo', 'HERE', 'iHerb', 'Amazon', 'Xamarin', 'Idean', 'ROBLOX', 'INRIX', 'Jane_Street']\n"
       ]
      }
     ],
     "prompt_number": 447
    },
    {
     "cell_type": "code",
     "collapsed": false,
     "input": [
      "\n",
      "JobFeatures = [[JobDataFrame.JobID[i], JobDataFrame.Employer[i]] +\n",
      "               job_title_feature_vector(JobDataFrame.TitleFeatures[i]) +\n",
      "               tag_feature_vector(JobDataFrame.KeywordList[i]) +\n",
      "               [('DS' if (JobDataFrame.dataScienceJob[i] == 'yes') else 'nonDS')]\n",
      "               for i in range(JobDataFrame.shape[0])]\n",
      "\n",
      "print(JobFeatures[0:2])\n"
     ],
     "language": "python",
     "metadata": {},
     "outputs": [
      {
       "output_type": "stream",
       "stream": "stdout",
       "text": [
        "[['80605', 'Seed_Scientific', 0, 0, 0, 0, 0, 0, 0, 0, 0, 0, 0, 1, 0, 0, 0, 1, 0, 0, 0, 0, 1, 0, 0, 0, 0, 0, 0, 0, 0, 0, 0, 0, 0, 0, 0, 0, 0, 0, 0, 0, 0, 0, 0, 0, 0, 0, 0, 0, 0, 0, 0, 0, 0, 0, 0, 0, 0, 0, 0, 0, 0, 0, 0, 0, 0, 0, 0, 0, 0, 0, 0, 0, 0, 0, 0, 0, 0, 0, 0, 0, 0, 0, 0, 0, 0, 0, 1, 0, 0, 0, 0, 0, 0, 0, 0, 0, 0, 0, 0, 0, 0, 0, 0, 0, 0, 0, 0, 0, 0, 0, 0, 0, 0, 0, 0, 0, 0, 0, 0, 0, 0, 0, 0, 0, 0, 0, 0, 0, 0, 0, 0, 0, 0, 0, 0, 0, 0, 0, 0, 0, 0, 0, 0, 0, 0, 0, 0, 0, 0, 0, 0, 0, 0, 0, 0, 0, 0, 0, 0, 0, 0, 0, 0, 0, 0, 0, 0, 0, 0, 0, 0, 0, 0, 0, 0, 0, 0, 0, 0, 0, 0, 0, 0, 1, 0, 0, 0, 0, 0, 0, 0, 0, 0, 'DS'], ['88096', 'Realeyes', 0, 0, 0, 0, 0, 0, 0, 0, 0, 0, 0, 0, 0, 0, 0, 0, 0, 0, 0, 0, 1, 0, 0, 0, 0, 0, 0, 1, 0, 0, 0, 0, 0, 1, 0, 0, 0, 0, 0, 0, 0, 0, 0, 0, 0, 0, 0, 0, 0, 0, 0, 1, 0, 0, 0, 0, 0, 0, 0, 0, 0, 0, 0, 0, 0, 0, 0, 0, 0, 0, 0, 0, 0, 0, 0, 0, 0, 0, 0, 0, 0, 0, 0, 0, 0, 0, 1, 0, 0, 0, 0, 0, 0, 0, 0, 0, 0, 0, 0, 0, 0, 0, 0, 0, 0, 0, 0, 0, 0, 0, 0, 0, 0, 0, 0, 0, 0, 0, 0, 0, 0, 1, 0, 0, 0, 0, 0, 0, 0, 0, 0, 0, 0, 0, 0, 0, 0, 0, 0, 0, 0, 0, 0, 0, 0, 0, 0, 0, 0, 0, 0, 0, 0, 0, 0, 0, 0, 0, 1, 0, 0, 0, 0, 0, 0, 0, 0, 0, 0, 0, 0, 1, 0, 0, 0, 0, 0, 0, 0, 0, 0, 0, 0, 0, 0, 0, 1, 0, 0, 0, 0, 0, 0, 'DS']]\n"
       ]
      }
     ],
     "prompt_number": 448
    },
    {
     "cell_type": "code",
     "collapsed": false,
     "input": [
      "# convert JobFeatures into a data frame and transpose it,\n",
      "# so we can name the rows as features, and transpose back.\n",
      "\n",
      "FeatureDF = pd.DataFrame(JobFeatures).T\n",
      "\n",
      "\n",
      "# set the feature names\n",
      "FeatureDF.index = ['JobID', 'Employer'] + \\\n",
      "                  important_title_features + \\\n",
      "                  important_tag_features_names + \\\n",
      "                  ['class']\n",
      "\n",
      "JobClassificationDataFrame = FeatureDF.T  # transpose back\n",
      "\n",
      "print(JobClassificationDataFrame[0:2])"
     ],
     "language": "python",
     "metadata": {},
     "outputs": [
      {
       "output_type": "stream",
       "stream": "stdout",
       "text": [
        "   JobID         Employer administrator analyst analytics android api  \\\n",
        "0  80605  Seed_Scientific             0       0         0       0   0   \n",
        "1  88096         Realeyes             0       0         0       0   0   \n",
        "\n",
        "  application architect back_end  ...  php_tag data_tag svm_tag sass_tag  \\\n",
        "0           0         0        0  ...        0        0       0        0   \n",
        "1           0         0        0  ...        0        0       1        0   \n",
        "\n",
        "  sql_server_tag mobile_tag analysis_tag django_tag docker_tag class  \n",
        "0              0          0            0          0          0    DS  \n",
        "1              0          0            0          0          0    DS  \n",
        "\n",
        "[2 rows x 196 columns]\n"
       ]
      }
     ],
     "prompt_number": 449
    },
    {
     "cell_type": "code",
     "collapsed": false,
     "input": [
      "\n",
      "JobClassificationDataFrame.to_csv('JobClassificationDataFrame.csv', sep=',', header=True)\n",
      "\n",
      "print(JobClassificationDataFrame.shape)   # display the size of the table\n"
     ],
     "language": "python",
     "metadata": {},
     "outputs": [
      {
       "output_type": "stream",
       "stream": "stdout",
       "text": [
        "(1650, 196)\n"
       ]
      }
     ],
     "prompt_number": 450
    },
    {
     "cell_type": "code",
     "collapsed": true,
     "input": [],
     "language": "python",
     "metadata": {},
     "outputs": [],
     "prompt_number": null
    },
    {
     "cell_type": "code",
     "collapsed": true,
     "input": [],
     "language": "python",
     "metadata": {},
     "outputs": [],
     "prompt_number": null
    },
    {
     "cell_type": "heading",
     "level": 2,
     "metadata": {},
     "source": [
      "That's it!  Now:  convert JobClassificationDataFrame into a \"job classifier\""
     ]
    },
    {
     "cell_type": "markdown",
     "metadata": {
      "collapsed": true
     },
     "source": [
      "The column named 'dataScienceJob' is the classification given for each job.\n",
      "(This classification has been determined by stackoverflow.)\n",
      "Your job is to build an accurate classifier.\n",
      "\n",
      "Once you have a classifier, you must upload a Python program that executes it.\n",
      "This is easy to do in Python:  you simply \"pickle\" the classifier model structure,\n",
      "save it in a program, and have the program execute the pickled version."
     ]
    },
    {
     "cell_type": "code",
     "collapsed": true,
     "input": [],
     "language": "python",
     "metadata": {},
     "outputs": [],
     "prompt_number": null
    },
    {
     "cell_type": "code",
     "collapsed": true,
     "input": [],
     "language": "python",
     "metadata": {},
     "outputs": [],
     "prompt_number": null
    },
    {
     "cell_type": "heading",
     "level": 1,
     "metadata": {},
     "source": [
      "Extra Material, in case it helps"
     ]
    },
    {
     "cell_type": "heading",
     "level": 2,
     "metadata": {},
     "source": [
      "A little more Exploration of the Data"
     ]
    },
    {
     "cell_type": "code",
     "collapsed": false,
     "input": [
      "\n",
      "EmployerTagFeatures = [(e,tag_feature_vector(\n",
      "                              [tag for keyword_list in \n",
      "                               JobDataFrame[ JobDataFrame.Employer == e ].KeywordList\n",
      "                               for tag in keyword_list]))\n",
      "                          for e in Employers]\n",
      "\n",
      "print(EmployerTagFeatures[0:2])\n"
     ],
     "language": "python",
     "metadata": {},
     "outputs": [
      {
       "output_type": "stream",
       "stream": "stdout",
       "text": [
        "[('Bloomberg', [0, 1, 0, 0, 0, 0, 0, 1, 0, 0, 0, 0, 0, 0, 0, 0, 0, 0, 0, 0, 1, 0, 0, 0, 0, 0, 1, 1, 0, 0, 0, 0, 0, 0, 0, 0, 0, 0, 0, 0, 0, 0, 1, 0, 0, 0, 0, 1, 0, 0, 0, 0, 1, 0, 0, 0, 0, 0, 1, 0, 0, 0, 0, 0, 0, 0, 0, 0, 0, 0, 1, 0, 0, 0, 0, 1, 0, 0, 0, 0, 0, 0, 0, 0, 1, 0, 0, 1, 0, 1, 0, 1, 1, 0, 0, 0, 0, 0, 0, 0, 0, 0, 0, 0, 0, 1, 0, 1, 0, 0, 0, 1, 0, 0, 0, 0, 0, 1, 1, 0, 0, 0, 0, 0, 0, 0, 0]), ('Amazon', [0, 0, 0, 0, 0, 0, 0, 0, 0, 0, 0, 0, 0, 0, 0, 0, 0, 0, 0, 0, 1, 1, 0, 0, 0, 0, 0, 1, 0, 0, 0, 1, 0, 0, 1, 0, 0, 0, 1, 0, 0, 0, 0, 0, 0, 0, 0, 1, 0, 0, 0, 0, 0, 0, 0, 0, 0, 1, 1, 0, 0, 0, 0, 0, 0, 0, 1, 0, 0, 0, 1, 0, 1, 0, 0, 1, 0, 0, 0, 0, 0, 0, 0, 0, 1, 0, 0, 1, 0, 0, 0, 0, 0, 0, 1, 0, 0, 0, 0, 0, 0, 0, 0, 0, 0, 1, 0, 0, 0, 0, 0, 0, 0, 0, 0, 0, 0, 1, 0, 1, 0, 0, 0, 0, 1, 0, 0])]\n"
       ]
      }
     ],
     "prompt_number": 451
    },
    {
     "cell_type": "code",
     "collapsed": false,
     "input": [
      "\n",
      "EmployerTitleFeatures = [(e,job_title_feature_vector(\n",
      "                               [f for feature_list in \n",
      "                                JobDataFrame[ JobDataFrame.Employer == e ].TitleFeatures\n",
      "                                for f in feature_list]))\n",
      "                            for e in Employers]\n",
      "\n",
      "print(EmployerTitleFeatures[0:2])\n"
     ],
     "language": "python",
     "metadata": {},
     "outputs": [
      {
       "output_type": "stream",
       "stream": "stdout",
       "text": [
        "[('Bloomberg', [0, 0, 0, 0, 0, 0, 1, 0, 0, 0, 1, 1, 0, 0, 0, 0, 0, 1, 0, 0, 1, 0, 0, 0, 0, 0, 0, 1, 0, 0, 1, 0, 0, 0, 0, 0, 0, 0, 0, 0, 1, 0, 0, 1, 1, 0, 0, 0, 0, 0, 0, 1, 0, 0, 1, 0, 1, 0, 1, 0, 0, 0, 0, 0, 1, 0]), ('Amazon', [0, 0, 0, 0, 0, 0, 0, 0, 0, 1, 1, 1, 0, 0, 1, 0, 0, 1, 0, 0, 1, 0, 0, 0, 0, 0, 1, 0, 0, 0, 0, 0, 1, 1, 0, 1, 0, 0, 1, 1, 0, 0, 1, 0, 0, 0, 0, 1, 0, 0, 0, 0, 0, 0, 1, 0, 1, 0, 0, 1, 0, 0, 0, 0, 1, 1])]\n"
       ]
      }
     ],
     "prompt_number": 452
    },
    {
     "cell_type": "code",
     "collapsed": false,
     "input": [
      "\n",
      "EmployerFeatures = [(e, Tags+Titles)  #  combine Tag and Title Features into one feature vector\n",
      "                    for eTags, eTitles in zip( EmployerTagFeatures, EmployerTitleFeatures )\n",
      "                    for e,Tags in [eTags]\n",
      "                    for e,Titles in [eTitles]]\n",
      "\n",
      "print(EmployerFeatures[0:2])\n"
     ],
     "language": "python",
     "metadata": {},
     "outputs": [
      {
       "output_type": "stream",
       "stream": "stdout",
       "text": [
        "[('Bloomberg', [0, 1, 0, 0, 0, 0, 0, 1, 0, 0, 0, 0, 0, 0, 0, 0, 0, 0, 0, 0, 1, 0, 0, 0, 0, 0, 1, 1, 0, 0, 0, 0, 0, 0, 0, 0, 0, 0, 0, 0, 0, 0, 1, 0, 0, 0, 0, 1, 0, 0, 0, 0, 1, 0, 0, 0, 0, 0, 1, 0, 0, 0, 0, 0, 0, 0, 0, 0, 0, 0, 1, 0, 0, 0, 0, 1, 0, 0, 0, 0, 0, 0, 0, 0, 1, 0, 0, 1, 0, 1, 0, 1, 1, 0, 0, 0, 0, 0, 0, 0, 0, 0, 0, 0, 0, 1, 0, 1, 0, 0, 0, 1, 0, 0, 0, 0, 0, 1, 1, 0, 0, 0, 0, 0, 0, 0, 0, 0, 0, 0, 0, 0, 0, 1, 0, 0, 0, 1, 1, 0, 0, 0, 0, 0, 1, 0, 0, 1, 0, 0, 0, 0, 0, 0, 1, 0, 0, 1, 0, 0, 0, 0, 0, 0, 0, 0, 0, 1, 0, 0, 1, 1, 0, 0, 0, 0, 0, 0, 1, 0, 0, 1, 0, 1, 0, 1, 0, 0, 0, 0, 0, 1, 0]), ('Amazon', [0, 0, 0, 0, 0, 0, 0, 0, 0, 0, 0, 0, 0, 0, 0, 0, 0, 0, 0, 0, 1, 1, 0, 0, 0, 0, 0, 1, 0, 0, 0, 1, 0, 0, 1, 0, 0, 0, 1, 0, 0, 0, 0, 0, 0, 0, 0, 1, 0, 0, 0, 0, 0, 0, 0, 0, 0, 1, 1, 0, 0, 0, 0, 0, 0, 0, 1, 0, 0, 0, 1, 0, 1, 0, 0, 1, 0, 0, 0, 0, 0, 0, 0, 0, 1, 0, 0, 1, 0, 0, 0, 0, 0, 0, 1, 0, 0, 0, 0, 0, 0, 0, 0, 0, 0, 1, 0, 0, 0, 0, 0, 0, 0, 0, 0, 0, 0, 1, 0, 1, 0, 0, 0, 0, 1, 0, 0, 0, 0, 0, 0, 0, 0, 0, 0, 0, 1, 1, 1, 0, 0, 1, 0, 0, 1, 0, 0, 1, 0, 0, 0, 0, 0, 1, 0, 0, 0, 0, 0, 1, 1, 0, 1, 0, 0, 1, 1, 0, 0, 1, 0, 0, 0, 0, 1, 0, 0, 0, 0, 0, 0, 1, 0, 1, 0, 0, 1, 0, 0, 0, 0, 1, 1])]\n"
       ]
      }
     ],
     "prompt_number": 453
    },
    {
     "cell_type": "heading",
     "level": 2,
     "metadata": {},
     "source": [
      "Compute the Employers vs. Features data frame"
     ]
    },
    {
     "cell_type": "code",
     "collapsed": false,
     "input": [
      "EFdict = dict(EmployerFeatures)\n",
      "\n",
      "Features_vs_Employers = pd.DataFrame(EFdict)\n",
      "Features_vs_Employers.index = important_tag_features_names + important_title_features\n",
      "\n",
      "print(Features_vs_Employers.shape)\n",
      "\n",
      "Features_vs_Employers[0:2]\n"
     ],
     "language": "python",
     "metadata": {},
     "outputs": [
      {
       "output_type": "stream",
       "stream": "stdout",
       "text": [
        "(193, 1117)\n"
       ]
      },
      {
       "html": [
        "<div style=\"max-height:1000px;max-width:1500px;overflow:auto;\">\n",
        "<table border=\"1\" class=\"dataframe\">\n",
        "  <thead>\n",
        "    <tr style=\"text-align: right;\">\n",
        "      <th></th>\n",
        "      <th></th>\n",
        "      <th>100grams</th>\n",
        "      <th>11_Internet</th>\n",
        "      <th>15Five</th>\n",
        "      <th>1StudentBody</th>\n",
        "      <th>2C2P</th>\n",
        "      <th>2U</th>\n",
        "      <th>3D_MarComms</th>\n",
        "      <th>42reports</th>\n",
        "      <th>500friends</th>\n",
        "      <th>...</th>\n",
        "      <th>tsu</th>\n",
        "      <th>tyntec</th>\n",
        "      <th>uShip</th>\n",
        "      <th>ubitricity_Gesellschaft_fr_verteilte_Energiesysteme</th>\n",
        "      <th>vi</th>\n",
        "      <th>viagogo</th>\n",
        "      <th>webqem</th>\n",
        "      <th>wwwplanetartcom</th>\n",
        "      <th>zanox</th>\n",
        "      <th>zulily</th>\n",
        "    </tr>\n",
        "  </thead>\n",
        "  <tbody>\n",
        "    <tr>\n",
        "      <th>frontend_tag</th>\n",
        "      <td> 0</td>\n",
        "      <td> 0</td>\n",
        "      <td> 0</td>\n",
        "      <td> 0</td>\n",
        "      <td> 0</td>\n",
        "      <td> 0</td>\n",
        "      <td> 0</td>\n",
        "      <td> 0</td>\n",
        "      <td> 1</td>\n",
        "      <td> 0</td>\n",
        "      <td>...</td>\n",
        "      <td> 0</td>\n",
        "      <td> 0</td>\n",
        "      <td> 0</td>\n",
        "      <td> 0</td>\n",
        "      <td> 0</td>\n",
        "      <td> 0</td>\n",
        "      <td> 0</td>\n",
        "      <td> 0</td>\n",
        "      <td> 0</td>\n",
        "      <td> 0</td>\n",
        "    </tr>\n",
        "    <tr>\n",
        "      <th>nosql_tag</th>\n",
        "      <td> 0</td>\n",
        "      <td> 0</td>\n",
        "      <td> 0</td>\n",
        "      <td> 0</td>\n",
        "      <td> 0</td>\n",
        "      <td> 0</td>\n",
        "      <td> 0</td>\n",
        "      <td> 0</td>\n",
        "      <td> 0</td>\n",
        "      <td> 0</td>\n",
        "      <td>...</td>\n",
        "      <td> 0</td>\n",
        "      <td> 0</td>\n",
        "      <td> 0</td>\n",
        "      <td> 0</td>\n",
        "      <td> 0</td>\n",
        "      <td> 0</td>\n",
        "      <td> 0</td>\n",
        "      <td> 0</td>\n",
        "      <td> 0</td>\n",
        "      <td> 0</td>\n",
        "    </tr>\n",
        "  </tbody>\n",
        "</table>\n",
        "<p>2 rows \u00d7 1117 columns</p>\n",
        "</div>"
       ],
       "metadata": {},
       "output_type": "pyout",
       "prompt_number": 454,
       "text": [
        "                 100grams  11_Internet  15Five  1StudentBody  2C2P  2U  \\\n",
        "frontend_tag  0         0            0       0             0     0   0   \n",
        "nosql_tag     0         0            0       0             0     0   0   \n",
        "\n",
        "              3D_MarComms  42reports  500friends   ...    tsu  tyntec  uShip  \\\n",
        "frontend_tag            0          1           0   ...      0       0      0   \n",
        "nosql_tag               0          0           0   ...      0       0      0   \n",
        "\n",
        "              ubitricity_Gesellschaft_fr_verteilte_Energiesysteme  vi  \\\n",
        "frontend_tag                                                  0     0   \n",
        "nosql_tag                                                     0     0   \n",
        "\n",
        "              viagogo  webqem  wwwplanetartcom  zanox  zulily  \n",
        "frontend_tag        0       0                0      0       0  \n",
        "nosql_tag           0       0                0      0       0  \n",
        "\n",
        "[2 rows x 1117 columns]"
       ]
      }
     ],
     "prompt_number": 454
    },
    {
     "cell_type": "code",
     "collapsed": false,
     "input": [
      "Employers_vs_Features = Features_vs_Employers.T   # transpose of Features_vs_Employers\n",
      "\n",
      "print(Employers_vs_Features.shape)\n",
      "\n",
      "Employers_vs_Features[0:3]"
     ],
     "language": "python",
     "metadata": {},
     "outputs": [
      {
       "output_type": "stream",
       "stream": "stdout",
       "text": [
        "(1117, 193)\n"
       ]
      },
      {
       "html": [
        "<div style=\"max-height:1000px;max-width:1500px;overflow:auto;\">\n",
        "<table border=\"1\" class=\"dataframe\">\n",
        "  <thead>\n",
        "    <tr style=\"text-align: right;\">\n",
        "      <th></th>\n",
        "      <th>frontend_tag</th>\n",
        "      <th>nosql_tag</th>\n",
        "      <th>excel_tag</th>\n",
        "      <th>rest_tag</th>\n",
        "      <th>kafka_tag</th>\n",
        "      <th>nodejs_tag</th>\n",
        "      <th>mysql_tag</th>\n",
        "      <th>go_tag</th>\n",
        "      <th>hbase_tag</th>\n",
        "      <th>xml_tag</th>\n",
        "      <th>...</th>\n",
        "      <th>software</th>\n",
        "      <th>sql</th>\n",
        "      <th>startup</th>\n",
        "      <th>technical</th>\n",
        "      <th>technology</th>\n",
        "      <th>test</th>\n",
        "      <th>visualization</th>\n",
        "      <th>warehouse</th>\n",
        "      <th>web</th>\n",
        "      <th>web_services</th>\n",
        "    </tr>\n",
        "  </thead>\n",
        "  <tbody>\n",
        "    <tr>\n",
        "      <th></th>\n",
        "      <td> 0</td>\n",
        "      <td> 0</td>\n",
        "      <td> 0</td>\n",
        "      <td> 0</td>\n",
        "      <td> 0</td>\n",
        "      <td> 0</td>\n",
        "      <td> 1</td>\n",
        "      <td> 0</td>\n",
        "      <td> 0</td>\n",
        "      <td> 0</td>\n",
        "      <td>...</td>\n",
        "      <td> 0</td>\n",
        "      <td> 0</td>\n",
        "      <td> 0</td>\n",
        "      <td> 0</td>\n",
        "      <td> 0</td>\n",
        "      <td> 0</td>\n",
        "      <td> 0</td>\n",
        "      <td> 0</td>\n",
        "      <td> 0</td>\n",
        "      <td> 0</td>\n",
        "    </tr>\n",
        "    <tr>\n",
        "      <th>100grams</th>\n",
        "      <td> 0</td>\n",
        "      <td> 0</td>\n",
        "      <td> 0</td>\n",
        "      <td> 0</td>\n",
        "      <td> 0</td>\n",
        "      <td> 0</td>\n",
        "      <td> 0</td>\n",
        "      <td> 0</td>\n",
        "      <td> 0</td>\n",
        "      <td> 0</td>\n",
        "      <td>...</td>\n",
        "      <td> 0</td>\n",
        "      <td> 0</td>\n",
        "      <td> 0</td>\n",
        "      <td> 0</td>\n",
        "      <td> 0</td>\n",
        "      <td> 0</td>\n",
        "      <td> 0</td>\n",
        "      <td> 0</td>\n",
        "      <td> 0</td>\n",
        "      <td> 0</td>\n",
        "    </tr>\n",
        "    <tr>\n",
        "      <th>11_Internet</th>\n",
        "      <td> 0</td>\n",
        "      <td> 0</td>\n",
        "      <td> 0</td>\n",
        "      <td> 1</td>\n",
        "      <td> 0</td>\n",
        "      <td> 0</td>\n",
        "      <td> 0</td>\n",
        "      <td> 0</td>\n",
        "      <td> 0</td>\n",
        "      <td> 0</td>\n",
        "      <td>...</td>\n",
        "      <td> 0</td>\n",
        "      <td> 0</td>\n",
        "      <td> 0</td>\n",
        "      <td> 0</td>\n",
        "      <td> 0</td>\n",
        "      <td> 0</td>\n",
        "      <td> 0</td>\n",
        "      <td> 0</td>\n",
        "      <td> 0</td>\n",
        "      <td> 0</td>\n",
        "    </tr>\n",
        "  </tbody>\n",
        "</table>\n",
        "<p>3 rows \u00d7 193 columns</p>\n",
        "</div>"
       ],
       "metadata": {},
       "output_type": "pyout",
       "prompt_number": 455,
       "text": [
        "             frontend_tag  nosql_tag  excel_tag  rest_tag  kafka_tag  \\\n",
        "                        0          0          0         0          0   \n",
        "100grams                0          0          0         0          0   \n",
        "11_Internet             0          0          0         1          0   \n",
        "\n",
        "             nodejs_tag  mysql_tag  go_tag  hbase_tag  xml_tag      ...       \\\n",
        "                      0          1       0          0        0      ...        \n",
        "100grams              0          0       0          0        0      ...        \n",
        "11_Internet           0          0       0          0        0      ...        \n",
        "\n",
        "             software  sql  startup  technical  technology  test  \\\n",
        "                    0    0        0          0           0     0   \n",
        "100grams            0    0        0          0           0     0   \n",
        "11_Internet         0    0        0          0           0     0   \n",
        "\n",
        "             visualization  warehouse  web  web_services  \n",
        "                         0          0    0             0  \n",
        "100grams                 0          0    0             0  \n",
        "11_Internet              0          0    0             0  \n",
        "\n",
        "[3 rows x 193 columns]"
       ]
      }
     ],
     "prompt_number": 455
    },
    {
     "cell_type": "heading",
     "level": 1,
     "metadata": {},
     "source": [
      "Performing PCA on Employers vs. Features in R"
     ]
    },
    {
     "cell_type": "code",
     "collapsed": false,
     "input": [
      "%load_ext rpy2.ipython"
     ],
     "language": "python",
     "metadata": {},
     "outputs": [
      {
       "output_type": "stream",
       "stream": "stdout",
       "text": [
        "The rpy2.ipython extension is already loaded. To reload it, use:\n",
        "  %reload_ext rpy2.ipython\n"
       ]
      }
     ],
     "prompt_number": 456
    },
    {
     "cell_type": "code",
     "collapsed": false,
     "input": [
      "%%R -i Employers_vs_Features\n",
      "\n",
      "# pass the Employers vs. Features data from Python to R\n",
      "\n",
      "print(dim(Employers_vs_Features))\n",
      "\n",
      "print(colnames(Employers_vs_Features)[1:30])\n",
      "print(rownames(Employers_vs_Features)[1:30])"
     ],
     "language": "python",
     "metadata": {},
     "outputs": [
      {
       "metadata": {},
       "output_type": "display_data",
       "text": [
        "[1] 1117  191\n",
        " [1] \"frontend_tag\"        \"nosql_tag\"           \"excel_tag\"          \n",
        " [4] \"rest_tag\"            \"kafka_tag\"           \"nodejs_tag\"         \n",
        " [7] \"mysql_tag\"           \"go_tag\"              \"hbase_tag\"          \n",
        "[10] \"xml_tag\"             \"agile_tag\"           \"selenium_tag\"       \n",
        "[13] \"lamp_tag\"            \"d3js_tag\"            \"user_interface_tag\" \n",
        "[16] \"networking_tag\"      \"multithreading_tag\"  \"css3_tag\"           \n",
        "[19] \"data_modeling_tag\"   \"data_warehouse_tag\"  \"python_tag\"         \n",
        "[22] \"big_tag\"             \"java_ee_tag\"         \"e_commerce_tag\"     \n",
        "[25] \"spark_streaming_tag\" \"net_tag\"             \"ruby_on_rails_tag\"  \n",
        "[28] \"c_tag\"               \"api_tag\"             \"architecture_tag\"   \n",
        " [1] \"\"                                      \n",
        " [2] \"100grams\"                              \n",
        " [3] \"11_Internet\"                           \n",
        " [4] \"15Five\"                                \n",
        " [5] \"1StudentBody\"                          \n",
        " [6] \"2C2P\"                                  \n",
        " [7] \"2U\"                                    \n",
        " [8] \"3D_MarComms\"                           \n",
        " [9] \"42reports\"                             \n",
        "[10] \"500friends\"                            \n",
        "[11] \"7Pixel_srl\"                            \n",
        "[12] \"7_Cups_of_Tea\"                         \n",
        "[13] \"99Taxis\"                               \n",
        "[14] \"ADP\"                                   \n",
        "[15] \"ASOScom\"                               \n",
        "[16] \"A_Different_Engine\"                    \n",
        "[17] \"Actiance\"                              \n",
        "[18] \"ActiveCampaign\"                        \n",
        "[19] \"ActiveProspect\"                        \n",
        "[20] \"AdAgility\"                             \n",
        "[21] \"Adaptdev\"                              \n",
        "[22] \"Addictive_Mobility\"                    \n",
        "[23] \"Adeptia\"                               \n",
        "[24] \"Adobe_Systems\"                         \n",
        "[25] \"AdoptaPetcom\"                          \n",
        "[26] \"Adstream\"                              \n",
        "[27] \"Adtile_Technologies\"                   \n",
        "[28] \"Advanced_Business_Computers_of_America\"\n",
        "[29] \"Agents_Mutual_Onthemarketcom\"          \n",
        "[30] \"Aidin\"                                 \n"
       ]
      }
     ],
     "prompt_number": 460
    },
    {
     "cell_type": "code",
     "collapsed": false,
     "input": [
      "%%R -w 1000 -h 800\n",
      "\n",
      "## PCA on the Employer/Keyword Data\n",
      "\n",
      "NonZeroVariance = (apply(Employers_vs_Features, 2, var) != 0)\n",
      "\n",
      "EF = Employers_vs_Features[, NonZeroVariance]\n",
      "\n",
      "EF_SVD = svd(cor(EF))\n",
      "xjitter = rnorm( nrow(EF_SVD$u), 0, 1 )\n",
      "yjitter = rnorm( nrow(EF_SVD$u), 0, 1 )\n",
      "\n",
      "plot(log(EF_SVD$u[,1])+xjitter, log(EF_SVD$u[,2])+yjitter,\n",
      "     pch=20, col=\"red\", cex=1.5, main=\"PCA for the Employer/Keyword Data\")\n",
      "\n",
      "text(log(EF_SVD$u[,1])+xjitter, log(EF_SVD$u[,2])+yjitter,\n",
      "     rownames(EF), pos=4, col=adjustcolor(\"blue\",alpha.f=0.2), cex=0.85)  #  add Employer names\n",
      "\n"
     ],
     "language": "python",
     "metadata": {
      "scrolled": true
     },
     "outputs": [
      {
       "metadata": {},
       "output_type": "display_data",
       "png": "[encoded data removed]"
      }
     ],
     "prompt_number": 458
    },
    {
     "cell_type": "code",
     "collapsed": false,
     "input": [
      "%%R -w 900 -h 500\n",
      "\n",
      "plot(EF_SVD$d, type=\"o\", pch=20, col=\"blue\",\n",
      "     ylab=\"eigenvalue\",\n",
      "     main=\"scree plot, showing eigenvalues of the Employer correlation matrix\")"
     ],
     "language": "python",
     "metadata": {
      "scrolled": false
     },
     "outputs": [
      {
       "metadata": {},
       "output_type": "display_data",
       "png": "[encoded data removed]"
      }
     ],
     "prompt_number": 459
    },
    {
     "cell_type": "code",
     "collapsed": true,
     "input": [],
     "language": "python",
     "metadata": {},
     "outputs": [],
     "prompt_number": null
    }
   ],
   "metadata": {}
  }
 ]
}