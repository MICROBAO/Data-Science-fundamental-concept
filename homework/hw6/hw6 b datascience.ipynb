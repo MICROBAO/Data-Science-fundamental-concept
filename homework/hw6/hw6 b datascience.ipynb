{
 "cells": [
  {
   "cell_type": "code",
   "execution_count": 3,
   "metadata": {
    "collapsed": true
   },
   "outputs": [],
   "source": [
    "%matplotlib inline\n",
    "import matplotlib.pyplot as plt\n",
    "import numpy as np\n",
    "import pandas as pd\n",
    "\n",
    "import warnings\n",
    "warnings.simplefilter('ignore', DeprecationWarning)"
   ]
  },
  {
   "cell_type": "code",
   "execution_count": null,
   "metadata": {
    "collapsed": true
   },
   "outputs": [],
   "source": [
    "data = pd.read_csv('/Users/Dongzhe/Desktop/cs249/hw6/data_science_job_train.csv')\n",
    "data.shape"
   ]
  },
  {
   "cell_type": "code",
   "execution_count": 201,
   "metadata": {
    "collapsed": false
   },
   "outputs": [
    {
     "data": {
      "text/plain": [
       "['administrator',\n",
       " 'analyst',\n",
       " 'analytics',\n",
       " 'android',\n",
       " 'api',\n",
       " 'application',\n",
       " 'architect',\n",
       " 'back_end',\n",
       " 'big_data',\n",
       " 'business_intelligence',\n",
       " 'cloud',\n",
       " 'data',\n",
       " 'data_analysis',\n",
       " 'database',\n",
       " 'data_science',\n",
       " 'data_wrangling',\n",
       " 'dba',\n",
       " 'development',\n",
       " 'director',\n",
       " 'embedded',\n",
       " 'engineer',\n",
       " 'enterprise',\n",
       " 'etl',\n",
       " 'front_end',\n",
       " 'full_stack',\n",
       " 'hadoop',\n",
       " 'head',\n",
       " 'infrastructure',\n",
       " 'ios',\n",
       " 'java',\n",
       " 'javascript',\n",
       " 'junior',\n",
       " 'lead',\n",
       " 'machine_learning',\n",
       " 'linux',\n",
       " 'manager',\n",
       " 'mobile',\n",
       " 'mysql',\n",
       " 'network',\n",
       " 'operations',\n",
       " 'php',\n",
       " 'principal',\n",
       " 'product',\n",
       " 'programmer',\n",
       " 'python',\n",
       " 'quality',\n",
       " 'reliability',\n",
       " 'research',\n",
       " 'ruby',\n",
       " 'saas',\n",
       " 'scala',\n",
       " 'scalability',\n",
       " 'search',\n",
       " 'security',\n",
       " 'senior',\n",
       " 'sensors',\n",
       " 'software',\n",
       " 'sql',\n",
       " 'startup',\n",
       " 'technical',\n",
       " 'technology',\n",
       " 'test',\n",
       " 'visualization',\n",
       " 'warehouse',\n",
       " 'web',\n",
       " 'web_services',\n",
       " 'frontend_tag',\n",
       " 'nosql_tag',\n",
       " 'excel_tag',\n",
       " 'rest_tag',\n",
       " 'kafka_tag',\n",
       " 'nodejs_tag',\n",
       " 'mysql_tag',\n",
       " 'go_tag',\n",
       " 'hbase_tag',\n",
       " 'xml_tag',\n",
       " 'agile_tag',\n",
       " 'selenium_tag',\n",
       " 'lamp_tag',\n",
       " 'd3js_tag',\n",
       " 'user_interface_tag',\n",
       " 'networking_tag',\n",
       " 'multithreading_tag',\n",
       " 'css3_tag',\n",
       " 'data_modeling_tag',\n",
       " 'data_warehouse_tag',\n",
       " 'python_tag',\n",
       " 'big_tag',\n",
       " 'java_ee_tag',\n",
       " 'e_commerce_tag',\n",
       " 'spark_streaming_tag',\n",
       " 'net_tag',\n",
       " 'ruby_on_rails_tag',\n",
       " 'c_tag',\n",
       " 'api_tag',\n",
       " 'architecture_tag',\n",
       " 'spring_tag',\n",
       " 'linux_tag',\n",
       " 'scrum_tag',\n",
       " 'mapreduce_tag',\n",
       " 'chef_tag',\n",
       " 'analytics_tag',\n",
       " 'hibernate_tag',\n",
       " 'backbonejs_tag',\n",
       " 'windows_tag',\n",
       " 'scala_tag',\n",
       " 'multimedia_tag',\n",
       " 'redis_tag',\n",
       " 'bigdata_tag',\n",
       " 'large_data_tag',\n",
       " 'web_services_tag',\n",
       " 'data_analysis_tag',\n",
       " 'xslt_tag',\n",
       " 'javascript_tag',\n",
       " 'tdd_tag',\n",
       " 'maven_tag',\n",
       " 'ajax_tag',\n",
       " 'statistics_tag',\n",
       " 'html5_tag',\n",
       " 'model_view_controller_tag',\n",
       " 'modeling_tag',\n",
       " 'spark_tag',\n",
       " 'swift_tag',\n",
       " 'bash_tag',\n",
       " 'c_tag.1',\n",
       " 'postgresql_tag',\n",
       " 'rds_tag',\n",
       " 'drupal_tag',\n",
       " 'symfony2_tag',\n",
       " 'mvc_tag',\n",
       " 'elasticsearch_tag',\n",
       " 'elastic_map_reduce_tag',\n",
       " 'os_tag',\n",
       " 'etl_tag',\n",
       " 'objective_c_tag',\n",
       " 'data_science_tag',\n",
       " 'unix_tag',\n",
       " 'haskell_tag',\n",
       " 'puppet_tag',\n",
       " 'computer_forensics_tag',\n",
       " 'git_tag',\n",
       " 'java_tag',\n",
       " 'perl_tag',\n",
       " 'aspnet_mvc_tag',\n",
       " 'json_tag',\n",
       " 'wordpress_tag',\n",
       " 'storm_tag',\n",
       " 'ruby_on_rails_4_tag',\n",
       " 'testing_tag',\n",
       " 'open_source_tag',\n",
       " 'c_tag.2',\n",
       " 'apache_spark_tag',\n",
       " 'oop_tag',\n",
       " 'ruby_tag',\n",
       " 'jquery_tag',\n",
       " 'sysadmin_tag',\n",
       " 'embedded_tag',\n",
       " 'database_tag',\n",
       " 'machine_learning_tag',\n",
       " 'zfs_tag',\n",
       " 'r_tag',\n",
       " 'hacking_tag',\n",
       " 'pig_tag',\n",
       " 'database_administration_tag',\n",
       " 'unit_testing_tag',\n",
       " 'angularjs_tag',\n",
       " 'emberjs_tag',\n",
       " 'amazon_web_services_tag',\n",
       " 'cassandra_tag',\n",
       " 'aspnet_tag',\n",
       " 'storage_tag',\n",
       " 'hadoop_tag',\n",
       " 'computer_vision_tag',\n",
       " 'html_tag',\n",
       " 'hpc_tag',\n",
       " 'jenkins_tag',\n",
       " 'android_tag',\n",
       " 'css_tag',\n",
       " 'development_tag',\n",
       " 'mongodb_tag',\n",
       " 'reactjs_tag',\n",
       " 'ios_tag',\n",
       " 'automation_tag',\n",
       " 'sql_tag',\n",
       " 'php_tag',\n",
       " 'data_tag',\n",
       " 'svm_tag',\n",
       " 'sass_tag',\n",
       " 'sql_server_tag',\n",
       " 'mobile_tag',\n",
       " 'analysis_tag',\n",
       " 'django_tag',\n",
       " 'docker_tag']"
      ]
     },
     "execution_count": 201,
     "metadata": {},
     "output_type": "execute_result"
    }
   ],
   "source": [
    "data.count()\n",
    "\n",
    "title=list(data.columns.values)\n",
    "title=title[0:-1]\n",
    "title"
   ]
  },
  {
   "cell_type": "code",
   "execution_count": 202,
   "metadata": {
    "collapsed": false
   },
   "outputs": [
    {
     "data": {
      "text/html": [
       "<div style=\"max-height:1000px;max-width:1500px;overflow:auto;\">\n",
       "<table border=\"1\" class=\"dataframe\">\n",
       "  <thead>\n",
       "    <tr style=\"text-align: right;\">\n",
       "      <th></th>\n",
       "      <th>administrator</th>\n",
       "      <th>analyst</th>\n",
       "      <th>analytics</th>\n",
       "      <th>android</th>\n",
       "      <th>api</th>\n",
       "      <th>application</th>\n",
       "      <th>architect</th>\n",
       "      <th>back_end</th>\n",
       "      <th>big_data</th>\n",
       "      <th>business_intelligence</th>\n",
       "      <th>...</th>\n",
       "      <th>data_tag</th>\n",
       "      <th>svm_tag</th>\n",
       "      <th>sass_tag</th>\n",
       "      <th>sql_server_tag</th>\n",
       "      <th>mobile_tag</th>\n",
       "      <th>analysis_tag</th>\n",
       "      <th>django_tag</th>\n",
       "      <th>docker_tag</th>\n",
       "      <th>Class_DS</th>\n",
       "      <th>Class_nonDS</th>\n",
       "    </tr>\n",
       "  </thead>\n",
       "  <tbody>\n",
       "    <tr>\n",
       "      <th>0</th>\n",
       "      <td> 0</td>\n",
       "      <td> 0</td>\n",
       "      <td> 0</td>\n",
       "      <td> 0</td>\n",
       "      <td> 0</td>\n",
       "      <td> 0</td>\n",
       "      <td> 0</td>\n",
       "      <td> 0</td>\n",
       "      <td> 0</td>\n",
       "      <td> 0</td>\n",
       "      <td>...</td>\n",
       "      <td> 0</td>\n",
       "      <td> 0</td>\n",
       "      <td> 0</td>\n",
       "      <td> 0</td>\n",
       "      <td> 0</td>\n",
       "      <td> 0</td>\n",
       "      <td> 0</td>\n",
       "      <td> 0</td>\n",
       "      <td> 1</td>\n",
       "      <td> 0</td>\n",
       "    </tr>\n",
       "    <tr>\n",
       "      <th>1</th>\n",
       "      <td> 0</td>\n",
       "      <td> 0</td>\n",
       "      <td> 0</td>\n",
       "      <td> 0</td>\n",
       "      <td> 0</td>\n",
       "      <td> 0</td>\n",
       "      <td> 0</td>\n",
       "      <td> 0</td>\n",
       "      <td> 0</td>\n",
       "      <td> 0</td>\n",
       "      <td>...</td>\n",
       "      <td> 0</td>\n",
       "      <td> 1</td>\n",
       "      <td> 0</td>\n",
       "      <td> 0</td>\n",
       "      <td> 0</td>\n",
       "      <td> 0</td>\n",
       "      <td> 0</td>\n",
       "      <td> 0</td>\n",
       "      <td> 1</td>\n",
       "      <td> 0</td>\n",
       "    </tr>\n",
       "    <tr>\n",
       "      <th>2</th>\n",
       "      <td> 0</td>\n",
       "      <td> 0</td>\n",
       "      <td> 0</td>\n",
       "      <td> 0</td>\n",
       "      <td> 0</td>\n",
       "      <td> 0</td>\n",
       "      <td> 0</td>\n",
       "      <td> 0</td>\n",
       "      <td> 0</td>\n",
       "      <td> 0</td>\n",
       "      <td>...</td>\n",
       "      <td> 0</td>\n",
       "      <td> 0</td>\n",
       "      <td> 0</td>\n",
       "      <td> 0</td>\n",
       "      <td> 0</td>\n",
       "      <td> 0</td>\n",
       "      <td> 0</td>\n",
       "      <td> 0</td>\n",
       "      <td> 1</td>\n",
       "      <td> 0</td>\n",
       "    </tr>\n",
       "    <tr>\n",
       "      <th>3</th>\n",
       "      <td> 0</td>\n",
       "      <td> 0</td>\n",
       "      <td> 0</td>\n",
       "      <td> 0</td>\n",
       "      <td> 0</td>\n",
       "      <td> 0</td>\n",
       "      <td> 1</td>\n",
       "      <td> 0</td>\n",
       "      <td> 0</td>\n",
       "      <td> 0</td>\n",
       "      <td>...</td>\n",
       "      <td> 0</td>\n",
       "      <td> 0</td>\n",
       "      <td> 0</td>\n",
       "      <td> 0</td>\n",
       "      <td> 0</td>\n",
       "      <td> 0</td>\n",
       "      <td> 0</td>\n",
       "      <td> 0</td>\n",
       "      <td> 1</td>\n",
       "      <td> 0</td>\n",
       "    </tr>\n",
       "    <tr>\n",
       "      <th>4</th>\n",
       "      <td> 0</td>\n",
       "      <td> 0</td>\n",
       "      <td> 0</td>\n",
       "      <td> 0</td>\n",
       "      <td> 0</td>\n",
       "      <td> 0</td>\n",
       "      <td> 0</td>\n",
       "      <td> 0</td>\n",
       "      <td> 0</td>\n",
       "      <td> 0</td>\n",
       "      <td>...</td>\n",
       "      <td> 0</td>\n",
       "      <td> 0</td>\n",
       "      <td> 0</td>\n",
       "      <td> 0</td>\n",
       "      <td> 0</td>\n",
       "      <td> 0</td>\n",
       "      <td> 0</td>\n",
       "      <td> 0</td>\n",
       "      <td> 1</td>\n",
       "      <td> 0</td>\n",
       "    </tr>\n",
       "  </tbody>\n",
       "</table>\n",
       "<p>5 rows × 195 columns</p>\n",
       "</div>"
      ],
      "text/plain": [
       "   administrator  analyst  analytics  android  api  application  architect  \\\n",
       "0              0        0          0        0    0            0          0   \n",
       "1              0        0          0        0    0            0          0   \n",
       "2              0        0          0        0    0            0          0   \n",
       "3              0        0          0        0    0            0          1   \n",
       "4              0        0          0        0    0            0          0   \n",
       "\n",
       "   back_end  big_data  business_intelligence     ...       data_tag  svm_tag  \\\n",
       "0         0         0                      0     ...              0        0   \n",
       "1         0         0                      0     ...              0        1   \n",
       "2         0         0                      0     ...              0        0   \n",
       "3         0         0                      0     ...              0        0   \n",
       "4         0         0                      0     ...              0        0   \n",
       "\n",
       "   sass_tag  sql_server_tag  mobile_tag  analysis_tag  django_tag  docker_tag  \\\n",
       "0         0               0           0             0           0           0   \n",
       "1         0               0           0             0           0           0   \n",
       "2         0               0           0             0           0           0   \n",
       "3         0               0           0             0           0           0   \n",
       "4         0               0           0             0           0           0   \n",
       "\n",
       "   Class_DS  Class_nonDS  \n",
       "0         1            0  \n",
       "1         1            0  \n",
       "2         1            0  \n",
       "3         1            0  \n",
       "4         1            0  \n",
       "\n",
       "[5 rows x 195 columns]"
      ]
     },
     "execution_count": 202,
     "metadata": {},
     "output_type": "execute_result"
    }
   ],
   "source": [
    "\n",
    "data_rich = pd.concat([data.get(title),\n",
    "                           pd.get_dummies(data.Class, prefix='Class')],axis=1)\n",
    "data_rich.head()"
   ]
  },
  {
   "cell_type": "code",
   "execution_count": 204,
   "metadata": {
    "collapsed": false
   },
   "outputs": [
    {
     "data": {
      "text/html": [
       "<div style=\"max-height:1000px;max-width:1500px;overflow:auto;\">\n",
       "<table border=\"1\" class=\"dataframe\">\n",
       "  <thead>\n",
       "    <tr style=\"text-align: right;\">\n",
       "      <th></th>\n",
       "      <th>administrator</th>\n",
       "      <th>analyst</th>\n",
       "      <th>analytics</th>\n",
       "      <th>android</th>\n",
       "      <th>api</th>\n",
       "      <th>application</th>\n",
       "      <th>architect</th>\n",
       "      <th>back_end</th>\n",
       "      <th>big_data</th>\n",
       "      <th>business_intelligence</th>\n",
       "      <th>...</th>\n",
       "      <th>sql_tag</th>\n",
       "      <th>php_tag</th>\n",
       "      <th>data_tag</th>\n",
       "      <th>svm_tag</th>\n",
       "      <th>sass_tag</th>\n",
       "      <th>sql_server_tag</th>\n",
       "      <th>mobile_tag</th>\n",
       "      <th>analysis_tag</th>\n",
       "      <th>django_tag</th>\n",
       "      <th>docker_tag</th>\n",
       "    </tr>\n",
       "    <tr>\n",
       "      <th>Class_DS</th>\n",
       "      <th></th>\n",
       "      <th></th>\n",
       "      <th></th>\n",
       "      <th></th>\n",
       "      <th></th>\n",
       "      <th></th>\n",
       "      <th></th>\n",
       "      <th></th>\n",
       "      <th></th>\n",
       "      <th></th>\n",
       "      <th></th>\n",
       "      <th></th>\n",
       "      <th></th>\n",
       "      <th></th>\n",
       "      <th></th>\n",
       "      <th></th>\n",
       "      <th></th>\n",
       "      <th></th>\n",
       "      <th></th>\n",
       "      <th></th>\n",
       "      <th></th>\n",
       "    </tr>\n",
       "  </thead>\n",
       "  <tbody>\n",
       "    <tr>\n",
       "      <th>0</th>\n",
       "      <td> 630</td>\n",
       "      <td> 630</td>\n",
       "      <td> 630</td>\n",
       "      <td> 630</td>\n",
       "      <td> 630</td>\n",
       "      <td> 630</td>\n",
       "      <td> 630</td>\n",
       "      <td> 630</td>\n",
       "      <td> 630</td>\n",
       "      <td> 630</td>\n",
       "      <td>...</td>\n",
       "      <td> 630</td>\n",
       "      <td> 630</td>\n",
       "      <td> 630</td>\n",
       "      <td> 630</td>\n",
       "      <td> 630</td>\n",
       "      <td> 630</td>\n",
       "      <td> 630</td>\n",
       "      <td> 630</td>\n",
       "      <td> 630</td>\n",
       "      <td> 630</td>\n",
       "    </tr>\n",
       "    <tr>\n",
       "      <th>1</th>\n",
       "      <td> 420</td>\n",
       "      <td> 420</td>\n",
       "      <td> 420</td>\n",
       "      <td> 420</td>\n",
       "      <td> 420</td>\n",
       "      <td> 420</td>\n",
       "      <td> 420</td>\n",
       "      <td> 420</td>\n",
       "      <td> 420</td>\n",
       "      <td> 420</td>\n",
       "      <td>...</td>\n",
       "      <td> 420</td>\n",
       "      <td> 420</td>\n",
       "      <td> 420</td>\n",
       "      <td> 420</td>\n",
       "      <td> 420</td>\n",
       "      <td> 420</td>\n",
       "      <td> 420</td>\n",
       "      <td> 420</td>\n",
       "      <td> 420</td>\n",
       "      <td> 420</td>\n",
       "    </tr>\n",
       "  </tbody>\n",
       "</table>\n",
       "<p>2 rows × 193 columns</p>\n",
       "</div>"
      ],
      "text/plain": [
       "          administrator  analyst  analytics  android  api  application  \\\n",
       "Class_DS                                                                 \n",
       "0                   630      630        630      630  630          630   \n",
       "1                   420      420        420      420  420          420   \n",
       "\n",
       "          architect  back_end  big_data  business_intelligence     ...      \\\n",
       "Class_DS                                                           ...       \n",
       "0               630       630       630                    630     ...       \n",
       "1               420       420       420                    420     ...       \n",
       "\n",
       "          sql_tag  php_tag  data_tag  svm_tag  sass_tag  sql_server_tag  \\\n",
       "Class_DS                                                                  \n",
       "0             630      630       630      630       630             630   \n",
       "1             420      420       420      420       420             420   \n",
       "\n",
       "          mobile_tag  analysis_tag  django_tag  docker_tag  \n",
       "Class_DS                                                    \n",
       "0                630           630         630         630  \n",
       "1                420           420         420         420  \n",
       "\n",
       "[2 rows x 193 columns]"
      ]
     },
     "execution_count": 204,
     "metadata": {},
     "output_type": "execute_result"
    }
   ],
   "source": [
    "data_final =data_rich.drop('Class_nonDS', 1)\n",
    "\n",
    "data_final.groupby('Class_DS').count()  \n"
   ]
  },
  {
   "cell_type": "code",
   "execution_count": 65,
   "metadata": {
    "collapsed": false
   },
   "outputs": [
    {
     "data": {
      "text/plain": [
       "numpy.ndarray"
      ]
     },
     "execution_count": 65,
     "metadata": {},
     "output_type": "execute_result"
    }
   ],
   "source": [
    "target=data_final.Class_DS.values\n",
    "type(target)\n"
   ]
  },
  {
   "cell_type": "code",
   "execution_count": 67,
   "metadata": {
    "collapsed": false
   },
   "outputs": [
    {
     "data": {
      "text/plain": [
       "array([ 1.,  1.,  1., ...,  0.,  0.,  0.])"
      ]
     },
     "execution_count": 67,
     "metadata": {},
     "output_type": "execute_result"
    }
   ],
   "source": [
    "target"
   ]
  },
  {
   "cell_type": "code",
   "execution_count": 180,
   "metadata": {
    "collapsed": false
   },
   "outputs": [],
   "source": [
    "\n",
    "features=data.get(['data','sql','hadoop','python','java','networking_tag','embedded_tag','machine_learning_tag','hacking_tag','javascript','linux','mongodb_tag','big_tag','amazon_web_services_tag','ruby','excel_tag','mysql','postgresql_tag'])"
   ]
  },
  {
   "cell_type": "code",
   "execution_count": 181,
   "metadata": {
    "collapsed": false
   },
   "outputs": [
    {
     "data": {
      "text/plain": [
       "(1050, 18)"
      ]
     },
     "execution_count": 181,
     "metadata": {},
     "output_type": "execute_result"
    }
   ],
   "source": [
    "features.shape"
   ]
  },
  {
   "cell_type": "code",
   "execution_count": null,
   "metadata": {
    "collapsed": false
   },
   "outputs": [],
   "source": []
  },
  {
   "cell_type": "code",
   "execution_count": 184,
   "metadata": {
    "collapsed": false
   },
   "outputs": [],
   "source": [
    "\n",
    "from sklearn.cross_validation import train_test_split\n",
    "\n",
    "features_train, features_test, target_train, target_test = train_test_split(\n",
    "    features_final, target, test_size=0.20, random_state=0)"
   ]
  },
  {
   "cell_type": "code",
   "execution_count": 185,
   "metadata": {
    "collapsed": false
   },
   "outputs": [
    {
     "data": {
      "text/plain": [
       "(840, 18)"
      ]
     },
     "execution_count": 185,
     "metadata": {},
     "output_type": "execute_result"
    }
   ],
   "source": [
    "features_train.shape"
   ]
  },
  {
   "cell_type": "code",
   "execution_count": 186,
   "metadata": {
    "collapsed": false
   },
   "outputs": [
    {
     "data": {
      "text/plain": [
       "(840,)"
      ]
     },
     "execution_count": 186,
     "metadata": {},
     "output_type": "execute_result"
    }
   ],
   "source": [
    "target_train.shape\n"
   ]
  },
  {
   "cell_type": "code",
   "execution_count": 187,
   "metadata": {
    "collapsed": false
   },
   "outputs": [],
   "source": [
    "from sklearn.linear_model import LogisticRegression\n",
    "\n",
    "logreg = LogisticRegression(C=1)\n"
   ]
  },
  {
   "cell_type": "code",
   "execution_count": 188,
   "metadata": {
    "collapsed": false
   },
   "outputs": [
    {
     "name": "stdout",
     "output_type": "stream",
     "text": [
      "(0.59047619047619049, 0.65142857142857147, 0.80952380952380953)\n"
     ]
    }
   ],
   "source": [
    "from sklearn.cross_validation import cross_val_score\n",
    "\n",
    "scores = cross_val_score(logreg, features_final, target, cv=10, n_jobs=4,\n",
    "                         scoring='accuracy')\n",
    "print(scores.min(), scores.mean(), scores.max())"
   ]
  },
  {
   "cell_type": "code",
   "execution_count": null,
   "metadata": {
    "collapsed": false
   },
   "outputs": [],
   "source": []
  },
  {
   "cell_type": "code",
   "execution_count": 192,
   "metadata": {
    "collapsed": false
   },
   "outputs": [
    {
     "name": "stdout",
     "output_type": "stream",
     "text": [
      "(0.5714285714285714, 0.65333333333333332, 0.81904761904761902)\n"
     ]
    }
   ],
   "source": [
    "from sklearn.ensemble import GradientBoostingClassifier\n",
    "from sklearn.cross_validation import cross_val_score\n",
    "\n",
    "\n",
    "gb = GradientBoostingClassifier(n_estimators=100, learning_rate=0.1,\n",
    "                                subsample=.8, max_features=.6)\n",
    "scores = cross_val_score(gb, features_final, target, cv=10, n_jobs=4,\n",
    "                         scoring='accuracy')\n",
    "print(scores.min(), scores.mean(), scores.max())"
   ]
  },
  {
   "cell_type": "code",
   "execution_count": 193,
   "metadata": {
    "collapsed": false
   },
   "outputs": [
    {
     "name": "stdout",
     "output_type": "stream",
     "text": [
      "(0.60952380952380958, 0.65428571428571425, 0.74761904761904763)\n"
     ]
    }
   ],
   "source": [
    "\n",
    "\n",
    "from sklearn.ensemble import RandomForestClassifier\n",
    "\n",
    "rf = RandomForestClassifier(n_estimators=150)\n",
    "scores = cross_val_score(rf,features_final, target, cv=5, n_jobs=4,\n",
    "                         scoring='accuracy')\n",
    "print(scores.min(), scores.mean(), scores.max())"
   ]
  },
  {
   "cell_type": "code",
   "execution_count": 147,
   "metadata": {
    "collapsed": false
   },
   "outputs": [
    {
     "data": {
      "text/plain": [
       "5"
      ]
     },
     "execution_count": 147,
     "metadata": {},
     "output_type": "execute_result"
    }
   ],
   "source": [
    "from sklearn.grid_search import GridSearchCV\n",
    "\n",
    "gb = GradientBoostingClassifier(n_estimators=100, subsample=.8)\n",
    "\n",
    "params = {\n",
    "    'n_estimators':[100,90,80,120,150],\n",
    "    \n",
    "    \n",
    "    'max_depth': [3, 4, 5],\n",
    "}\n",
    "\n",
    "gs = GridSearchCV(rf, params, cv=5, scoring='roc_auc', n_jobs=4)\n",
    "\n",
    "gs.fit(features_final, target)\n",
    "\n",
    "gs.cv"
   ]
  },
  {
   "cell_type": "code",
   "execution_count": 148,
   "metadata": {
    "collapsed": false
   },
   "outputs": [
    {
     "name": "stdout",
     "output_type": "stream",
     "text": [
      "GridSearchCV(cv=5,\n",
      "       estimator=RandomForestClassifier(bootstrap=True, compute_importances=None,\n",
      "            criterion='gini', max_depth=None, max_features='auto',\n",
      "            max_leaf_nodes=None, min_density=None, min_samples_leaf=1,\n",
      "            min_samples_split=2, n_estimators=100, n_jobs=1,\n",
      "            oob_score=False, random_state=None, verbose=0),\n",
      "       fit_params={}, iid=True, loss_func=None, n_jobs=4,\n",
      "       param_grid={'n_estimators': [100, 90, 80, 120, 150], 'max_depth': [3, 4, 5]},\n",
      "       pre_dispatch='2*n_jobs', refit=True, score_func=None,\n",
      "       scoring='roc_auc', verbose=0)\n"
     ]
    }
   ],
   "source": [
    "import pprint\n",
    "pp = pprint.PrettyPrinter(indent=3)\n",
    "\n",
    "pp.pprint( gs )\n",
    " "
   ]
  },
  {
   "cell_type": "code",
   "execution_count": 149,
   "metadata": {
    "collapsed": false
   },
   "outputs": [
    {
     "data": {
      "text/plain": [
       "[mean: 0.55229, std: 0.05981, params: {'n_estimators': 100, 'max_depth': 4},\n",
       " mean: 0.55688, std: 0.06215, params: {'n_estimators': 90, 'max_depth': 5},\n",
       " mean: 0.56383, std: 0.05962, params: {'n_estimators': 80, 'max_depth': 3},\n",
       " mean: 0.56504, std: 0.06818, params: {'n_estimators': 150, 'max_depth': 3},\n",
       " mean: 0.56681, std: 0.05849, params: {'n_estimators': 90, 'max_depth': 3},\n",
       " mean: 0.56759, std: 0.05704, params: {'n_estimators': 150, 'max_depth': 4},\n",
       " mean: 0.56829, std: 0.05070, params: {'n_estimators': 100, 'max_depth': 3},\n",
       " mean: 0.56910, std: 0.06915, params: {'n_estimators': 90, 'max_depth': 4},\n",
       " mean: 0.56967, std: 0.06742, params: {'n_estimators': 120, 'max_depth': 3},\n",
       " mean: 0.57099, std: 0.05999, params: {'n_estimators': 100, 'max_depth': 5},\n",
       " mean: 0.57218, std: 0.06089, params: {'n_estimators': 80, 'max_depth': 5},\n",
       " mean: 0.57281, std: 0.06192, params: {'n_estimators': 120, 'max_depth': 4},\n",
       " mean: 0.57421, std: 0.05861, params: {'n_estimators': 80, 'max_depth': 4},\n",
       " mean: 0.57800, std: 0.05638, params: {'n_estimators': 120, 'max_depth': 5},\n",
       " mean: 0.58203, std: 0.06606, params: {'n_estimators': 150, 'max_depth': 5}]"
      ]
     },
     "execution_count": 149,
     "metadata": {},
     "output_type": "execute_result"
    }
   ],
   "source": [
    "sorted(gs.grid_scores_, key=lambda x: x.mean_validation_score)\n"
   ]
  },
  {
   "cell_type": "code",
   "execution_count": 150,
   "metadata": {
    "collapsed": false
   },
   "outputs": [
    {
     "data": {
      "text/plain": [
       "0.58202947845804986"
      ]
     },
     "execution_count": 150,
     "metadata": {},
     "output_type": "execute_result"
    }
   ],
   "source": [
    "gs.best_score_\n"
   ]
  },
  {
   "cell_type": "code",
   "execution_count": 151,
   "metadata": {
    "collapsed": false
   },
   "outputs": [
    {
     "data": {
      "text/plain": [
       "{'max_depth': 5, 'n_estimators': 150}"
      ]
     },
     "execution_count": 151,
     "metadata": {},
     "output_type": "execute_result"
    }
   ],
   "source": [
    "gs.best_params_\n"
   ]
  },
  {
   "cell_type": "code",
   "execution_count": 195,
   "metadata": {
    "collapsed": true
   },
   "outputs": [],
   "source": [
    "datatest = pd.read_csv('/Users/Dongzhe/Desktop/cs249/hw6/data_science_job_test.csv')\n",
    "datat=datatest.get(['data','sql','hadoop','python','java','networking_tag','embedded_tag','machine_learning_tag','hacking_tag','javascript','linux','mongodb_tag','big_tag','amazon_web_services_tag','ruby','excel_tag','mysql','postgresql_tag'])"
   ]
  },
  {
   "cell_type": "code",
   "execution_count": 196,
   "metadata": {
    "collapsed": false
   },
   "outputs": [
    {
     "data": {
      "text/plain": [
       "(600, 18)"
      ]
     },
     "execution_count": 196,
     "metadata": {},
     "output_type": "execute_result"
    }
   ],
   "source": [
    "rf.fit(features_final,target)\n",
    "datat.shape"
   ]
  },
  {
   "cell_type": "code",
   "execution_count": 198,
   "metadata": {
    "collapsed": false
   },
   "outputs": [],
   "source": [
    "predicted_data=rf.predict(datat)\n"
   ]
  },
  {
   "cell_type": "code",
   "execution_count": 199,
   "metadata": {
    "collapsed": false
   },
   "outputs": [],
   "source": [
    "data_p=predicted_data.astype(int)"
   ]
  },
  {
   "cell_type": "code",
   "execution_count": 200,
   "metadata": {
    "collapsed": false
   },
   "outputs": [
    {
     "name": "stdout",
     "output_type": "stream",
     "text": [
      "[0 0 0 0 0 1 0 0 0 0 1 0 0 1 0 0 0 0 0 0 0 1 0 0 0 0 0 0 0 0 0 0 0 0 0 0 0\n",
      " 0 0 0 0 0 0 0 0 0 0 0 0 0 0 0 0 0 0 0 0 0 0 0 0 0 0 0 0 0 0 0 0 1 0 1 0 0\n",
      " 1 1 0 1 0 0 0 0 0 0 0 0 0 0 0 0 0 0 0 0 0 0 0 0 0 0 0 0 0 0 0 0 0 0 1 1 0\n",
      " 0 0 0 0 0 0 0 1 0 1 0 0 0 0 0 0 0 0 0 0 0 0 1 0 0 0 1 0 0 0 0 0 0 0 0 0 0\n",
      " 0 0 1 0 0 0 0 0 0 0 0 1 0 0 0 0 0 0 0 0 0 0 0 0 0 0 0 0 1 0 0 0 0 0 0 0 0\n",
      " 0 0 0 0 0 0 0 0 0 0 0 0 0 1 0 0 0 0 0 0 0 0 0 1 1 1 0 0 1 0 0 0 0 0 0 0 0\n",
      " 0 0 0 0 0 0 0 0 0 0 0 0 0 0 0 0 0 0 0 0 0 0 0 0 0 0 0 0 0 0 0 0 0 0 0 0 0\n",
      " 0 0 0 0 0 1 0 0 0 0 0 0 0 0 0 0 0 0 0 0 0 0 0 0 0 0 0 0 0 0 0 0 0 0 0 0 0\n",
      " 0 0 0 0 0 0 0 0 0 0 0 0 0 0 0 0 0 0 0 1 0 0 0 0 0 0 0 0 0 0 0 0 0 0 0 0 0\n",
      " 0 0 0 0 0 0 0 0 0 0 1 0 0 0 0 0 0 0 0 0 0 0 0 0 0 0 0 0 0 0 0 0 0 0 0 0 0\n",
      " 0 0 0 0 0 0 0 0 0 0 0 0 0 0 0 0 0 0 0 0 0 1 0 0 0 0 0 0 0 0 0 0 1 0 0 0 0\n",
      " 0 0 0 0 0 0 0 0 0 0 0 0 1 0 0 0 0 0 0 0 0 0 0 0 1 0 0 0 0 0 0 0 0 0 0 0 0\n",
      " 0 1 0 0 0 0 0 0 0 0 0 0 0 0 0 0 0 0 0 0 0 0 0 0 0 0 0 0 0 0 0 0 0 0 0 0 1\n",
      " 0 0 0 0 0 0 0 0 0 0 0 0 0 0 0 0 0 0 0 0 1 0 0 0 0 0 1 0 0 0 0 0 0 0 0 0 0\n",
      " 0 0 0 0 0 0 0 0 0 0 0 0 0 0 0 0 0 0 0 1 0 0 0 0 0 0 0 0 0 0 0 0 0 0 0 0 0\n",
      " 0 0 0 0 0 0 0 0 0 0 0 0 0 0 0 0 0 0 0 0 1 0 0 0 0 0 0 0 0 0 0 0 0 0 0 0 0\n",
      " 0 0 0 0 0 0 0 0]\n"
     ]
    },
    {
     "data": {
      "text/plain": [
       "(600,)"
      ]
     },
     "execution_count": 200,
     "metadata": {},
     "output_type": "execute_result"
    }
   ],
   "source": [
    "print(data_p)\n",
    "data_p.shape"
   ]
  },
  {
   "cell_type": "code",
   "execution_count": null,
   "metadata": {
    "collapsed": true
   },
   "outputs": [],
   "source": []
  }
 ],
 "metadata": {
  "kernelspec": {
   "display_name": "Python 2",
   "language": "python",
   "name": "python2"
  },
  "language_info": {
   "codemirror_mode": {
    "name": "ipython",
    "version": 2
   },
   "file_extension": ".py",
   "mimetype": "text/x-python",
   "name": "python",
   "nbconvert_exporter": "python",
   "pygments_lexer": "ipython2",
   "version": "2.7.9"
  }
 },
 "nbformat": 4,
 "nbformat_minor": 0
}
