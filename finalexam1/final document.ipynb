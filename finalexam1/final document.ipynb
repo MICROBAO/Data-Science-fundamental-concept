{
 "cells": [
  {
   "cell_type": "code",
   "execution_count": 1,
   "metadata": {
    "collapsed": false
   },
   "outputs": [
    {
     "name": "stdout",
     "output_type": "stream",
     "text": [
      "(417852, 802934)\n",
      "(417852,)\n",
      "(32301, 802934)\n",
      "(32301,)\n"
     ]
    }
   ],
   "source": [
    "#Dongzhe Li 104434089\n",
    "# We first load the data using the Python library \n",
    "from sklearn.datasets import load_svmlight_file\n",
    "import numpy as np\n",
    "\n",
    "# You might want to specify the exact path to locate your input files\n",
    "# Say, \"C:\\\\cs249\\\\train.txt\" for Windows users.\n",
    "\n",
    "x_train, y_train = load_svmlight_file('/Users/Dongzhe/Desktop/cs249/Final_Part01/Document_Classification/train.txt')\n",
    "x_test, y_test = load_svmlight_file('/Users/Dongzhe/Desktop/cs249/Final_Part01/Document_Classification/test.txt')\n",
    "\n",
    "print(x_train.shape)  # should output (417852, 802934)\n",
    "print(y_train.shape)  # should output (417852,)\n",
    "print(x_test.shape)   # should output (32301, 802934)\n",
    "print(y_test.shape)   # should output (32301,)"
   ]
  },
  {
   "cell_type": "code",
   "execution_count": 2,
   "metadata": {
    "collapsed": false
   },
   "outputs": [
    {
     "data": {
      "text/plain": [
       "<417852x802934 sparse matrix of type '<type 'numpy.float64'>'\n",
       "\twith 9095750 stored elements in Compressed Sparse Row format>"
      ]
     },
     "execution_count": 2,
     "metadata": {},
     "output_type": "execute_result"
    }
   ],
   "source": [
    "x_train"
   ]
  },
  {
   "cell_type": "code",
   "execution_count": 5,
   "metadata": {
    "collapsed": false
   },
   "outputs": [
    {
     "data": {
      "text/plain": [
       "array([ 0.,  0.,  0., ...,  1.,  1.,  1.])"
      ]
     },
     "execution_count": 5,
     "metadata": {},
     "output_type": "execute_result"
    }
   ],
   "source": [
    "from sklearn.naive_bayes import MultinomialNB\n",
    "from sklearn.metrics import accuracy_score\n",
    "from sklearn.metrics import confusion_matrix\n",
    "\n",
    "clf_NB = MultinomialNB()\n",
    "clf_NB.fit(x_train, y_train)\n",
    "y_train_pred_NB = clf_NB.predict(x_train)\n",
    "y_train_pred_NB"
   ]
  },
  {
   "cell_type": "code",
   "execution_count": 6,
   "metadata": {
    "collapsed": false
   },
   "outputs": [
    {
     "data": {
      "text/plain": [
       "0.91090386069708895"
      ]
     },
     "execution_count": 6,
     "metadata": {},
     "output_type": "execute_result"
    }
   ],
   "source": [
    "accuracy_score(y_train, y_train_pred_NB) \n"
   ]
  },
  {
   "cell_type": "code",
   "execution_count": 9,
   "metadata": {
    "collapsed": false
   },
   "outputs": [],
   "source": [
    "from sklearn.linear_model import LogisticRegression\n",
    "\n",
    "logreg = LogisticRegression(C=1)\n",
    "logreg.fit(x_train, y_train)\n",
    "\n",
    "y_train_pred_NB = logreg.predict(x_train)\n"
   ]
  },
  {
   "cell_type": "code",
   "execution_count": null,
   "metadata": {
    "collapsed": true
   },
   "outputs": [],
   "source": [
    "from sklearn import svm\n",
    "clf_svm = svm.SVR()\n",
    "clf_svm.fit(x_train, y_train)\n",
    "#this method take much long time and it is not quite suiting this problem \n",
    "#the logisticregression is the highest and most suitable model to fit so far"
   ]
  },
  {
   "cell_type": "code",
   "execution_count": 12,
   "metadata": {
    "collapsed": true
   },
   "outputs": [],
   "source": [
    "# you can use the following code to generate output that is acceptable by Mooshak:\n",
    "\n",
    "# generate the test labels\n",
    "y_test_pred_NB = logreg.predict(x_test)                    \n",
    "\n",
    "output_str = \"\\n\".join(map(str,y_test_pred_NB.astype(int))) \n",
    "\n",
    "# You might want to specify the exact path to output your text file\n",
    "# Say, \"C:\\\\cs249\\\\output_label.txt\" for Windows users.\n",
    "f = open('/Users/Dongzhe/Desktop/cs249/Final_Part01/Document_Classification/output_label.txt', 'w') \n",
    "\n",
    "f.write(output_str);\n",
    "f.close()\n"
   ]
  },
  {
   "cell_type": "code",
   "execution_count": null,
   "metadata": {
    "collapsed": true
   },
   "outputs": [],
   "source": []
  }
 ],
 "metadata": {
  "kernelspec": {
   "display_name": "Python 2",
   "language": "python",
   "name": "python2"
  },
  "language_info": {
   "codemirror_mode": {
    "name": "ipython",
    "version": 2
   },
   "file_extension": ".py",
   "mimetype": "text/x-python",
   "name": "python",
   "nbconvert_exporter": "python",
   "pygments_lexer": "ipython2",
   "version": "2.7.9"
  }
 },
 "nbformat": 4,
 "nbformat_minor": 0
}
